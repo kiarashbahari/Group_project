{
 "cells": [
  {
   "cell_type": "markdown",
   "id": "1317667c-2c7b-49ca-ad92-f82582aea18d",
   "metadata": {},
   "source": [
    "# Predicting Heart Disease for Patients with Atypical Angina (ATA) Symptoms\n"
   ]
  },
  {
   "cell_type": "markdown",
   "id": "1e39b60e-5a30-4f59-9bef-8a03b3d0b48a",
   "metadata": {
    "tags": []
   },
   "source": [
    "## Introduction\n",
    "Heart disease is a disease that refers to several types of heart conditions, which is the main cause of death in the USA for most of racial and ethnic groups (1). The main risk factors for heart disease are high blood pressure, high blood cholesterol, smoking, and age. Some of the common heart disease symptoms are chest pain, irregular heartbeats (heart beats too fast or too slow or irregularly), Pain in the back, and shortness of breath. Moreover, chest pain has different classes such as Typical Angina (TA), Atypical Angina (ATA), Non-Anginal Pain (NAP), and Asymptomatic (ASY). Atypical Angina (ATA) chest pain is any chest pain that does not meet criteria for a common or obvious diagnosis (3), and 14% of ATA chest pain leads to heart disease. \n",
    "\n",
    "#### Question: \n",
    "   Can we use the Age, resting blood pressure (normal blood pressure when body is at rest), maximum heart rate achieved, and blood cholesterol level (provided by the dataset), to predict if a patient with ATA has heart disease? \n",
    "   \n",
    "   To answer this question, we will use the “Heart Failure Prediction Dataset”. This dataset contains 11 variables, which Age, RestingBP, Cholesterol, MaxHR variables will be used to predict the heart disease status (1 = heart disease and 0 = normal). \n"
   ]
  },
  {
   "cell_type": "markdown",
   "id": "06137a7b-987e-4cdf-9bbc-85a497ee9ecb",
   "metadata": {},
   "source": [
    "## Preliminary exploraty data analysis"
   ]
  },
  {
   "cell_type": "code",
   "execution_count": null,
   "id": "7ab1a35e-b7a2-473d-8804-a992217d2449",
   "metadata": {},
   "outputs": [],
   "source": [
    "### Loading Libraries into R\n",
    "library(tidyverse)\n",
    "library(repr)\n",
    "library(tidymodels)\n",
    "options(repr.matrix.max.rows = 6)\n",
    "source('tests.R')\n",
    "source('cleanup.R')"
   ]
  },
  {
   "cell_type": "code",
   "execution_count": 11,
   "id": "0d981594-01af-4644-88cd-79b2f36fab9c",
   "metadata": {},
   "outputs": [
    {
     "name": "stderr",
     "output_type": "stream",
     "text": [
      "\u001b[1mRows: \u001b[22m\u001b[34m918\u001b[39m \u001b[1mColumns: \u001b[22m\u001b[34m12\u001b[39m\n",
      "\u001b[36m──\u001b[39m \u001b[1mColumn specification\u001b[22m \u001b[36m────────────────────────────────────────────────────────\u001b[39m\n",
      "\u001b[1mDelimiter:\u001b[22m \",\"\n",
      "\u001b[31mchr\u001b[39m (5): Sex, ChestPainType, RestingECG, ExerciseAngina, ST_Slope\n",
      "\u001b[32mdbl\u001b[39m (7): Age, RestingBP, Cholesterol, FastingBS, MaxHR, Oldpeak, HeartDisease\n",
      "\n",
      "\u001b[36mℹ\u001b[39m Use `spec()` to retrieve the full column specification for this data.\n",
      "\u001b[36mℹ\u001b[39m Specify the column types or set `show_col_types = FALSE` to quiet this message.\n"
     ]
    },
    {
     "data": {
      "text/html": [
       "<table class=\"dataframe\">\n",
       "<caption>A tibble: 918 × 12</caption>\n",
       "<thead>\n",
       "\t<tr><th scope=col>Age</th><th scope=col>Sex</th><th scope=col>ChestPainType</th><th scope=col>RestingBP</th><th scope=col>Cholesterol</th><th scope=col>FastingBS</th><th scope=col>RestingECG</th><th scope=col>MaxHR</th><th scope=col>ExerciseAngina</th><th scope=col>Oldpeak</th><th scope=col>ST_Slope</th><th scope=col>HeartDisease</th></tr>\n",
       "\t<tr><th scope=col>&lt;dbl&gt;</th><th scope=col>&lt;chr&gt;</th><th scope=col>&lt;chr&gt;</th><th scope=col>&lt;dbl&gt;</th><th scope=col>&lt;dbl&gt;</th><th scope=col>&lt;dbl&gt;</th><th scope=col>&lt;chr&gt;</th><th scope=col>&lt;dbl&gt;</th><th scope=col>&lt;chr&gt;</th><th scope=col>&lt;dbl&gt;</th><th scope=col>&lt;chr&gt;</th><th scope=col>&lt;fct&gt;</th></tr>\n",
       "</thead>\n",
       "<tbody>\n",
       "\t<tr><td>40</td><td>M</td><td>ATA</td><td>140</td><td>289</td><td>0</td><td>Normal</td><td>172</td><td>N</td><td>0</td><td>Up  </td><td>0</td></tr>\n",
       "\t<tr><td>49</td><td>F</td><td>NAP</td><td>160</td><td>180</td><td>0</td><td>Normal</td><td>156</td><td>N</td><td>1</td><td>Flat</td><td>1</td></tr>\n",
       "\t<tr><td>37</td><td>M</td><td>ATA</td><td>130</td><td>283</td><td>0</td><td>ST    </td><td> 98</td><td>N</td><td>0</td><td>Up  </td><td>0</td></tr>\n",
       "\t<tr><td>⋮</td><td>⋮</td><td>⋮</td><td>⋮</td><td>⋮</td><td>⋮</td><td>⋮</td><td>⋮</td><td>⋮</td><td>⋮</td><td>⋮</td><td>⋮</td></tr>\n",
       "\t<tr><td>57</td><td>M</td><td>ASY</td><td>130</td><td>131</td><td>0</td><td>Normal</td><td>115</td><td>Y</td><td>1.2</td><td>Flat</td><td>1</td></tr>\n",
       "\t<tr><td>57</td><td>F</td><td>ATA</td><td>130</td><td>236</td><td>0</td><td>LVH   </td><td>174</td><td>N</td><td>0.0</td><td>Flat</td><td>1</td></tr>\n",
       "\t<tr><td>38</td><td>M</td><td>NAP</td><td>138</td><td>175</td><td>0</td><td>Normal</td><td>173</td><td>N</td><td>0.0</td><td>Up  </td><td>0</td></tr>\n",
       "</tbody>\n",
       "</table>\n"
      ],
      "text/latex": [
       "A tibble: 918 × 12\n",
       "\\begin{tabular}{llllllllllll}\n",
       " Age & Sex & ChestPainType & RestingBP & Cholesterol & FastingBS & RestingECG & MaxHR & ExerciseAngina & Oldpeak & ST\\_Slope & HeartDisease\\\\\n",
       " <dbl> & <chr> & <chr> & <dbl> & <dbl> & <dbl> & <chr> & <dbl> & <chr> & <dbl> & <chr> & <fct>\\\\\n",
       "\\hline\n",
       "\t 40 & M & ATA & 140 & 289 & 0 & Normal & 172 & N & 0 & Up   & 0\\\\\n",
       "\t 49 & F & NAP & 160 & 180 & 0 & Normal & 156 & N & 1 & Flat & 1\\\\\n",
       "\t 37 & M & ATA & 130 & 283 & 0 & ST     &  98 & N & 0 & Up   & 0\\\\\n",
       "\t ⋮ & ⋮ & ⋮ & ⋮ & ⋮ & ⋮ & ⋮ & ⋮ & ⋮ & ⋮ & ⋮ & ⋮\\\\\n",
       "\t 57 & M & ASY & 130 & 131 & 0 & Normal & 115 & Y & 1.2 & Flat & 1\\\\\n",
       "\t 57 & F & ATA & 130 & 236 & 0 & LVH    & 174 & N & 0.0 & Flat & 1\\\\\n",
       "\t 38 & M & NAP & 138 & 175 & 0 & Normal & 173 & N & 0.0 & Up   & 0\\\\\n",
       "\\end{tabular}\n"
      ],
      "text/markdown": [
       "\n",
       "A tibble: 918 × 12\n",
       "\n",
       "| Age &lt;dbl&gt; | Sex &lt;chr&gt; | ChestPainType &lt;chr&gt; | RestingBP &lt;dbl&gt; | Cholesterol &lt;dbl&gt; | FastingBS &lt;dbl&gt; | RestingECG &lt;chr&gt; | MaxHR &lt;dbl&gt; | ExerciseAngina &lt;chr&gt; | Oldpeak &lt;dbl&gt; | ST_Slope &lt;chr&gt; | HeartDisease &lt;fct&gt; |\n",
       "|---|---|---|---|---|---|---|---|---|---|---|---|\n",
       "| 40 | M | ATA | 140 | 289 | 0 | Normal | 172 | N | 0 | Up   | 0 |\n",
       "| 49 | F | NAP | 160 | 180 | 0 | Normal | 156 | N | 1 | Flat | 1 |\n",
       "| 37 | M | ATA | 130 | 283 | 0 | ST     |  98 | N | 0 | Up   | 0 |\n",
       "| ⋮ | ⋮ | ⋮ | ⋮ | ⋮ | ⋮ | ⋮ | ⋮ | ⋮ | ⋮ | ⋮ | ⋮ |\n",
       "| 57 | M | ASY | 130 | 131 | 0 | Normal | 115 | Y | 1.2 | Flat | 1 |\n",
       "| 57 | F | ATA | 130 | 236 | 0 | LVH    | 174 | N | 0.0 | Flat | 1 |\n",
       "| 38 | M | NAP | 138 | 175 | 0 | Normal | 173 | N | 0.0 | Up   | 0 |\n",
       "\n"
      ],
      "text/plain": [
       "    Age Sex ChestPainType RestingBP Cholesterol FastingBS RestingECG MaxHR\n",
       "1   40  M   ATA           140       289         0         Normal     172  \n",
       "2   49  F   NAP           160       180         0         Normal     156  \n",
       "3   37  M   ATA           130       283         0         ST          98  \n",
       "⋮   ⋮   ⋮   ⋮             ⋮         ⋮           ⋮         ⋮          ⋮    \n",
       "916 57  M   ASY           130       131         0         Normal     115  \n",
       "917 57  F   ATA           130       236         0         LVH        174  \n",
       "918 38  M   NAP           138       175         0         Normal     173  \n",
       "    ExerciseAngina Oldpeak ST_Slope HeartDisease\n",
       "1   N              0       Up       0           \n",
       "2   N              1       Flat     1           \n",
       "3   N              0       Up       0           \n",
       "⋮   ⋮              ⋮       ⋮        ⋮           \n",
       "916 Y              1.2     Flat     1           \n",
       "917 N              0.0     Flat     1           \n",
       "918 N              0.0     Up       0           "
      ]
     },
     "metadata": {},
     "output_type": "display_data"
    }
   ],
   "source": [
    "#reading data, all columns included, no need for skipping \n",
    "#data is tidy \n",
    "data <- read_csv(\"data/heart.csv\")\n",
    "data <- data|>\n",
    "        mutate(HeartDisease = as.factor(HeartDisease))\n",
    "data"
   ]
  },
  {
   "cell_type": "markdown",
   "id": "e63efeac-d417-4322-aee5-46584ad91ddd",
   "metadata": {},
   "source": [
    "## Variable Explanation \n",
    "\n",
    "Age: age of the patient [years]\n",
    "\n",
    "Sex: sex of the patient [M: Male, F: Female]\n",
    "\n",
    "ChestPainType: chest pain type [TA: Typical Angina, ATA: Atypical Angina, NAP: Non-Anginal Pain, ASY: Asymptomatic]\n",
    "\n",
    "RestingBP: resting blood pressure [mm Hg]\n",
    "Cholesterol: serum cholesterol [mm/dl]\n",
    "\n",
    "FastingBS: fasting blood sugar [1: if FastingBS > 120 mg/dl, 0: otherwise]\n",
    "\n",
    "RestingECG: resting electrocardiogram results [Normal: Normal, ST: having ST-T wave abnormality (T wave inversions and/or ST elevation or depression of > 0.05 mV), LVH: showing probable or definite left ventricular hypertrophy by Estes' criteria]\n",
    "\n",
    "MaxHR: maximum heart rate achieved [Numeric value between 60 and 202]\n",
    "ExerciseAngina: exercise-induced angina [Y: Yes, N: No]\n",
    "\n",
    "Oldpeak: oldpeak = ST [Numeric value measured in depression]\n",
    "\n",
    "ST_Slope: the slope of the peak exercise ST segment [Up: upsloping, Flat: flat, Down: downsloping]\n",
    "\n",
    "HeartDisease: output class [1: heart disease, 0: Normal]"
   ]
  },
  {
   "cell_type": "markdown",
   "id": "3e05de58-e151-4ac0-8601-198e20b0ac29",
   "metadata": {},
   "source": [
    "### Cleaning the data \n",
    "Filtering for ATA chest pain since we are interested in predicting the status of heart disease for patients with this symptom. Selecting for these following numerical variables: \n",
    "age, resting blood pressure (mmHg), maximum heart rate, and serum cholesterol level (mm/dl)"
   ]
  },
  {
   "cell_type": "code",
   "execution_count": 12,
   "id": "d19ff075-a2e9-4e5f-97a7-724c6fcd40e6",
   "metadata": {},
   "outputs": [
    {
     "data": {
      "text/html": [
       "<table class=\"dataframe\">\n",
       "<caption>A tibble: 173 × 5</caption>\n",
       "<thead>\n",
       "\t<tr><th scope=col>Age</th><th scope=col>RestingBP</th><th scope=col>Cholesterol</th><th scope=col>MaxHR</th><th scope=col>HeartDisease</th></tr>\n",
       "\t<tr><th scope=col>&lt;dbl&gt;</th><th scope=col>&lt;dbl&gt;</th><th scope=col>&lt;dbl&gt;</th><th scope=col>&lt;dbl&gt;</th><th scope=col>&lt;fct&gt;</th></tr>\n",
       "</thead>\n",
       "<tbody>\n",
       "\t<tr><td>40</td><td>140</td><td>289</td><td>172</td><td>0</td></tr>\n",
       "\t<tr><td>37</td><td>130</td><td>283</td><td> 98</td><td>0</td></tr>\n",
       "\t<tr><td>45</td><td>130</td><td>237</td><td>170</td><td>0</td></tr>\n",
       "\t<tr><td>⋮</td><td>⋮</td><td>⋮</td><td>⋮</td><td>⋮</td></tr>\n",
       "\t<tr><td>55</td><td>132</td><td>342</td><td>166</td><td>0</td></tr>\n",
       "\t<tr><td>41</td><td>120</td><td>157</td><td>182</td><td>0</td></tr>\n",
       "\t<tr><td>57</td><td>130</td><td>236</td><td>174</td><td>1</td></tr>\n",
       "</tbody>\n",
       "</table>\n"
      ],
      "text/latex": [
       "A tibble: 173 × 5\n",
       "\\begin{tabular}{lllll}\n",
       " Age & RestingBP & Cholesterol & MaxHR & HeartDisease\\\\\n",
       " <dbl> & <dbl> & <dbl> & <dbl> & <fct>\\\\\n",
       "\\hline\n",
       "\t 40 & 140 & 289 & 172 & 0\\\\\n",
       "\t 37 & 130 & 283 &  98 & 0\\\\\n",
       "\t 45 & 130 & 237 & 170 & 0\\\\\n",
       "\t ⋮ & ⋮ & ⋮ & ⋮ & ⋮\\\\\n",
       "\t 55 & 132 & 342 & 166 & 0\\\\\n",
       "\t 41 & 120 & 157 & 182 & 0\\\\\n",
       "\t 57 & 130 & 236 & 174 & 1\\\\\n",
       "\\end{tabular}\n"
      ],
      "text/markdown": [
       "\n",
       "A tibble: 173 × 5\n",
       "\n",
       "| Age &lt;dbl&gt; | RestingBP &lt;dbl&gt; | Cholesterol &lt;dbl&gt; | MaxHR &lt;dbl&gt; | HeartDisease &lt;fct&gt; |\n",
       "|---|---|---|---|---|\n",
       "| 40 | 140 | 289 | 172 | 0 |\n",
       "| 37 | 130 | 283 |  98 | 0 |\n",
       "| 45 | 130 | 237 | 170 | 0 |\n",
       "| ⋮ | ⋮ | ⋮ | ⋮ | ⋮ |\n",
       "| 55 | 132 | 342 | 166 | 0 |\n",
       "| 41 | 120 | 157 | 182 | 0 |\n",
       "| 57 | 130 | 236 | 174 | 1 |\n",
       "\n"
      ],
      "text/plain": [
       "    Age RestingBP Cholesterol MaxHR HeartDisease\n",
       "1   40  140       289         172   0           \n",
       "2   37  130       283          98   0           \n",
       "3   45  130       237         170   0           \n",
       "⋮   ⋮   ⋮         ⋮           ⋮     ⋮           \n",
       "171 55  132       342         166   0           \n",
       "172 41  120       157         182   0           \n",
       "173 57  130       236         174   1           "
      ]
     },
     "metadata": {},
     "output_type": "display_data"
    }
   ],
   "source": [
    "data_cleaned <- data|>\n",
    "        filter(ChestPainType== \"ATA\")|>\n",
    "        select(Age, RestingBP, Cholesterol, MaxHR, HeartDisease)\n",
    "data_cleaned"
   ]
  },
  {
   "cell_type": "markdown",
   "id": "d85ad7a6-1326-4b32-b7e3-5b8dac26e1d3",
   "metadata": {},
   "source": [
    "## Spliting data\n",
    "spliting the data into training set and testing set, 75% of the data in the training set"
   ]
  },
  {
   "cell_type": "code",
   "execution_count": 5,
   "id": "8927e8da-3fe4-4d98-9102-b7e861c6d8a3",
   "metadata": {},
   "outputs": [
    {
     "data": {
      "text/html": [
       "<table class=\"dataframe\">\n",
       "<caption>A tibble: 129 × 5</caption>\n",
       "<thead>\n",
       "\t<tr><th scope=col>Age</th><th scope=col>RestingBP</th><th scope=col>Cholesterol</th><th scope=col>MaxHR</th><th scope=col>HeartDisease</th></tr>\n",
       "\t<tr><th scope=col>&lt;dbl&gt;</th><th scope=col>&lt;dbl&gt;</th><th scope=col>&lt;dbl&gt;</th><th scope=col>&lt;dbl&gt;</th><th scope=col>&lt;fct&gt;</th></tr>\n",
       "</thead>\n",
       "<tbody>\n",
       "\t<tr><td>37</td><td>130</td><td>283</td><td> 98</td><td>0</td></tr>\n",
       "\t<tr><td>45</td><td>130</td><td>237</td><td>170</td><td>0</td></tr>\n",
       "\t<tr><td>54</td><td>110</td><td>208</td><td>142</td><td>0</td></tr>\n",
       "\t<tr><td>⋮</td><td>⋮</td><td>⋮</td><td>⋮</td><td>⋮</td></tr>\n",
       "\t<tr><td>54</td><td>192</td><td>283</td><td>195</td><td>1</td></tr>\n",
       "\t<tr><td>58</td><td>120</td><td>284</td><td>160</td><td>1</td></tr>\n",
       "\t<tr><td>57</td><td>130</td><td>236</td><td>174</td><td>1</td></tr>\n",
       "</tbody>\n",
       "</table>\n"
      ],
      "text/latex": [
       "A tibble: 129 × 5\n",
       "\\begin{tabular}{lllll}\n",
       " Age & RestingBP & Cholesterol & MaxHR & HeartDisease\\\\\n",
       " <dbl> & <dbl> & <dbl> & <dbl> & <fct>\\\\\n",
       "\\hline\n",
       "\t 37 & 130 & 283 &  98 & 0\\\\\n",
       "\t 45 & 130 & 237 & 170 & 0\\\\\n",
       "\t 54 & 110 & 208 & 142 & 0\\\\\n",
       "\t ⋮ & ⋮ & ⋮ & ⋮ & ⋮\\\\\n",
       "\t 54 & 192 & 283 & 195 & 1\\\\\n",
       "\t 58 & 120 & 284 & 160 & 1\\\\\n",
       "\t 57 & 130 & 236 & 174 & 1\\\\\n",
       "\\end{tabular}\n"
      ],
      "text/markdown": [
       "\n",
       "A tibble: 129 × 5\n",
       "\n",
       "| Age &lt;dbl&gt; | RestingBP &lt;dbl&gt; | Cholesterol &lt;dbl&gt; | MaxHR &lt;dbl&gt; | HeartDisease &lt;fct&gt; |\n",
       "|---|---|---|---|---|\n",
       "| 37 | 130 | 283 |  98 | 0 |\n",
       "| 45 | 130 | 237 | 170 | 0 |\n",
       "| 54 | 110 | 208 | 142 | 0 |\n",
       "| ⋮ | ⋮ | ⋮ | ⋮ | ⋮ |\n",
       "| 54 | 192 | 283 | 195 | 1 |\n",
       "| 58 | 120 | 284 | 160 | 1 |\n",
       "| 57 | 130 | 236 | 174 | 1 |\n",
       "\n"
      ],
      "text/plain": [
       "    Age RestingBP Cholesterol MaxHR HeartDisease\n",
       "1   37  130       283          98   0           \n",
       "2   45  130       237         170   0           \n",
       "3   54  110       208         142   0           \n",
       "⋮   ⋮   ⋮         ⋮           ⋮     ⋮           \n",
       "127 54  192       283         195   1           \n",
       "128 58  120       284         160   1           \n",
       "129 57  130       236         174   1           "
      ]
     },
     "metadata": {},
     "output_type": "display_data"
    },
    {
     "data": {
      "text/html": [
       "<table class=\"dataframe\">\n",
       "<caption>A tibble: 44 × 5</caption>\n",
       "<thead>\n",
       "\t<tr><th scope=col>Age</th><th scope=col>RestingBP</th><th scope=col>Cholesterol</th><th scope=col>MaxHR</th><th scope=col>HeartDisease</th></tr>\n",
       "\t<tr><th scope=col>&lt;dbl&gt;</th><th scope=col>&lt;dbl&gt;</th><th scope=col>&lt;dbl&gt;</th><th scope=col>&lt;dbl&gt;</th><th scope=col>&lt;fct&gt;</th></tr>\n",
       "</thead>\n",
       "<tbody>\n",
       "\t<tr><td>40</td><td>140</td><td>289</td><td>172</td><td>0</td></tr>\n",
       "\t<tr><td>39</td><td>120</td><td>204</td><td>145</td><td>0</td></tr>\n",
       "\t<tr><td>54</td><td>120</td><td>273</td><td>150</td><td>0</td></tr>\n",
       "\t<tr><td>⋮</td><td>⋮</td><td>⋮</td><td>⋮</td><td>⋮</td></tr>\n",
       "\t<tr><td>56</td><td>140</td><td>294</td><td>153</td><td>0</td></tr>\n",
       "\t<tr><td>57</td><td>154</td><td>232</td><td>164</td><td>1</td></tr>\n",
       "\t<tr><td>35</td><td>122</td><td>192</td><td>174</td><td>0</td></tr>\n",
       "</tbody>\n",
       "</table>\n"
      ],
      "text/latex": [
       "A tibble: 44 × 5\n",
       "\\begin{tabular}{lllll}\n",
       " Age & RestingBP & Cholesterol & MaxHR & HeartDisease\\\\\n",
       " <dbl> & <dbl> & <dbl> & <dbl> & <fct>\\\\\n",
       "\\hline\n",
       "\t 40 & 140 & 289 & 172 & 0\\\\\n",
       "\t 39 & 120 & 204 & 145 & 0\\\\\n",
       "\t 54 & 120 & 273 & 150 & 0\\\\\n",
       "\t ⋮ & ⋮ & ⋮ & ⋮ & ⋮\\\\\n",
       "\t 56 & 140 & 294 & 153 & 0\\\\\n",
       "\t 57 & 154 & 232 & 164 & 1\\\\\n",
       "\t 35 & 122 & 192 & 174 & 0\\\\\n",
       "\\end{tabular}\n"
      ],
      "text/markdown": [
       "\n",
       "A tibble: 44 × 5\n",
       "\n",
       "| Age &lt;dbl&gt; | RestingBP &lt;dbl&gt; | Cholesterol &lt;dbl&gt; | MaxHR &lt;dbl&gt; | HeartDisease &lt;fct&gt; |\n",
       "|---|---|---|---|---|\n",
       "| 40 | 140 | 289 | 172 | 0 |\n",
       "| 39 | 120 | 204 | 145 | 0 |\n",
       "| 54 | 120 | 273 | 150 | 0 |\n",
       "| ⋮ | ⋮ | ⋮ | ⋮ | ⋮ |\n",
       "| 56 | 140 | 294 | 153 | 0 |\n",
       "| 57 | 154 | 232 | 164 | 1 |\n",
       "| 35 | 122 | 192 | 174 | 0 |\n",
       "\n"
      ],
      "text/plain": [
       "   Age RestingBP Cholesterol MaxHR HeartDisease\n",
       "1  40  140       289         172   0           \n",
       "2  39  120       204         145   0           \n",
       "3  54  120       273         150   0           \n",
       "⋮  ⋮   ⋮         ⋮           ⋮     ⋮           \n",
       "42 56  140       294         153   0           \n",
       "43 57  154       232         164   1           \n",
       "44 35  122       192         174   0           "
      ]
     },
     "metadata": {},
     "output_type": "display_data"
    }
   ],
   "source": [
    "### spliting the data into training set and testing set, 75% of the data in the training set\n",
    "data_split <- initial_split(data_cleaned, prop = 0.75, strata = HeartDisease) \n",
    "data_train <- training(data_split)   \n",
    "data_test <- testing(data_split)\n",
    "data_train\n",
    "data_test"
   ]
  },
  {
   "cell_type": "markdown",
   "id": "6b76c815-9081-4e47-857c-bc8363e82f80",
   "metadata": {},
   "source": [
    "## Table"
   ]
  },
  {
   "cell_type": "code",
   "execution_count": 6,
   "id": "34361cb3-efd9-4cb5-b1da-9e007ad973de",
   "metadata": {},
   "outputs": [
    {
     "data": {
      "text/html": [
       "<table class=\"dataframe\">\n",
       "<caption>A tibble: 0 × 2</caption>\n",
       "<thead>\n",
       "\t<tr><th scope=col>HeartDisease</th><th scope=col>n</th></tr>\n",
       "\t<tr><th scope=col>&lt;fct&gt;</th><th scope=col>&lt;int&gt;</th></tr>\n",
       "</thead>\n",
       "<tbody>\n",
       "</tbody>\n",
       "</table>\n"
      ],
      "text/latex": [
       "A tibble: 0 × 2\n",
       "\\begin{tabular}{ll}\n",
       " HeartDisease & n\\\\\n",
       " <fct> & <int>\\\\\n",
       "\\hline\n",
       "\\end{tabular}\n"
      ],
      "text/markdown": [
       "\n",
       "A tibble: 0 × 2\n",
       "\n",
       "| HeartDisease &lt;fct&gt; | n &lt;int&gt; |\n",
       "|---|---|\n",
       "\n"
      ],
      "text/plain": [
       "     HeartDisease n"
      ]
     },
     "metadata": {},
     "output_type": "display_data"
    }
   ],
   "source": [
    "na_heart <- data_train|>\n",
    "        filter(HeartDisease=NA)|>\n",
    "        group_by(HeartDisease)|>\n",
    "        summarize(n=n())\n",
    "na_heart"
   ]
  },
  {
   "cell_type": "markdown",
   "id": "3bf15348-4d4d-4980-a965-8968e6bf2a81",
   "metadata": {},
   "source": [
    "None of the rows have a missing data within our data set."
   ]
  },
  {
   "cell_type": "code",
   "execution_count": 7,
   "id": "0c7a8e6d-9c04-4566-bc17-eddfe3708a3e",
   "metadata": {},
   "outputs": [
    {
     "data": {
      "text/html": [
       "<table class=\"dataframe\">\n",
       "<caption>A data.frame: 2 × 6</caption>\n",
       "<thead>\n",
       "\t<tr><th scope=col>HeartDisease</th><th scope=col>Avg_Age</th><th scope=col>Avg_RestingBP</th><th scope=col>Avg_Cholesterol</th><th scope=col>Avg_MaxHR</th><th scope=col>Observation</th></tr>\n",
       "\t<tr><th scope=col>&lt;fct&gt;</th><th scope=col>&lt;dbl&gt;</th><th scope=col>&lt;dbl&gt;</th><th scope=col>&lt;dbl&gt;</th><th scope=col>&lt;dbl&gt;</th><th scope=col>&lt;int&gt;</th></tr>\n",
       "</thead>\n",
       "<tbody>\n",
       "\t<tr><td>0</td><td>48.25225</td><td>129.2252</td><td>233.3333</td><td>151.8108</td><td>111</td></tr>\n",
       "\t<tr><td>1</td><td>55.61111</td><td>143.7778</td><td>225.5000</td><td>137.6111</td><td> 18</td></tr>\n",
       "</tbody>\n",
       "</table>\n"
      ],
      "text/latex": [
       "A data.frame: 2 × 6\n",
       "\\begin{tabular}{llllll}\n",
       " HeartDisease & Avg\\_Age & Avg\\_RestingBP & Avg\\_Cholesterol & Avg\\_MaxHR & Observation\\\\\n",
       " <fct> & <dbl> & <dbl> & <dbl> & <dbl> & <int>\\\\\n",
       "\\hline\n",
       "\t 0 & 48.25225 & 129.2252 & 233.3333 & 151.8108 & 111\\\\\n",
       "\t 1 & 55.61111 & 143.7778 & 225.5000 & 137.6111 &  18\\\\\n",
       "\\end{tabular}\n"
      ],
      "text/markdown": [
       "\n",
       "A data.frame: 2 × 6\n",
       "\n",
       "| HeartDisease &lt;fct&gt; | Avg_Age &lt;dbl&gt; | Avg_RestingBP &lt;dbl&gt; | Avg_Cholesterol &lt;dbl&gt; | Avg_MaxHR &lt;dbl&gt; | Observation &lt;int&gt; |\n",
       "|---|---|---|---|---|---|\n",
       "| 0 | 48.25225 | 129.2252 | 233.3333 | 151.8108 | 111 |\n",
       "| 1 | 55.61111 | 143.7778 | 225.5000 | 137.6111 |  18 |\n",
       "\n"
      ],
      "text/plain": [
       "  HeartDisease Avg_Age  Avg_RestingBP Avg_Cholesterol Avg_MaxHR Observation\n",
       "1 0            48.25225 129.2252      233.3333        151.8108  111        \n",
       "2 1            55.61111 143.7778      225.5000        137.6111   18        "
      ]
     },
     "metadata": {},
     "output_type": "display_data"
    },
    {
     "data": {
      "text/html": [
       "<table class=\"dataframe\">\n",
       "<caption>A data.frame: 2 × 6</caption>\n",
       "<thead>\n",
       "\t<tr><th scope=col>HeartDisease</th><th scope=col>max_Age</th><th scope=col>max_RestingBP</th><th scope=col>max_Cholesterol</th><th scope=col>max_MaxHR</th><th scope=col>Observation</th></tr>\n",
       "\t<tr><th scope=col>&lt;fct&gt;</th><th scope=col>&lt;dbl&gt;</th><th scope=col>&lt;dbl&gt;</th><th scope=col>&lt;dbl&gt;</th><th scope=col>&lt;dbl&gt;</th><th scope=col>&lt;int&gt;</th></tr>\n",
       "</thead>\n",
       "<tbody>\n",
       "\t<tr><td>0</td><td>70</td><td>190</td><td>468</td><td>192</td><td>111</td></tr>\n",
       "\t<tr><td>1</td><td>74</td><td>192</td><td>393</td><td>195</td><td> 18</td></tr>\n",
       "</tbody>\n",
       "</table>\n"
      ],
      "text/latex": [
       "A data.frame: 2 × 6\n",
       "\\begin{tabular}{llllll}\n",
       " HeartDisease & max\\_Age & max\\_RestingBP & max\\_Cholesterol & max\\_MaxHR & Observation\\\\\n",
       " <fct> & <dbl> & <dbl> & <dbl> & <dbl> & <int>\\\\\n",
       "\\hline\n",
       "\t 0 & 70 & 190 & 468 & 192 & 111\\\\\n",
       "\t 1 & 74 & 192 & 393 & 195 &  18\\\\\n",
       "\\end{tabular}\n"
      ],
      "text/markdown": [
       "\n",
       "A data.frame: 2 × 6\n",
       "\n",
       "| HeartDisease &lt;fct&gt; | max_Age &lt;dbl&gt; | max_RestingBP &lt;dbl&gt; | max_Cholesterol &lt;dbl&gt; | max_MaxHR &lt;dbl&gt; | Observation &lt;int&gt; |\n",
       "|---|---|---|---|---|---|\n",
       "| 0 | 70 | 190 | 468 | 192 | 111 |\n",
       "| 1 | 74 | 192 | 393 | 195 |  18 |\n",
       "\n"
      ],
      "text/plain": [
       "  HeartDisease max_Age max_RestingBP max_Cholesterol max_MaxHR Observation\n",
       "1 0            70      190           468             192       111        \n",
       "2 1            74      192           393             195        18        "
      ]
     },
     "metadata": {},
     "output_type": "display_data"
    },
    {
     "data": {
      "text/html": [
       "<table class=\"dataframe\">\n",
       "<caption>A data.frame: 2 × 6</caption>\n",
       "<thead>\n",
       "\t<tr><th scope=col>HeartDisease</th><th scope=col>min_Age</th><th scope=col>min_RestingBP</th><th scope=col>min_Cholesterol</th><th scope=col>min_MaxHR</th><th scope=col>Observation</th></tr>\n",
       "\t<tr><th scope=col>&lt;fct&gt;</th><th scope=col>&lt;dbl&gt;</th><th scope=col>&lt;dbl&gt;</th><th scope=col>&lt;dbl&gt;</th><th scope=col>&lt;dbl&gt;</th><th scope=col>&lt;int&gt;</th></tr>\n",
       "</thead>\n",
       "<tbody>\n",
       "\t<tr><td>0</td><td>28</td><td> 98</td><td>0</td><td>98</td><td>111</td></tr>\n",
       "\t<tr><td>1</td><td>35</td><td>110</td><td>0</td><td>95</td><td> 18</td></tr>\n",
       "</tbody>\n",
       "</table>\n"
      ],
      "text/latex": [
       "A data.frame: 2 × 6\n",
       "\\begin{tabular}{llllll}\n",
       " HeartDisease & min\\_Age & min\\_RestingBP & min\\_Cholesterol & min\\_MaxHR & Observation\\\\\n",
       " <fct> & <dbl> & <dbl> & <dbl> & <dbl> & <int>\\\\\n",
       "\\hline\n",
       "\t 0 & 28 &  98 & 0 & 98 & 111\\\\\n",
       "\t 1 & 35 & 110 & 0 & 95 &  18\\\\\n",
       "\\end{tabular}\n"
      ],
      "text/markdown": [
       "\n",
       "A data.frame: 2 × 6\n",
       "\n",
       "| HeartDisease &lt;fct&gt; | min_Age &lt;dbl&gt; | min_RestingBP &lt;dbl&gt; | min_Cholesterol &lt;dbl&gt; | min_MaxHR &lt;dbl&gt; | Observation &lt;int&gt; |\n",
       "|---|---|---|---|---|---|\n",
       "| 0 | 28 |  98 | 0 | 98 | 111 |\n",
       "| 1 | 35 | 110 | 0 | 95 |  18 |\n",
       "\n"
      ],
      "text/plain": [
       "  HeartDisease min_Age min_RestingBP min_Cholesterol min_MaxHR Observation\n",
       "1 0            28       98           0               98        111        \n",
       "2 1            35      110           0               95         18        "
      ]
     },
     "metadata": {},
     "output_type": "display_data"
    },
    {
     "data": {
      "text/html": [
       "<table class=\"dataframe\">\n",
       "<caption>A data.frame: 2 × 6</caption>\n",
       "<thead>\n",
       "\t<tr><th scope=col>HeartDisease</th><th scope=col>var_Age</th><th scope=col>var_RestingBP</th><th scope=col>var_Cholesterol</th><th scope=col>var_MaxHR</th><th scope=col>Observation</th></tr>\n",
       "\t<tr><th scope=col>&lt;fct&gt;</th><th scope=col>&lt;dbl&gt;</th><th scope=col>&lt;dbl&gt;</th><th scope=col>&lt;dbl&gt;</th><th scope=col>&lt;dbl&gt;</th><th scope=col>&lt;int&gt;</th></tr>\n",
       "</thead>\n",
       "<tbody>\n",
       "\t<tr><td>0</td><td>76.09943</td><td>230.2852</td><td> 4337.624</td><td>414.5366</td><td>111</td></tr>\n",
       "\t<tr><td>1</td><td>88.72222</td><td>568.0654</td><td>12825.206</td><td>715.3105</td><td> 18</td></tr>\n",
       "</tbody>\n",
       "</table>\n"
      ],
      "text/latex": [
       "A data.frame: 2 × 6\n",
       "\\begin{tabular}{llllll}\n",
       " HeartDisease & var\\_Age & var\\_RestingBP & var\\_Cholesterol & var\\_MaxHR & Observation\\\\\n",
       " <fct> & <dbl> & <dbl> & <dbl> & <dbl> & <int>\\\\\n",
       "\\hline\n",
       "\t 0 & 76.09943 & 230.2852 &  4337.624 & 414.5366 & 111\\\\\n",
       "\t 1 & 88.72222 & 568.0654 & 12825.206 & 715.3105 &  18\\\\\n",
       "\\end{tabular}\n"
      ],
      "text/markdown": [
       "\n",
       "A data.frame: 2 × 6\n",
       "\n",
       "| HeartDisease &lt;fct&gt; | var_Age &lt;dbl&gt; | var_RestingBP &lt;dbl&gt; | var_Cholesterol &lt;dbl&gt; | var_MaxHR &lt;dbl&gt; | Observation &lt;int&gt; |\n",
       "|---|---|---|---|---|---|\n",
       "| 0 | 76.09943 | 230.2852 |  4337.624 | 414.5366 | 111 |\n",
       "| 1 | 88.72222 | 568.0654 | 12825.206 | 715.3105 |  18 |\n",
       "\n"
      ],
      "text/plain": [
       "  HeartDisease var_Age  var_RestingBP var_Cholesterol var_MaxHR Observation\n",
       "1 0            76.09943 230.2852       4337.624       414.5366  111        \n",
       "2 1            88.72222 568.0654      12825.206       715.3105   18        "
      ]
     },
     "metadata": {},
     "output_type": "display_data"
    }
   ],
   "source": [
    "nheart <- data_train|>\n",
    "        group_by(HeartDisease)|>\n",
    "        summarize(Observation=n())\n",
    "\n",
    "table_1 <- data_train|>\n",
    "        group_by(HeartDisease)|>\n",
    "        summarize(across(Age:MaxHR, mean, na.rm=TRUE)) \n",
    "mean_heart_disease <- merge(table_1,nheart) |>\n",
    "    rename(Avg_Age = Age, Avg_RestingBP = RestingBP, Avg_Cholesterol = Cholesterol, Avg_MaxHR = MaxHR)\n",
    "\n",
    "table_2 <- data_train|>\n",
    "        group_by(HeartDisease)|>\n",
    "        summarize(across(Age:MaxHR, max, na.rm=TRUE)) \n",
    "max_heart_disease <- merge(table_2, nheart) |>\n",
    "    rename(max_Age = Age, max_RestingBP = RestingBP, max_Cholesterol = Cholesterol, max_MaxHR = MaxHR) \n",
    "\n",
    "table_3 <- data_train|>\n",
    "        group_by(HeartDisease)|>\n",
    "        summarize(across(Age:MaxHR, min, na.rm=TRUE)) \n",
    "min_heart_disease <- merge(table_3, nheart) |>\n",
    "    rename(min_Age = Age, min_RestingBP = RestingBP, min_Cholesterol = Cholesterol, min_MaxHR = MaxHR)\n",
    "\n",
    "table_4 <- data_train|>\n",
    "        group_by(HeartDisease)|>\n",
    "        summarize(across(Age:MaxHR, var, na.rm=TRUE)) \n",
    "variance_heart_disease <- merge(table_4,nheart) |>\n",
    "    rename(var_Age = Age, var_RestingBP = RestingBP, var_Cholesterol = Cholesterol, var_MaxHR = MaxHR) \n",
    "\n",
    "\n",
    "\n",
    "mean_heart_disease\n",
    "max_heart_disease\n",
    "min_heart_disease\n",
    "variance_heart_disease"
   ]
  },
  {
   "cell_type": "markdown",
   "id": "e09afabe-6935-456d-9e03-18ebdd1b848c",
   "metadata": {},
   "source": [
    "## visalization "
   ]
  },
  {
   "cell_type": "code",
   "execution_count": 8,
   "id": "d123ae13-9df4-4601-9de5-803610e77575",
   "metadata": {},
   "outputs": [
    {
     "data": {
      "image/png": "[encoded data removed]",
      "text/plain": [
       "plot without title"
      ]
     },
     "metadata": {
      "image/png": {
       "height": 420,
       "width": 720
      }
     },
     "output_type": "display_data"
    }
   ],
   "source": [
    "options(repr.plot.width = 12, repr.plot.height = 7) \n",
    "\n",
    "#scaterplot resting blood pressure and age \n",
    "agevsbp <- ggplot(data_train, aes(x = Age, y = RestingBP, color = HeartDisease)) +\n",
    "      geom_point() +\n",
    "      xlab(\"Age (years)\") +\n",
    "      ylab(\"Resting Blood Pressure (mmHg)\") +\n",
    "        labs(color= \"Heart Disease Status\")+\n",
    "      theme(text = element_text(size = 12),\n",
    "        legend.position = \"top\",\n",
    "        legend.direction = \"vertical\") \n",
    "      \n",
    "#agevsbp\n",
    "\n",
    "#scaterplot cholesterol level and max heart rate\n",
    "cholvshr <- ggplot(data_train, aes(x = Cholesterol, y = MaxHR, color = HeartDisease)) +\n",
    "      geom_point() +\n",
    "      xlab(\"Serum Cholesterol (mm/dl)\") +\n",
    "      ylab(\"Maximum Heart Rate \\n Achieved (numeric values)\") +\n",
    "labs(color= \"Heart Disease Status\")+\n",
    "      theme(text = element_text(size = 12),\n",
    "        legend.position = \"top\",\n",
    "        legend.direction = \"vertical\") \n",
    "\n",
    "#cholvshr\n",
    "library(cowplot)\n",
    "plot_grid(cholvshr, agevsbp, scale=0.8)"
   ]
  },
  {
   "cell_type": "markdown",
   "id": "06d16679-9406-4ea3-bf95-0df61def6df2",
   "metadata": {},
   "source": [
    "## Methods:\n",
    "  In this project, we are using the “Heart Failure Prediction Dataset” and classification method to predict whether a person with atypical angina (ATA) chest pain has a heart disease or not. The classification method will be used because we want to predict heart disease status, which is a (binary) categorical variable, 1= “yes” or 0 = “no”. We will use the numerical variables (predictors) in the dataset including; age (years), resting blood pressure (mmHg), maximum heart rate, and serum cholesterol level (mm/dl) for our prediction as these numerical variables are either the risk factors or symptoms for heart disease. \n",
    "\n",
    "We can plot the accuracy versus number of neighbors (k-value) to find the k value with the highest accuracy using a line graph. We can also generate a scatter plot with the scaled and centered age and resting blood pressure on the axis while differentiating the heart disease status with different colors. "
   ]
  },
  {
   "cell_type": "markdown",
   "id": "69c5fb23-3b69-494f-8a09-ff6015059a81",
   "metadata": {},
   "source": [
    "## Expected outcomes and significance:\n",
    "\n",
    "By developing this model, we expect to be able to predict heart disease accurately based on the biological determinants observed in individuals. This model is particularly significant as it filters for the individuals with ATA chest pain. Chest pain with an atypical angina is not easily diagnosed or classified as a common or obvious condition. Therefore, our model can lay the groundwork for development of models that predict or diagnose heart disease in the patients with atypical pains. Also, in our analysis, some relationships may be observed between heart disease and the predictors. These observations can lead the researchers to answer further questions like what the physiological mechanisms behind these relationships are. Another significant question that will expand this work would be how we can design one model capable of predicting heart disease in individuals with different types of chest pains and across different genders."
   ]
  },
  {
   "cell_type": "markdown",
   "id": "8b6d253e-8e18-4c3a-a14c-2b7d9d15c2da",
   "metadata": {},
   "source": [
    "## Refrences\n",
    "1.Tsao CW, Aday AW, Almarzooq ZI, Beaton AZ, Bittencourt MS, Boehme AK, et al. Heart Disease and Stroke Statistics—2022 Update: A Report From the American Heart Association. Circulation. 2022;145(8):e153–e639.\n",
    "\n",
    "2.Tsao CW, Aday AW, Almarzooq ZI, Beaton AZ, Bittencourt MS, Boehme AK, et al. Heart Disease and Stroke Statistics—2022 Update: A Report From the American Heart Association. Circulation. 2022;145(8):e153–e639.\n",
    "\n",
    "3.Centers for Disease Control and Prevention, National Center for Health Statistics. About Multiple Cause of Death, 1999–2020. CDC WONDER Online Database website. Atlanta, GA: Centers for Disease Control and Prevention; 2022. Accessed February 21, 2022.\n",
    "\n",
    "4.fedesoriano. (September 2021). Heart Failure Prediction Dataset. Retrieved [Date Retrieved] from https://www.kaggle.com/fedesoriano/heart-failure-prediction.\n"
   ]
  }
 ],
 "metadata": {
  "kernelspec": {
   "display_name": "R",
   "language": "R",
   "name": "ir"
  },
  "language_info": {
   "codemirror_mode": "r",
   "file_extension": ".r",
   "mimetype": "text/x-r-source",
   "name": "R",
   "pygments_lexer": "r",
   "version": "4.1.3"
  }
 },
 "nbformat": 4,
 "nbformat_minor": 5
}
