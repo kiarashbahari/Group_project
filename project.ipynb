{
 "cells": [
  {
   "cell_type": "markdown",
   "id": "1317667c-2c7b-49ca-ad92-f82582aea18d",
   "metadata": {},
   "source": [
    "# Predicting Heart Disease in Patients with Atypical Angina (ATA) Symptoms\n"
   ]
  },
  {
   "cell_type": "markdown",
   "id": "1e39b60e-5a30-4f59-9bef-8a03b3d0b48a",
   "metadata": {
    "tags": []
   },
   "source": [
    "## Introduction\n",
    "Heart disease is a disease that refers to several types of heart conditions, which is the main cause of death in the USA for most of racial and ethnic groups (1). The main risk factors for heart disease are high blood pressure, high blood cholesterol, smoking, and age. Some of the common heart disease symptoms are chest pain, irregular heartbeats (heart beats too fast or too slow or irregularly), Pain in the back, and shortness of breath. Moreover, chest pain has different classes such as Typical Angina (TA), Atypical Angina (ATA), Non-Anginal Pain (NAP), and Asymptomatic (ASY). Atypical Angina (ATA) chest pain is any chest pain that does not meet criteria for a common or obvious diagnosis (3), and 14% of ATA chest pain leads to heart disease. \n",
    "\n",
    "#### Question: \n",
    "   Can we use the Age, resting blood pressure (normal blood pressure when body is at rest), maximum heart rate achieved, and blood cholesterol level (provided by the dataset), to predict if a patient with ATA has heart disease? \n",
    "   \n",
    "   To answer this question, we will use the “Heart Failure Prediction Dataset”. This dataset contains 11 variables, which Age, RestingBP, Cholesterol, MaxHR variables will be used to predict the heart disease status (1 = heart disease and 0 = normal). \n"
   ]
  },
  {
   "cell_type": "markdown",
   "id": "0f3e9ca7-99ee-4d3f-b7e1-803212d1e622",
   "metadata": {},
   "source": [
    "## Methods & Results "
   ]
  },
  {
   "cell_type": "code",
   "execution_count": 5,
   "id": "7ab1a35e-b7a2-473d-8804-a992217d2449",
   "metadata": {},
   "outputs": [],
   "source": [
    "### Loading Libraries into R\n",
    "library(tidyverse)\n",
    "library(repr)\n",
    "library(tidymodels)\n",
    "options(repr.matrix.max.rows = 6)\n",
    "\n",
    "\n",
    "library(cowplot)\n",
    "library(GGally)\n",
    "library(caret)\n",
    "library(stats)\n",
    "#set the seed\n",
    "set.seed(4321)"
   ]
  },
  {
   "cell_type": "markdown",
   "id": "358f42f7-4c37-4560-a948-8e37dca072c2",
   "metadata": {},
   "source": [
    "### 1. Loading the Data\n",
    "The data was downloaded from Kaggle as a CSV file and was saved to the 'data' folder."
   ]
  },
  {
   "cell_type": "code",
   "execution_count": 6,
   "id": "0d981594-01af-4644-88cd-79b2f36fab9c",
   "metadata": {},
   "outputs": [
    {
     "name": "stderr",
     "output_type": "stream",
     "text": [
      "\u001b[1mRows: \u001b[22m\u001b[34m918\u001b[39m \u001b[1mColumns: \u001b[22m\u001b[34m12\u001b[39m\n",
      "\u001b[36m──\u001b[39m \u001b[1mColumn specification\u001b[22m \u001b[36m────────────────────────────────────────────────────────\u001b[39m\n",
      "\u001b[1mDelimiter:\u001b[22m \",\"\n",
      "\u001b[31mchr\u001b[39m (5): Sex, ChestPainType, RestingECG, ExerciseAngina, ST_Slope\n",
      "\u001b[32mdbl\u001b[39m (7): Age, RestingBP, Cholesterol, FastingBS, MaxHR, Oldpeak, HeartDisease\n",
      "\n",
      "\u001b[36mℹ\u001b[39m Use `spec()` to retrieve the full column specification for this data.\n",
      "\u001b[36mℹ\u001b[39m Specify the column types or set `show_col_types = FALSE` to quiet this message.\n"
     ]
    },
    {
     "data": {
      "text/html": [
       "<table class=\"dataframe\">\n",
       "<caption>A spec_tbl_df: 918 × 12</caption>\n",
       "<thead>\n",
       "\t<tr><th scope=col>Age</th><th scope=col>Sex</th><th scope=col>ChestPainType</th><th scope=col>RestingBP</th><th scope=col>Cholesterol</th><th scope=col>FastingBS</th><th scope=col>RestingECG</th><th scope=col>MaxHR</th><th scope=col>ExerciseAngina</th><th scope=col>Oldpeak</th><th scope=col>ST_Slope</th><th scope=col>HeartDisease</th></tr>\n",
       "\t<tr><th scope=col>&lt;dbl&gt;</th><th scope=col>&lt;chr&gt;</th><th scope=col>&lt;chr&gt;</th><th scope=col>&lt;dbl&gt;</th><th scope=col>&lt;dbl&gt;</th><th scope=col>&lt;dbl&gt;</th><th scope=col>&lt;chr&gt;</th><th scope=col>&lt;dbl&gt;</th><th scope=col>&lt;chr&gt;</th><th scope=col>&lt;dbl&gt;</th><th scope=col>&lt;chr&gt;</th><th scope=col>&lt;dbl&gt;</th></tr>\n",
       "</thead>\n",
       "<tbody>\n",
       "\t<tr><td>40</td><td>M</td><td>ATA</td><td>140</td><td>289</td><td>0</td><td>Normal</td><td>172</td><td>N</td><td>0</td><td>Up  </td><td>0</td></tr>\n",
       "\t<tr><td>49</td><td>F</td><td>NAP</td><td>160</td><td>180</td><td>0</td><td>Normal</td><td>156</td><td>N</td><td>1</td><td>Flat</td><td>1</td></tr>\n",
       "\t<tr><td>37</td><td>M</td><td>ATA</td><td>130</td><td>283</td><td>0</td><td>ST    </td><td> 98</td><td>N</td><td>0</td><td>Up  </td><td>0</td></tr>\n",
       "\t<tr><td>⋮</td><td>⋮</td><td>⋮</td><td>⋮</td><td>⋮</td><td>⋮</td><td>⋮</td><td>⋮</td><td>⋮</td><td>⋮</td><td>⋮</td><td>⋮</td></tr>\n",
       "\t<tr><td>57</td><td>M</td><td>ASY</td><td>130</td><td>131</td><td>0</td><td>Normal</td><td>115</td><td>Y</td><td>1.2</td><td>Flat</td><td>1</td></tr>\n",
       "\t<tr><td>57</td><td>F</td><td>ATA</td><td>130</td><td>236</td><td>0</td><td>LVH   </td><td>174</td><td>N</td><td>0.0</td><td>Flat</td><td>1</td></tr>\n",
       "\t<tr><td>38</td><td>M</td><td>NAP</td><td>138</td><td>175</td><td>0</td><td>Normal</td><td>173</td><td>N</td><td>0.0</td><td>Up  </td><td>0</td></tr>\n",
       "</tbody>\n",
       "</table>\n"
      ],
      "text/latex": [
       "A spec\\_tbl\\_df: 918 × 12\n",
       "\\begin{tabular}{llllllllllll}\n",
       " Age & Sex & ChestPainType & RestingBP & Cholesterol & FastingBS & RestingECG & MaxHR & ExerciseAngina & Oldpeak & ST\\_Slope & HeartDisease\\\\\n",
       " <dbl> & <chr> & <chr> & <dbl> & <dbl> & <dbl> & <chr> & <dbl> & <chr> & <dbl> & <chr> & <dbl>\\\\\n",
       "\\hline\n",
       "\t 40 & M & ATA & 140 & 289 & 0 & Normal & 172 & N & 0 & Up   & 0\\\\\n",
       "\t 49 & F & NAP & 160 & 180 & 0 & Normal & 156 & N & 1 & Flat & 1\\\\\n",
       "\t 37 & M & ATA & 130 & 283 & 0 & ST     &  98 & N & 0 & Up   & 0\\\\\n",
       "\t ⋮ & ⋮ & ⋮ & ⋮ & ⋮ & ⋮ & ⋮ & ⋮ & ⋮ & ⋮ & ⋮ & ⋮\\\\\n",
       "\t 57 & M & ASY & 130 & 131 & 0 & Normal & 115 & Y & 1.2 & Flat & 1\\\\\n",
       "\t 57 & F & ATA & 130 & 236 & 0 & LVH    & 174 & N & 0.0 & Flat & 1\\\\\n",
       "\t 38 & M & NAP & 138 & 175 & 0 & Normal & 173 & N & 0.0 & Up   & 0\\\\\n",
       "\\end{tabular}\n"
      ],
      "text/markdown": [
       "\n",
       "A spec_tbl_df: 918 × 12\n",
       "\n",
       "| Age &lt;dbl&gt; | Sex &lt;chr&gt; | ChestPainType &lt;chr&gt; | RestingBP &lt;dbl&gt; | Cholesterol &lt;dbl&gt; | FastingBS &lt;dbl&gt; | RestingECG &lt;chr&gt; | MaxHR &lt;dbl&gt; | ExerciseAngina &lt;chr&gt; | Oldpeak &lt;dbl&gt; | ST_Slope &lt;chr&gt; | HeartDisease &lt;dbl&gt; |\n",
       "|---|---|---|---|---|---|---|---|---|---|---|---|\n",
       "| 40 | M | ATA | 140 | 289 | 0 | Normal | 172 | N | 0 | Up   | 0 |\n",
       "| 49 | F | NAP | 160 | 180 | 0 | Normal | 156 | N | 1 | Flat | 1 |\n",
       "| 37 | M | ATA | 130 | 283 | 0 | ST     |  98 | N | 0 | Up   | 0 |\n",
       "| ⋮ | ⋮ | ⋮ | ⋮ | ⋮ | ⋮ | ⋮ | ⋮ | ⋮ | ⋮ | ⋮ | ⋮ |\n",
       "| 57 | M | ASY | 130 | 131 | 0 | Normal | 115 | Y | 1.2 | Flat | 1 |\n",
       "| 57 | F | ATA | 130 | 236 | 0 | LVH    | 174 | N | 0.0 | Flat | 1 |\n",
       "| 38 | M | NAP | 138 | 175 | 0 | Normal | 173 | N | 0.0 | Up   | 0 |\n",
       "\n"
      ],
      "text/plain": [
       "    Age Sex ChestPainType RestingBP Cholesterol FastingBS RestingECG MaxHR\n",
       "1   40  M   ATA           140       289         0         Normal     172  \n",
       "2   49  F   NAP           160       180         0         Normal     156  \n",
       "3   37  M   ATA           130       283         0         ST          98  \n",
       "⋮   ⋮   ⋮   ⋮             ⋮         ⋮           ⋮         ⋮          ⋮    \n",
       "916 57  M   ASY           130       131         0         Normal     115  \n",
       "917 57  F   ATA           130       236         0         LVH        174  \n",
       "918 38  M   NAP           138       175         0         Normal     173  \n",
       "    ExerciseAngina Oldpeak ST_Slope HeartDisease\n",
       "1   N              0       Up       0           \n",
       "2   N              1       Flat     1           \n",
       "3   N              0       Up       0           \n",
       "⋮   ⋮              ⋮       ⋮        ⋮           \n",
       "916 Y              1.2     Flat     1           \n",
       "917 N              0.0     Flat     1           \n",
       "918 N              0.0     Up       0           "
      ]
     },
     "metadata": {},
     "output_type": "display_data"
    }
   ],
   "source": [
    "#Reading data from the \"data\" folder, no data explaination on the csv file, no need for skipping. \n",
    "#data is tidy \n",
    "#we read the data into R as \"data\"\n",
    "set.seed(123)\n",
    "data <- read_csv(\"data/heart.csv\")\n",
    "data"
   ]
  },
  {
   "cell_type": "markdown",
   "id": "e63efeac-d417-4322-aee5-46584ad91ddd",
   "metadata": {},
   "source": [
    "## Variable Explanation \n",
    "\n",
    "Age: age of the patient [years]\n",
    "\n",
    "Sex: sex of the patient [M: Male, F: Female]\n",
    "\n",
    "ChestPainType: chest pain type [TA: Typical Angina, ATA: Atypical Angina, NAP: Non-Anginal Pain, ASY: Asymptomatic]\n",
    "\n",
    "RestingBP: resting blood pressure [mm Hg]\n",
    "Cholesterol: serum cholesterol [mm/dl]\n",
    "\n",
    "FastingBS: fasting blood sugar [1: if FastingBS > 120 mg/dl, 0: otherwise]\n",
    "\n",
    "RestingECG: resting electrocardiogram results [Normal: Normal, ST: having ST-T wave abnormality (T wave inversions and/or ST elevation or depression of > 0.05 mV), LVH: showing probable or definite left ventricular hypertrophy by Estes' criteria]\n",
    "\n",
    "MaxHR: maximum heart rate achieved [Numeric value between 60 and 202]\n",
    "ExerciseAngina: exercise-induced angina [Y: Yes, N: No]\n",
    "\n",
    "Oldpeak: oldpeak = ST [Numeric value measured in depression]\n",
    "\n",
    "ST_Slope: the slope of the peak exercise ST segment [Up: upsloping, Flat: flat, Down: downsloping]\n",
    "\n",
    "HeartDisease: output class [1: heart disease, 0: Normal]"
   ]
  },
  {
   "cell_type": "markdown",
   "id": "3e05de58-e151-4ac0-8601-198e20b0ac29",
   "metadata": {},
   "source": [
    "### Wrangling & Cleaning the Data\n",
    "The data is tibble and there is no NA found.\n",
    "We are filtering for ATA chest pain since we are interested in predicting the status of heart disease for patients with this symptom. Selecting for these following numerical variables: \n",
    "age, resting blood pressure (mmHg), maximum heart rate, and serum cholesterol level (mm/dl).\n",
    "HeartDisease was incorrectly stored as a numerical (dbl) column. We use mutate() to turn it into a factor."
   ]
  },
  {
   "cell_type": "code",
   "execution_count": 7,
   "id": "cc907377-1f75-4a8a-b58e-e5a42a3a5cb7",
   "metadata": {},
   "outputs": [
    {
     "data": {
      "text/html": [
       "<table class=\"dataframe\">\n",
       "<caption>A tibble: 0 × 2</caption>\n",
       "<thead>\n",
       "\t<tr><th scope=col>HeartDisease</th><th scope=col>n</th></tr>\n",
       "\t<tr><th scope=col>&lt;dbl&gt;</th><th scope=col>&lt;int&gt;</th></tr>\n",
       "</thead>\n",
       "<tbody>\n",
       "</tbody>\n",
       "</table>\n"
      ],
      "text/latex": [
       "A tibble: 0 × 2\n",
       "\\begin{tabular}{ll}\n",
       " HeartDisease & n\\\\\n",
       " <dbl> & <int>\\\\\n",
       "\\hline\n",
       "\\end{tabular}\n"
      ],
      "text/markdown": [
       "\n",
       "A tibble: 0 × 2\n",
       "\n",
       "| HeartDisease &lt;dbl&gt; | n &lt;int&gt; |\n",
       "|---|---|\n",
       "\n"
      ],
      "text/plain": [
       "     HeartDisease n"
      ]
     },
     "metadata": {},
     "output_type": "display_data"
    },
    {
     "data": {
      "text/html": [
       "<table class=\"dataframe\">\n",
       "<caption>A tibble: 1 × 2</caption>\n",
       "<thead>\n",
       "\t<tr><th scope=col>Cholesterol</th><th scope=col>n</th></tr>\n",
       "\t<tr><th scope=col>&lt;dbl&gt;</th><th scope=col>&lt;int&gt;</th></tr>\n",
       "</thead>\n",
       "<tbody>\n",
       "\t<tr><td>0</td><td>172</td></tr>\n",
       "</tbody>\n",
       "</table>\n"
      ],
      "text/latex": [
       "A tibble: 1 × 2\n",
       "\\begin{tabular}{ll}\n",
       " Cholesterol & n\\\\\n",
       " <dbl> & <int>\\\\\n",
       "\\hline\n",
       "\t 0 & 172\\\\\n",
       "\\end{tabular}\n"
      ],
      "text/markdown": [
       "\n",
       "A tibble: 1 × 2\n",
       "\n",
       "| Cholesterol &lt;dbl&gt; | n &lt;int&gt; |\n",
       "|---|---|\n",
       "| 0 | 172 |\n",
       "\n"
      ],
      "text/plain": [
       "  Cholesterol n  \n",
       "1 0           172"
      ]
     },
     "metadata": {},
     "output_type": "display_data"
    }
   ],
   "source": [
    "  #################check this   \n",
    "data|>\n",
    "        filter(HeartDisease==NA)|>\n",
    "        group_by(HeartDisease)|>\n",
    "        summarize(n=n())\n",
    "\n",
    "data|>\n",
    "        filter(Cholesterol==0)|>\n",
    "        group_by(Cholesterol)|>\n",
    "        summarize(n=n())"
   ]
  },
  {
   "cell_type": "code",
   "execution_count": 8,
   "id": "1a23b507-40d0-498a-82b5-db2f5f88dcc2",
   "metadata": {},
   "outputs": [
    {
     "ename": "ERROR",
     "evalue": "Error in parse(text = x, srcfile = src): <text>:1:5: unexpected symbol\n1: 172 of\n        ^\n",
     "output_type": "error",
     "traceback": [
      "Error in parse(text = x, srcfile = src): <text>:1:5: unexpected symbol\n1: 172 of\n        ^\nTraceback:\n"
     ]
    }
   ],
   "source": [
    "172 of tye cholsetrol are NA which is saved as 0"
   ]
  },
  {
   "cell_type": "code",
   "execution_count": 9,
   "id": "850d7638-6d16-41fc-a6ab-8bd1299c5688",
   "metadata": {},
   "outputs": [
    {
     "data": {
      "text/html": [
       "<table class=\"dataframe\">\n",
       "<caption>A tibble: 0 × 2</caption>\n",
       "<thead>\n",
       "\t<tr><th scope=col>Cholesterol</th><th scope=col>n</th></tr>\n",
       "\t<tr><th scope=col>&lt;dbl&gt;</th><th scope=col>&lt;int&gt;</th></tr>\n",
       "</thead>\n",
       "<tbody>\n",
       "</tbody>\n",
       "</table>\n"
      ],
      "text/latex": [
       "A tibble: 0 × 2\n",
       "\\begin{tabular}{ll}\n",
       " Cholesterol & n\\\\\n",
       " <dbl> & <int>\\\\\n",
       "\\hline\n",
       "\\end{tabular}\n"
      ],
      "text/markdown": [
       "\n",
       "A tibble: 0 × 2\n",
       "\n",
       "| Cholesterol &lt;dbl&gt; | n &lt;int&gt; |\n",
       "|---|---|\n",
       "\n"
      ],
      "text/plain": [
       "     Cholesterol n"
      ]
     },
     "metadata": {},
     "output_type": "display_data"
    }
   ],
   "source": [
    "data <- data|> \n",
    "    filter(Cholesterol!=0)\n",
    "\n",
    "data|>\n",
    "        filter(Cholesterol==0)|>\n",
    "        group_by(Cholesterol)|>\n",
    "        summarize(n=n())"
   ]
  },
  {
   "cell_type": "code",
   "execution_count": 10,
   "id": "d19ff075-a2e9-4e5f-97a7-724c6fcd40e6",
   "metadata": {},
   "outputs": [
    {
     "data": {
      "text/html": [
       "<table class=\"dataframe\">\n",
       "<caption>A tibble: 746 × 5</caption>\n",
       "<thead>\n",
       "\t<tr><th scope=col>Age</th><th scope=col>RestingBP</th><th scope=col>Cholesterol</th><th scope=col>MaxHR</th><th scope=col>HeartDisease</th></tr>\n",
       "\t<tr><th scope=col>&lt;dbl&gt;</th><th scope=col>&lt;dbl&gt;</th><th scope=col>&lt;dbl&gt;</th><th scope=col>&lt;dbl&gt;</th><th scope=col>&lt;fct&gt;</th></tr>\n",
       "</thead>\n",
       "<tbody>\n",
       "\t<tr><td>40</td><td>140</td><td>289</td><td>172</td><td>0</td></tr>\n",
       "\t<tr><td>49</td><td>160</td><td>180</td><td>156</td><td>1</td></tr>\n",
       "\t<tr><td>37</td><td>130</td><td>283</td><td> 98</td><td>0</td></tr>\n",
       "\t<tr><td>⋮</td><td>⋮</td><td>⋮</td><td>⋮</td><td>⋮</td></tr>\n",
       "\t<tr><td>57</td><td>130</td><td>131</td><td>115</td><td>1</td></tr>\n",
       "\t<tr><td>57</td><td>130</td><td>236</td><td>174</td><td>1</td></tr>\n",
       "\t<tr><td>38</td><td>138</td><td>175</td><td>173</td><td>0</td></tr>\n",
       "</tbody>\n",
       "</table>\n"
      ],
      "text/latex": [
       "A tibble: 746 × 5\n",
       "\\begin{tabular}{lllll}\n",
       " Age & RestingBP & Cholesterol & MaxHR & HeartDisease\\\\\n",
       " <dbl> & <dbl> & <dbl> & <dbl> & <fct>\\\\\n",
       "\\hline\n",
       "\t 40 & 140 & 289 & 172 & 0\\\\\n",
       "\t 49 & 160 & 180 & 156 & 1\\\\\n",
       "\t 37 & 130 & 283 &  98 & 0\\\\\n",
       "\t ⋮ & ⋮ & ⋮ & ⋮ & ⋮\\\\\n",
       "\t 57 & 130 & 131 & 115 & 1\\\\\n",
       "\t 57 & 130 & 236 & 174 & 1\\\\\n",
       "\t 38 & 138 & 175 & 173 & 0\\\\\n",
       "\\end{tabular}\n"
      ],
      "text/markdown": [
       "\n",
       "A tibble: 746 × 5\n",
       "\n",
       "| Age &lt;dbl&gt; | RestingBP &lt;dbl&gt; | Cholesterol &lt;dbl&gt; | MaxHR &lt;dbl&gt; | HeartDisease &lt;fct&gt; |\n",
       "|---|---|---|---|---|\n",
       "| 40 | 140 | 289 | 172 | 0 |\n",
       "| 49 | 160 | 180 | 156 | 1 |\n",
       "| 37 | 130 | 283 |  98 | 0 |\n",
       "| ⋮ | ⋮ | ⋮ | ⋮ | ⋮ |\n",
       "| 57 | 130 | 131 | 115 | 1 |\n",
       "| 57 | 130 | 236 | 174 | 1 |\n",
       "| 38 | 138 | 175 | 173 | 0 |\n",
       "\n"
      ],
      "text/plain": [
       "    Age RestingBP Cholesterol MaxHR HeartDisease\n",
       "1   40  140       289         172   0           \n",
       "2   49  160       180         156   1           \n",
       "3   37  130       283          98   0           \n",
       "⋮   ⋮   ⋮         ⋮           ⋮     ⋮           \n",
       "744 57  130       131         115   1           \n",
       "745 57  130       236         174   1           \n",
       "746 38  138       175         173   0           "
      ]
     },
     "metadata": {},
     "output_type": "display_data"
    }
   ],
   "source": [
    "#Convert the character class variable to the factor data type\n",
    "data_cleaned <- data|>\n",
    "        mutate(HeartDisease = as.factor(HeartDisease))|>\n",
    "       # filter(ChestPainType== \"ATA\")|>\n",
    "        select(Age, RestingBP, Cholesterol, MaxHR, HeartDisease)\n",
    "data_cleaned"
   ]
  },
  {
   "cell_type": "markdown",
   "id": "d85ad7a6-1326-4b32-b7e3-5b8dac26e1d3",
   "metadata": {},
   "source": [
    "## Spliting data\n",
    "spliting the data into training set and testing set, 75% of the data in the training set"
   ]
  },
  {
   "cell_type": "code",
   "execution_count": 11,
   "id": "8927e8da-3fe4-4d98-9102-b7e861c6d8a3",
   "metadata": {},
   "outputs": [
    {
     "data": {
      "text/html": [
       "<table class=\"dataframe\">\n",
       "<caption>A tibble: 559 × 5</caption>\n",
       "<thead>\n",
       "\t<tr><th scope=col>Age</th><th scope=col>RestingBP</th><th scope=col>Cholesterol</th><th scope=col>MaxHR</th><th scope=col>HeartDisease</th></tr>\n",
       "\t<tr><th scope=col>&lt;dbl&gt;</th><th scope=col>&lt;dbl&gt;</th><th scope=col>&lt;dbl&gt;</th><th scope=col>&lt;dbl&gt;</th><th scope=col>&lt;fct&gt;</th></tr>\n",
       "</thead>\n",
       "<tbody>\n",
       "\t<tr><td>37</td><td>130</td><td>283</td><td> 98</td><td>0</td></tr>\n",
       "\t<tr><td>39</td><td>120</td><td>339</td><td>170</td><td>0</td></tr>\n",
       "\t<tr><td>45</td><td>130</td><td>237</td><td>170</td><td>0</td></tr>\n",
       "\t<tr><td>⋮</td><td>⋮</td><td>⋮</td><td>⋮</td><td>⋮</td></tr>\n",
       "\t<tr><td>45</td><td>110</td><td>264</td><td>132</td><td>1</td></tr>\n",
       "\t<tr><td>68</td><td>144</td><td>193</td><td>141</td><td>1</td></tr>\n",
       "\t<tr><td>57</td><td>130</td><td>131</td><td>115</td><td>1</td></tr>\n",
       "</tbody>\n",
       "</table>\n"
      ],
      "text/latex": [
       "A tibble: 559 × 5\n",
       "\\begin{tabular}{lllll}\n",
       " Age & RestingBP & Cholesterol & MaxHR & HeartDisease\\\\\n",
       " <dbl> & <dbl> & <dbl> & <dbl> & <fct>\\\\\n",
       "\\hline\n",
       "\t 37 & 130 & 283 &  98 & 0\\\\\n",
       "\t 39 & 120 & 339 & 170 & 0\\\\\n",
       "\t 45 & 130 & 237 & 170 & 0\\\\\n",
       "\t ⋮ & ⋮ & ⋮ & ⋮ & ⋮\\\\\n",
       "\t 45 & 110 & 264 & 132 & 1\\\\\n",
       "\t 68 & 144 & 193 & 141 & 1\\\\\n",
       "\t 57 & 130 & 131 & 115 & 1\\\\\n",
       "\\end{tabular}\n"
      ],
      "text/markdown": [
       "\n",
       "A tibble: 559 × 5\n",
       "\n",
       "| Age &lt;dbl&gt; | RestingBP &lt;dbl&gt; | Cholesterol &lt;dbl&gt; | MaxHR &lt;dbl&gt; | HeartDisease &lt;fct&gt; |\n",
       "|---|---|---|---|---|\n",
       "| 37 | 130 | 283 |  98 | 0 |\n",
       "| 39 | 120 | 339 | 170 | 0 |\n",
       "| 45 | 130 | 237 | 170 | 0 |\n",
       "| ⋮ | ⋮ | ⋮ | ⋮ | ⋮ |\n",
       "| 45 | 110 | 264 | 132 | 1 |\n",
       "| 68 | 144 | 193 | 141 | 1 |\n",
       "| 57 | 130 | 131 | 115 | 1 |\n",
       "\n"
      ],
      "text/plain": [
       "    Age RestingBP Cholesterol MaxHR HeartDisease\n",
       "1   37  130       283          98   0           \n",
       "2   39  120       339         170   0           \n",
       "3   45  130       237         170   0           \n",
       "⋮   ⋮   ⋮         ⋮           ⋮     ⋮           \n",
       "557 45  110       264         132   1           \n",
       "558 68  144       193         141   1           \n",
       "559 57  130       131         115   1           "
      ]
     },
     "metadata": {},
     "output_type": "display_data"
    },
    {
     "data": {
      "text/html": [
       "<table class=\"dataframe\">\n",
       "<caption>A tibble: 187 × 5</caption>\n",
       "<thead>\n",
       "\t<tr><th scope=col>Age</th><th scope=col>RestingBP</th><th scope=col>Cholesterol</th><th scope=col>MaxHR</th><th scope=col>HeartDisease</th></tr>\n",
       "\t<tr><th scope=col>&lt;dbl&gt;</th><th scope=col>&lt;dbl&gt;</th><th scope=col>&lt;dbl&gt;</th><th scope=col>&lt;dbl&gt;</th><th scope=col>&lt;fct&gt;</th></tr>\n",
       "</thead>\n",
       "<tbody>\n",
       "\t<tr><td>40</td><td>140</td><td>289</td><td>172</td><td>0</td></tr>\n",
       "\t<tr><td>54</td><td>150</td><td>195</td><td>122</td><td>0</td></tr>\n",
       "\t<tr><td>54</td><td>110</td><td>208</td><td>142</td><td>0</td></tr>\n",
       "\t<tr><td>⋮</td><td>⋮</td><td>⋮</td><td>⋮</td><td>⋮</td></tr>\n",
       "\t<tr><td>63</td><td>124</td><td>197</td><td>136</td><td>1</td></tr>\n",
       "\t<tr><td>59</td><td>164</td><td>176</td><td> 90</td><td>1</td></tr>\n",
       "\t<tr><td>57</td><td>130</td><td>236</td><td>174</td><td>1</td></tr>\n",
       "</tbody>\n",
       "</table>\n"
      ],
      "text/latex": [
       "A tibble: 187 × 5\n",
       "\\begin{tabular}{lllll}\n",
       " Age & RestingBP & Cholesterol & MaxHR & HeartDisease\\\\\n",
       " <dbl> & <dbl> & <dbl> & <dbl> & <fct>\\\\\n",
       "\\hline\n",
       "\t 40 & 140 & 289 & 172 & 0\\\\\n",
       "\t 54 & 150 & 195 & 122 & 0\\\\\n",
       "\t 54 & 110 & 208 & 142 & 0\\\\\n",
       "\t ⋮ & ⋮ & ⋮ & ⋮ & ⋮\\\\\n",
       "\t 63 & 124 & 197 & 136 & 1\\\\\n",
       "\t 59 & 164 & 176 &  90 & 1\\\\\n",
       "\t 57 & 130 & 236 & 174 & 1\\\\\n",
       "\\end{tabular}\n"
      ],
      "text/markdown": [
       "\n",
       "A tibble: 187 × 5\n",
       "\n",
       "| Age &lt;dbl&gt; | RestingBP &lt;dbl&gt; | Cholesterol &lt;dbl&gt; | MaxHR &lt;dbl&gt; | HeartDisease &lt;fct&gt; |\n",
       "|---|---|---|---|---|\n",
       "| 40 | 140 | 289 | 172 | 0 |\n",
       "| 54 | 150 | 195 | 122 | 0 |\n",
       "| 54 | 110 | 208 | 142 | 0 |\n",
       "| ⋮ | ⋮ | ⋮ | ⋮ | ⋮ |\n",
       "| 63 | 124 | 197 | 136 | 1 |\n",
       "| 59 | 164 | 176 |  90 | 1 |\n",
       "| 57 | 130 | 236 | 174 | 1 |\n",
       "\n"
      ],
      "text/plain": [
       "    Age RestingBP Cholesterol MaxHR HeartDisease\n",
       "1   40  140       289         172   0           \n",
       "2   54  150       195         122   0           \n",
       "3   54  110       208         142   0           \n",
       "⋮   ⋮   ⋮         ⋮           ⋮     ⋮           \n",
       "185 63  124       197         136   1           \n",
       "186 59  164       176          90   1           \n",
       "187 57  130       236         174   1           "
      ]
     },
     "metadata": {},
     "output_type": "display_data"
    }
   ],
   "source": [
    "### spliting the data into training set and testing set, 75% of the data in the training set\n",
    "data_split <- initial_split(data_cleaned, prop = 0.75, strata = HeartDisease) \n",
    "data_train <- training(data_split)   \n",
    "data_test <- testing(data_split)\n",
    "data_train\n",
    "data_test"
   ]
  },
  {
   "cell_type": "markdown",
   "id": "6b76c815-9081-4e47-857c-bc8363e82f80",
   "metadata": {},
   "source": [
    "## Table"
   ]
  },
  {
   "cell_type": "code",
   "execution_count": 12,
   "id": "34361cb3-efd9-4cb5-b1da-9e007ad973de",
   "metadata": {},
   "outputs": [
    {
     "data": {
      "text/html": [
       "<table class=\"dataframe\">\n",
       "<caption>A tibble: 0 × 2</caption>\n",
       "<thead>\n",
       "\t<tr><th scope=col>HeartDisease</th><th scope=col>n</th></tr>\n",
       "\t<tr><th scope=col>&lt;fct&gt;</th><th scope=col>&lt;int&gt;</th></tr>\n",
       "</thead>\n",
       "<tbody>\n",
       "</tbody>\n",
       "</table>\n"
      ],
      "text/latex": [
       "A tibble: 0 × 2\n",
       "\\begin{tabular}{ll}\n",
       " HeartDisease & n\\\\\n",
       " <fct> & <int>\\\\\n",
       "\\hline\n",
       "\\end{tabular}\n"
      ],
      "text/markdown": [
       "\n",
       "A tibble: 0 × 2\n",
       "\n",
       "| HeartDisease &lt;fct&gt; | n &lt;int&gt; |\n",
       "|---|---|\n",
       "\n"
      ],
      "text/plain": [
       "     HeartDisease n"
      ]
     },
     "metadata": {},
     "output_type": "display_data"
    }
   ],
   "source": [
    "na_heart <- data_train|>\n",
    "        filter(HeartDisease=NA)|>\n",
    "        group_by(HeartDisease)|>\n",
    "        summarize(n=n())\n",
    "na_heart"
   ]
  },
  {
   "cell_type": "markdown",
   "id": "04c212d4-2322-4026-8645-261ac4cf41e5",
   "metadata": {},
   "source": [
    "# explain the mean and why we took it"
   ]
  },
  {
   "cell_type": "markdown",
   "id": "3bf15348-4d4d-4980-a965-8968e6bf2a81",
   "metadata": {},
   "source": [
    "None of the rows have a missing data within our data set."
   ]
  },
  {
   "cell_type": "code",
   "execution_count": 13,
   "id": "0c7a8e6d-9c04-4566-bc17-eddfe3708a3e",
   "metadata": {},
   "outputs": [
    {
     "data": {
      "text/html": [
       "<table class=\"dataframe\">\n",
       "<caption>A data.frame: 2 × 6</caption>\n",
       "<thead>\n",
       "\t<tr><th scope=col>HeartDisease</th><th scope=col>Avg_Age</th><th scope=col>Avg_RestingBP</th><th scope=col>Avg_Cholesterol</th><th scope=col>Avg_MaxHR</th><th scope=col>Observation</th></tr>\n",
       "\t<tr><th scope=col>&lt;fct&gt;</th><th scope=col>&lt;dbl&gt;</th><th scope=col>&lt;dbl&gt;</th><th scope=col>&lt;dbl&gt;</th><th scope=col>&lt;dbl&gt;</th><th scope=col>&lt;int&gt;</th></tr>\n",
       "</thead>\n",
       "<tbody>\n",
       "\t<tr><td>0</td><td>50.48288</td><td>130.1918</td><td>243.7740</td><td>149.2671</td><td>292</td></tr>\n",
       "\t<tr><td>1</td><td>55.95506</td><td>136.3296</td><td>250.6742</td><td>129.3184</td><td>267</td></tr>\n",
       "</tbody>\n",
       "</table>\n"
      ],
      "text/latex": [
       "A data.frame: 2 × 6\n",
       "\\begin{tabular}{llllll}\n",
       " HeartDisease & Avg\\_Age & Avg\\_RestingBP & Avg\\_Cholesterol & Avg\\_MaxHR & Observation\\\\\n",
       " <fct> & <dbl> & <dbl> & <dbl> & <dbl> & <int>\\\\\n",
       "\\hline\n",
       "\t 0 & 50.48288 & 130.1918 & 243.7740 & 149.2671 & 292\\\\\n",
       "\t 1 & 55.95506 & 136.3296 & 250.6742 & 129.3184 & 267\\\\\n",
       "\\end{tabular}\n"
      ],
      "text/markdown": [
       "\n",
       "A data.frame: 2 × 6\n",
       "\n",
       "| HeartDisease &lt;fct&gt; | Avg_Age &lt;dbl&gt; | Avg_RestingBP &lt;dbl&gt; | Avg_Cholesterol &lt;dbl&gt; | Avg_MaxHR &lt;dbl&gt; | Observation &lt;int&gt; |\n",
       "|---|---|---|---|---|---|\n",
       "| 0 | 50.48288 | 130.1918 | 243.7740 | 149.2671 | 292 |\n",
       "| 1 | 55.95506 | 136.3296 | 250.6742 | 129.3184 | 267 |\n",
       "\n"
      ],
      "text/plain": [
       "  HeartDisease Avg_Age  Avg_RestingBP Avg_Cholesterol Avg_MaxHR Observation\n",
       "1 0            50.48288 130.1918      243.7740        149.2671  292        \n",
       "2 1            55.95506 136.3296      250.6742        129.3184  267        "
      ]
     },
     "metadata": {},
     "output_type": "display_data"
    }
   ],
   "source": [
    "nheart <- data_train|>\n",
    "        group_by(HeartDisease)|>\n",
    "        summarize(Observation=n())\n",
    "\n",
    "table_1 <- data_train|>\n",
    "        group_by(HeartDisease)|>\n",
    "        summarize(across(Age:MaxHR, mean, na.rm=TRUE)) \n",
    "mean_heart_disease <- merge(table_1,nheart) |>\n",
    "    rename(Avg_Age = Age, Avg_RestingBP = RestingBP, Avg_Cholesterol = Cholesterol, Avg_MaxHR = MaxHR)\n",
    "\n",
    "#table_2 <- data_train|>\n",
    " #       group_by(HeartDisease)|>\n",
    "  #      summarize(across(Age:MaxHR, max, na.rm=TRUE)) \n",
    "#max_heart_disease <- merge(table_2, nheart) |>\n",
    " #   rename(max_Age = Age, max_RestingBP = RestingBP, max_Cholesterol = Cholesterol, max_MaxHR = MaxHR) \n",
    "\n",
    "#table_3 <- data_train|>\n",
    " #       group_by(HeartDisease)|>\n",
    "  #      summarize(across(Age:MaxHR, min, na.rm=TRUE)) \n",
    "#min_heart_disease <- merge(table_3, nheart) |>\n",
    " #   rename(min_Age = Age, min_RestingBP = RestingBP, min_Cholesterol = Cholesterol, min_MaxHR = MaxHR)\n",
    "\n",
    "\n",
    "\n",
    "mean_heart_disease\n",
    "#max_heart_disease\n",
    "#min_heart_disease"
   ]
  },
  {
   "cell_type": "markdown",
   "id": "f593f90a-85ff-4fdb-94c0-73dd7deb4f08",
   "metadata": {},
   "source": [
    "# explain the variance and why we took it"
   ]
  },
  {
   "cell_type": "code",
   "execution_count": 14,
   "id": "cbc012ec-9a60-47a8-958e-96119d2bba03",
   "metadata": {},
   "outputs": [
    {
     "data": {
      "text/html": [
       "<table class=\"dataframe\">\n",
       "<caption>A data.frame: 2 × 6</caption>\n",
       "<thead>\n",
       "\t<tr><th scope=col>HeartDisease</th><th scope=col>var_Age</th><th scope=col>var_RestingBP</th><th scope=col>var_Cholesterol</th><th scope=col>var_MaxHR</th><th scope=col>Observation</th></tr>\n",
       "\t<tr><th scope=col>&lt;fct&gt;</th><th scope=col>&lt;dbl&gt;</th><th scope=col>&lt;dbl&gt;</th><th scope=col>&lt;dbl&gt;</th><th scope=col>&lt;dbl&gt;</th><th scope=col>&lt;int&gt;</th></tr>\n",
       "</thead>\n",
       "<tbody>\n",
       "\t<tr><td>0</td><td>93.07531</td><td>252.2174</td><td>3421.076</td><td>528.6500</td><td>292</td></tr>\n",
       "\t<tr><td>1</td><td>77.31376</td><td>337.2895</td><td>3904.702</td><td>466.9547</td><td>267</td></tr>\n",
       "</tbody>\n",
       "</table>\n"
      ],
      "text/latex": [
       "A data.frame: 2 × 6\n",
       "\\begin{tabular}{llllll}\n",
       " HeartDisease & var\\_Age & var\\_RestingBP & var\\_Cholesterol & var\\_MaxHR & Observation\\\\\n",
       " <fct> & <dbl> & <dbl> & <dbl> & <dbl> & <int>\\\\\n",
       "\\hline\n",
       "\t 0 & 93.07531 & 252.2174 & 3421.076 & 528.6500 & 292\\\\\n",
       "\t 1 & 77.31376 & 337.2895 & 3904.702 & 466.9547 & 267\\\\\n",
       "\\end{tabular}\n"
      ],
      "text/markdown": [
       "\n",
       "A data.frame: 2 × 6\n",
       "\n",
       "| HeartDisease &lt;fct&gt; | var_Age &lt;dbl&gt; | var_RestingBP &lt;dbl&gt; | var_Cholesterol &lt;dbl&gt; | var_MaxHR &lt;dbl&gt; | Observation &lt;int&gt; |\n",
       "|---|---|---|---|---|---|\n",
       "| 0 | 93.07531 | 252.2174 | 3421.076 | 528.6500 | 292 |\n",
       "| 1 | 77.31376 | 337.2895 | 3904.702 | 466.9547 | 267 |\n",
       "\n"
      ],
      "text/plain": [
       "  HeartDisease var_Age  var_RestingBP var_Cholesterol var_MaxHR Observation\n",
       "1 0            93.07531 252.2174      3421.076        528.6500  292        \n",
       "2 1            77.31376 337.2895      3904.702        466.9547  267        "
      ]
     },
     "metadata": {},
     "output_type": "display_data"
    }
   ],
   "source": [
    "table_4 <- data_train|>\n",
    "        group_by(HeartDisease)|>\n",
    "        summarize(across(Age:MaxHR, var, na.rm=TRUE)) \n",
    "variance_heart_disease <- merge(table_4,nheart) |>\n",
    "    rename(var_Age = Age, var_RestingBP = RestingBP, var_Cholesterol = Cholesterol, var_MaxHR = MaxHR) \n",
    "\n",
    "variance_heart_disease"
   ]
  },
  {
   "cell_type": "markdown",
   "id": "e09afabe-6935-456d-9e03-18ebdd1b848c",
   "metadata": {},
   "source": [
    "## visalization "
   ]
  },
  {
   "cell_type": "code",
   "execution_count": 15,
   "id": "d123ae13-9df4-4601-9de5-803610e77575",
   "metadata": {},
   "outputs": [
    {
     "data": {
      "image/png": "[encoded data removed]",
      "text/plain": [
       "plot without title"
      ]
     },
     "metadata": {
      "image/png": {
       "height": 420,
       "width": 720
      }
     },
     "output_type": "display_data"
    }
   ],
   "source": [
    "options(repr.plot.width = 12, repr.plot.height = 7) \n",
    "\n",
    "#scaterplot resting blood pressure and age \n",
    "agevsbp <- ggplot(data_train, aes(x = Age, y = RestingBP, color = HeartDisease)) +\n",
    "      geom_point() +\n",
    "      xlab(\"Age (years)\") +\n",
    "      ylab(\"Resting Blood Pressure (mmHg)\") +\n",
    "        labs(color= \"Heart Disease Status\")+\n",
    "      theme(text = element_text(size = 12),\n",
    "        legend.position = \"top\",\n",
    "        legend.direction = \"vertical\") +\n",
    "        scale_color_manual(labels = c(\"Normal\",\"Diseased\"),\n",
    "                           values= c(\"orange2\",\"steelblue2\"))\n",
    "      \n",
    "#agevsbp\n",
    "\n",
    "#scaterplot cholesterol level and max heart rate\n",
    "cholvshr <- ggplot(data_train, aes(x = Cholesterol, y = MaxHR, color = HeartDisease)) +\n",
    "      geom_point() +\n",
    "      xlab(\"Serum Cholesterol (mm/dl)\") +\n",
    "      ylab(\"Maximum Heart Rate \\n Achieved (numeric values)\") +\n",
    "labs(color= \"Heart Disease Status\")+\n",
    "      theme(text = element_text(size = 12),\n",
    "        legend.position = \"top\",\n",
    "        legend.direction = \"vertical\") +\n",
    "        scale_color_manual(labels = c(\"Normal\",\"Diseased\"),\n",
    "                           values= c(\"orange2\",\"steelblue2\"))\n",
    "\n",
    "#cholvshr\n",
    "library(cowplot)\n",
    "plot_grid(cholvshr, agevsbp, scale=0.8)"
   ]
  },
  {
   "cell_type": "code",
   "execution_count": 16,
   "id": "d7f8c3cf-696b-4b34-8f8c-4e350a58a002",
   "metadata": {},
   "outputs": [
    {
     "ename": "ERROR",
     "evalue": "Error in parse(text = x, srcfile = src): <text>:1:10: unexpected symbol\n1: describe the\n             ^\n",
     "output_type": "error",
     "traceback": [
      "Error in parse(text = x, srcfile = src): <text>:1:10: unexpected symbol\n1: describe the\n             ^\nTraceback:\n"
     ]
    }
   ],
   "source": [
    "describe the data add ggtitle()"
   ]
  },
  {
   "cell_type": "markdown",
   "id": "107bb78f-1948-4730-ba1b-5726a4b3b3ed",
   "metadata": {},
   "source": [
    "# ggtitle\n",
    "(\n",
    "label\n",
    "=\n",
    "\"k-means clustering with 3 clusters\"\n",
    ",\n",
    "subtitle\n",
    "=\n",
    "\"\"\n",
    ")"
   ]
  },
  {
   "cell_type": "markdown",
   "id": "06d16679-9406-4ea3-bf95-0df61def6df2",
   "metadata": {},
   "source": [
    "## Methods:\n",
    "  In this project, we are using the “Heart Failure Prediction Dataset” and classification method to predict whether a person with atypical angina (ATA) chest pain has a heart disease or not. The knn classification method will be used because we want to predict heart disease status, which is a (binary) categorical variable, 1= “yes” or 0 = “no”. We will use the numerical variables (predictors) in the dataset including; age (years), resting blood pressure (mmHg), maximum heart rate, and serum cholesterol level (mm/dl) for our prediction as these numerical variables are either the risk factors or symptoms for heart disease. \n",
    "\n",
    "We can plot the accuracy versus number of neighbors (k-value) to find the k value with the highest accuracy using a line graph. We can also generate a scatter plot with the scaled and centered age and resting blood pressure on the axis while differentiating the heart disease status with different colors. "
   ]
  },
  {
   "cell_type": "markdown",
   "id": "69c5fb23-3b69-494f-8a09-ff6015059a81",
   "metadata": {},
   "source": [
    "## Expected outcomes and significance:\n",
    "\n",
    "By developing this model, we expect to be able to predict heart disease accurately based on the biological determinants observed in individuals. This model is particularly significant as it filters for the individuals with ATA chest pain. Chest pain with an atypical angina is not easily diagnosed or classified as a common or obvious condition. Therefore, our model can lay the groundwork for development of models that predict or diagnose heart disease in the patients with atypical pains. Also, in our analysis, some relationships may be observed between heart disease and the predictors. These observations can lead the researchers to answer further questions like what the physiological mechanisms behind these relationships are. Another significant question that will expand this work would be how we can design one model capable of predicting heart disease in individuals with different types of chest pains and across different genders."
   ]
  },
  {
   "cell_type": "code",
   "execution_count": 17,
   "id": "69b33b7f-6558-4b0c-9304-3f146c7ef578",
   "metadata": {},
   "outputs": [
    {
     "ename": "ERROR",
     "evalue": "Error in parse(text = x, srcfile = src): <text>:1:8: unexpected symbol\n1: theses are\n           ^\n",
     "output_type": "error",
     "traceback": [
      "Error in parse(text = x, srcfile = src): <text>:1:8: unexpected symbol\n1: theses are\n           ^\nTraceback:\n"
     ]
    }
   ],
   "source": [
    "theses are notes for myself"
   ]
  },
  {
   "cell_type": "code",
   "execution_count": 18,
   "id": "3ddf3b05-f758-481c-b6c6-c2075ddba81a",
   "metadata": {},
   "outputs": [],
   "source": [
    "#library(themis)\n",
    "\n",
    "#rep_sample_n\n",
    "\n",
    "#ups_recipe <- recipe(HeartDisease ~ ., data = data_cleaned) |>\n",
    "#  step_upsample(HeartDisease, over_ratio = 1, skip = FALSE) |>\n",
    "#  prep()\n",
    "\n",
    "#ups_recipe"
   ]
  },
  {
   "cell_type": "code",
   "execution_count": 19,
   "id": "dc45d413-e447-4457-8752-5a61c47667a4",
   "metadata": {},
   "outputs": [],
   "source": [
    "#upsampled_data <- bake(ups_recipe, data_cleaned)"
   ]
  },
  {
   "cell_type": "code",
   "execution_count": 20,
   "id": "52dc62ea-0bbe-4a71-bcb5-dcc7a0787331",
   "metadata": {},
   "outputs": [],
   "source": [
    "#sed.seed(4321)\n",
    "### spliting the data into training set and testing set, 75% of the data in the training set\n",
    "#data_split <- initial_split(upsampled_data, prop = 0.75, strata = HeartDisease) \n",
    "#data_train <- training(data_split)   \n",
    "#data_test <- testing(data_split)\n",
    "#data_train\n",
    "#data_test"
   ]
  },
  {
   "cell_type": "code",
   "execution_count": 21,
   "id": "8af9baa6-0312-40c3-a258-ef056a28838d",
   "metadata": {},
   "outputs": [],
   "source": [
    "#scaterplot resting blood pressure and age \n",
    "#agevsbp <- ggplot(data_train, aes(x = Age, y = RestingBP, color = HeartDisease)) +\n",
    "#      geom_point() +\n",
    "#      xlab(\"Age (years)\") +\n",
    "#      ylab(\"Resting Blood Pressure (mmHg)\") +\n",
    " #       labs(color= \"Heart Disease Status\")+\n",
    "  #    theme(text = element_text(size = 12),\n",
    "   #     legend.position = \"top\",\n",
    "    #    legend.direction = \"vertical\") +\n",
    "     #   scale_color_manual(labels = c(\"Normal\",\"Diseased\"),\n",
    "      #                     values= c(\"orange2\",\"steelblue2\"))\n",
    "      \n",
    "#agevsbp\n",
    "\n",
    "#scaterplot cholesterol level and max heart rate\n",
    "#cholvshr <- ggplot(data_train, aes(x = Cholesterol, y = MaxHR, color = HeartDisease)) +\n",
    " #     geom_point() +\n",
    "  #    xlab(\"Serum Cholesterol (mm/dl)\") +\n",
    "   #   ylab(\"Maximum Heart Rate \\n Achieved (numeric values)\") +\n",
    "#labs(color= \"Heart Disease Status\")+\n",
    " #     theme(text = element_text(size = 12),\n",
    "  #      legend.position = \"top\",\n",
    "   #     legend.direction = \"vertical\") +\n",
    "    #    scale_color_manual(labels = c(\"Normal\",\"Diseased\"),\n",
    "     #                      values= c(\"orange2\",\"steelblue2\"))\n",
    "\n",
    "#cholvshr\n",
    "\n",
    "#plot_grid(cholvshr, agevsbp, scale=0.8)"
   ]
  },
  {
   "cell_type": "markdown",
   "id": "9d5f4f71-6aa5-414e-9342-040987f15e57",
   "metadata": {},
   "source": [
    "### percentage for ATA"
   ]
  },
  {
   "cell_type": "code",
   "execution_count": 22,
   "id": "87006948-13eb-4f9d-9eb5-004ede368417",
   "metadata": {},
   "outputs": [
    {
     "data": {
      "text/html": [
       "<table class=\"dataframe\">\n",
       "<caption>A tibble: 2 × 3</caption>\n",
       "<thead>\n",
       "\t<tr><th scope=col>HeartDisease</th><th scope=col>count</th><th scope=col>percentage</th></tr>\n",
       "\t<tr><th scope=col>&lt;fct&gt;</th><th scope=col>&lt;int&gt;</th><th scope=col>&lt;dbl&gt;</th></tr>\n",
       "</thead>\n",
       "<tbody>\n",
       "\t<tr><td>0</td><td>390</td><td>52.27882</td></tr>\n",
       "\t<tr><td>1</td><td>356</td><td>47.72118</td></tr>\n",
       "</tbody>\n",
       "</table>\n"
      ],
      "text/latex": [
       "A tibble: 2 × 3\n",
       "\\begin{tabular}{lll}\n",
       " HeartDisease & count & percentage\\\\\n",
       " <fct> & <int> & <dbl>\\\\\n",
       "\\hline\n",
       "\t 0 & 390 & 52.27882\\\\\n",
       "\t 1 & 356 & 47.72118\\\\\n",
       "\\end{tabular}\n"
      ],
      "text/markdown": [
       "\n",
       "A tibble: 2 × 3\n",
       "\n",
       "| HeartDisease &lt;fct&gt; | count &lt;int&gt; | percentage &lt;dbl&gt; |\n",
       "|---|---|---|\n",
       "| 0 | 390 | 52.27882 |\n",
       "| 1 | 356 | 47.72118 |\n",
       "\n"
      ],
      "text/plain": [
       "  HeartDisease count percentage\n",
       "1 0            390   52.27882  \n",
       "2 1            356   47.72118  "
      ]
     },
     "metadata": {},
     "output_type": "display_data"
    },
    {
     "data": {
      "text/html": [
       "<table class=\"dataframe\">\n",
       "<caption>A tibble: 2 × 3</caption>\n",
       "<thead>\n",
       "\t<tr><th scope=col>HeartDisease</th><th scope=col>count</th><th scope=col>percentage</th></tr>\n",
       "\t<tr><th scope=col>&lt;fct&gt;</th><th scope=col>&lt;int&gt;</th><th scope=col>&lt;dbl&gt;</th></tr>\n",
       "</thead>\n",
       "<tbody>\n",
       "\t<tr><td>0</td><td>292</td><td>52.23614</td></tr>\n",
       "\t<tr><td>1</td><td>267</td><td>47.76386</td></tr>\n",
       "</tbody>\n",
       "</table>\n"
      ],
      "text/latex": [
       "A tibble: 2 × 3\n",
       "\\begin{tabular}{lll}\n",
       " HeartDisease & count & percentage\\\\\n",
       " <fct> & <int> & <dbl>\\\\\n",
       "\\hline\n",
       "\t 0 & 292 & 52.23614\\\\\n",
       "\t 1 & 267 & 47.76386\\\\\n",
       "\\end{tabular}\n"
      ],
      "text/markdown": [
       "\n",
       "A tibble: 2 × 3\n",
       "\n",
       "| HeartDisease &lt;fct&gt; | count &lt;int&gt; | percentage &lt;dbl&gt; |\n",
       "|---|---|---|\n",
       "| 0 | 292 | 52.23614 |\n",
       "| 1 | 267 | 47.76386 |\n",
       "\n"
      ],
      "text/plain": [
       "  HeartDisease count percentage\n",
       "1 0            292   52.23614  \n",
       "2 1            267   47.76386  "
      ]
     },
     "metadata": {},
     "output_type": "display_data"
    }
   ],
   "source": [
    "n_row <- nrow(data_cleaned)\n",
    "\n",
    "data_percentage <- data_cleaned |>\n",
    "    group_by(HeartDisease)|>\n",
    "    summarize(count=n(), percentage=n()/n_row*100)\n",
    "data_percentage\n",
    "\n",
    "n_row_train <- nrow(data_train)\n",
    "\n",
    "data_train_percentage <- data_train |>\n",
    "    group_by(HeartDisease)|>\n",
    "    summarize(count=n(), percentage=n()/n_row_train*100)\n",
    "data_train_percentage"
   ]
  },
  {
   "cell_type": "markdown",
   "id": "d63483d2-d86c-4bbb-a29a-491ae1e76bc2",
   "metadata": {},
   "source": [
    "### preprocess data to standardize it"
   ]
  },
  {
   "cell_type": "code",
   "execution_count": 23,
   "id": "0466567c-93b8-440d-8c88-3c0d7a29f7c4",
   "metadata": {},
   "outputs": [
    {
     "name": "stdout",
     "output_type": "stream",
     "text": [
      "\u001b[90m# A tibble: 40 × 7\u001b[39m\n",
      "   neighbors .metric  .estimator  mean     n std_err .config              \n",
      "       \u001b[3m\u001b[90m<dbl>\u001b[39m\u001b[23m \u001b[3m\u001b[90m<chr>\u001b[39m\u001b[23m    \u001b[3m\u001b[90m<chr>\u001b[39m\u001b[23m      \u001b[3m\u001b[90m<dbl>\u001b[39m\u001b[23m \u001b[3m\u001b[90m<int>\u001b[39m\u001b[23m   \u001b[3m\u001b[90m<dbl>\u001b[39m\u001b[23m \u001b[3m\u001b[90m<chr>\u001b[39m\u001b[23m                \n",
      "\u001b[90m 1\u001b[39m         1 accuracy binary     0.639    10  0.013\u001b[4m0\u001b[24m Preprocessor1_Model01\n",
      "\u001b[90m 2\u001b[39m         2 accuracy binary     0.639    10  0.013\u001b[4m0\u001b[24m Preprocessor1_Model02\n",
      "\u001b[90m 3\u001b[39m         3 accuracy binary     0.646    10  0.014\u001b[4m3\u001b[24m Preprocessor1_Model03\n",
      "\u001b[90m 4\u001b[39m         4 accuracy binary     0.646    10  0.014\u001b[4m3\u001b[24m Preprocessor1_Model04\n",
      "\u001b[90m 5\u001b[39m         5 accuracy binary     0.662    10  0.013\u001b[4m1\u001b[24m Preprocessor1_Model05\n",
      "\u001b[90m 6\u001b[39m         6 accuracy binary     0.662    10  0.013\u001b[4m1\u001b[24m Preprocessor1_Model06\n",
      "\u001b[90m 7\u001b[39m         7 accuracy binary     0.676    10  0.022\u001b[4m6\u001b[24m Preprocessor1_Model07\n",
      "\u001b[90m 8\u001b[39m         8 accuracy binary     0.676    10  0.022\u001b[4m6\u001b[24m Preprocessor1_Model08\n",
      "\u001b[90m 9\u001b[39m         9 accuracy binary     0.685    10  0.022\u001b[4m2\u001b[24m Preprocessor1_Model09\n",
      "\u001b[90m10\u001b[39m        10 accuracy binary     0.685    10  0.022\u001b[4m2\u001b[24m Preprocessor1_Model10\n",
      "\u001b[90m# … with 30 more rows\u001b[39m\n"
     ]
    }
   ],
   "source": [
    "set.seed(123)\n",
    "data_train_recipe <- recipe(HeartDisease ~ ., data= data_train)|>\n",
    "    step_scale(all_predictors())|>\n",
    "    step_center(all_predictors())\n",
    "\n",
    "data_vfold <- vfold_cv(data_train, v = 10, strata = HeartDisease)\n",
    "\n",
    "knn_spec <- nearest_neighbor(weight_func = \"rectangular\", neighbors = tune()) |>\n",
    "        set_engine(\"kknn\") |>\n",
    "        set_mode(\"classification\")\n",
    "\n",
    "k_vals <- tibble(neighbors= seq(from= 1, to= 40, by= 1))\n",
    "\n",
    "knn_result <- workflow()|>\n",
    "    add_recipe(data_train_recipe)|>\n",
    "    add_model(knn_spec)|>\n",
    "    tune_grid(resamples=data_vfold, grid=k_vals)|>\n",
    "    collect_metrics()\n",
    "\n",
    "accuracies <- knn_result |>\n",
    "  filter(.metric == \"accuracy\")\n",
    "\n",
    "print(accuracies)"
   ]
  },
  {
   "cell_type": "code",
   "execution_count": 24,
   "id": "3d050a17-6728-40d8-a98d-bc2d48c8d6e0",
   "metadata": {},
   "outputs": [
    {
     "data": {
      "image/png": "[encoded data removed]",
      "text/plain": [
       "plot without title"
      ]
     },
     "metadata": {
      "image/png": {
       "height": 420,
       "width": 720
      }
     },
     "output_type": "display_data"
    }
   ],
   "source": [
    "accuracy_vs_k <- ggplot(accuracies, aes(x=neighbors, y=mean))+\n",
    "    geom_point()+\n",
    "    geom_line()+\n",
    "    labs(x = \"Neighbors\", y = \"Accuracy Estimate\") +\n",
    "    theme(text = element_text(size = 12))+\n",
    "    scale_x_continuous(breaks = seq(0, 40, by = 1))+  \n",
    "    scale_y_continuous(limits = c(0.6, 1.0), breaks=seq(0.6, 1, by=0.04))\n",
    "\n",
    "accuracy_vs_k"
   ]
  },
  {
   "cell_type": "code",
   "execution_count": 25,
   "id": "db9ff93d-5010-4e9e-b51d-b6d7a1cf4b5b",
   "metadata": {},
   "outputs": [
    {
     "ename": "ERROR",
     "evalue": "Error in parse(text = x, srcfile = src): <text>:1:6: unexpected symbol\n1: talk about\n         ^\n",
     "output_type": "error",
     "traceback": [
      "Error in parse(text = x, srcfile = src): <text>:1:6: unexpected symbol\n1: talk about\n         ^\nTraceback:\n"
     ]
    }
   ],
   "source": [
    "talk about wether this is good"
   ]
  },
  {
   "cell_type": "code",
   "execution_count": 26,
   "id": "85134e19-34f7-4bbc-b6fe-588a1418dc61",
   "metadata": {},
   "outputs": [
    {
     "data": {
      "text/html": [
       "<table class=\"dataframe\">\n",
       "<caption>A tibble: 2 × 7</caption>\n",
       "<thead>\n",
       "\t<tr><th scope=col>neighbors</th><th scope=col>.metric</th><th scope=col>.estimator</th><th scope=col>mean</th><th scope=col>n</th><th scope=col>std_err</th><th scope=col>.config</th></tr>\n",
       "\t<tr><th scope=col>&lt;dbl&gt;</th><th scope=col>&lt;chr&gt;</th><th scope=col>&lt;chr&gt;</th><th scope=col>&lt;dbl&gt;</th><th scope=col>&lt;int&gt;</th><th scope=col>&lt;dbl&gt;</th><th scope=col>&lt;chr&gt;</th></tr>\n",
       "</thead>\n",
       "<tbody>\n",
       "\t<tr><td>31</td><td>accuracy</td><td>binary</td><td>0.7082428</td><td>10</td><td>0.0121289</td><td>Preprocessor1_Model31</td></tr>\n",
       "\t<tr><td>32</td><td>accuracy</td><td>binary</td><td>0.7082428</td><td>10</td><td>0.0121289</td><td>Preprocessor1_Model32</td></tr>\n",
       "</tbody>\n",
       "</table>\n"
      ],
      "text/latex": [
       "A tibble: 2 × 7\n",
       "\\begin{tabular}{lllllll}\n",
       " neighbors & .metric & .estimator & mean & n & std\\_err & .config\\\\\n",
       " <dbl> & <chr> & <chr> & <dbl> & <int> & <dbl> & <chr>\\\\\n",
       "\\hline\n",
       "\t 31 & accuracy & binary & 0.7082428 & 10 & 0.0121289 & Preprocessor1\\_Model31\\\\\n",
       "\t 32 & accuracy & binary & 0.7082428 & 10 & 0.0121289 & Preprocessor1\\_Model32\\\\\n",
       "\\end{tabular}\n"
      ],
      "text/markdown": [
       "\n",
       "A tibble: 2 × 7\n",
       "\n",
       "| neighbors &lt;dbl&gt; | .metric &lt;chr&gt; | .estimator &lt;chr&gt; | mean &lt;dbl&gt; | n &lt;int&gt; | std_err &lt;dbl&gt; | .config &lt;chr&gt; |\n",
       "|---|---|---|---|---|---|---|\n",
       "| 31 | accuracy | binary | 0.7082428 | 10 | 0.0121289 | Preprocessor1_Model31 |\n",
       "| 32 | accuracy | binary | 0.7082428 | 10 | 0.0121289 | Preprocessor1_Model32 |\n",
       "\n"
      ],
      "text/plain": [
       "  neighbors .metric  .estimator mean      n  std_err   .config              \n",
       "1 31        accuracy binary     0.7082428 10 0.0121289 Preprocessor1_Model31\n",
       "2 32        accuracy binary     0.7082428 10 0.0121289 Preprocessor1_Model32"
      ]
     },
     "metadata": {},
     "output_type": "display_data"
    }
   ],
   "source": [
    "maxmax<- accuracies|>\n",
    "    filter(mean==max(mean))\n",
    "maxmax"
   ]
  },
  {
   "cell_type": "code",
   "execution_count": 27,
   "id": "744f02ac-d755-4e49-843a-490e0a23c490",
   "metadata": {},
   "outputs": [
    {
     "ename": "ERROR",
     "evalue": "Error in parse(text = x, srcfile = src): <text>:1:9: unexpected symbol\n1: explain which\n            ^\n",
     "output_type": "error",
     "traceback": [
      "Error in parse(text = x, srcfile = src): <text>:1:9: unexpected symbol\n1: explain which\n            ^\nTraceback:\n"
     ]
    }
   ],
   "source": [
    "explain which k was used"
   ]
  },
  {
   "cell_type": "code",
   "execution_count": 30,
   "id": "0e902743-1570-4b09-a576-4eb711074249",
   "metadata": {},
   "outputs": [],
   "source": [
    "#set.seed(4321)\n",
    "\n",
    "mnist_spec <- nearest_neighbor(weight_func = \"rectangular\", neighbors = 31) |>\n",
    "       set_engine(\"kknn\") |>\n",
    "       set_mode(\"classification\")\n",
    "\n",
    "mnist_fit <- workflow() |>\n",
    "            add_recipe(data_train_recipe) |>\n",
    "            add_model(mnist_spec) |>\n",
    "            fit(data = data_train)\n",
    "\n",
    "#mnist_accurate<- mnist_fit|>\n",
    " #   collect_metrics()|>\n",
    "  #          filter(.metric==\"accuracy\")\n",
    "\n",
    "\n",
    "\n",
    "#mnist_accurate"
   ]
  },
  {
   "cell_type": "code",
   "execution_count": 31,
   "id": "f433cf52-8977-40e2-9943-c2a18f8489af",
   "metadata": {},
   "outputs": [
    {
     "data": {
      "text/html": [
       "<table class=\"dataframe\">\n",
       "<caption>A tibble: 187 × 6</caption>\n",
       "<thead>\n",
       "\t<tr><th scope=col>.pred_class</th><th scope=col>Age</th><th scope=col>RestingBP</th><th scope=col>Cholesterol</th><th scope=col>MaxHR</th><th scope=col>HeartDisease</th></tr>\n",
       "\t<tr><th scope=col>&lt;fct&gt;</th><th scope=col>&lt;dbl&gt;</th><th scope=col>&lt;dbl&gt;</th><th scope=col>&lt;dbl&gt;</th><th scope=col>&lt;dbl&gt;</th><th scope=col>&lt;fct&gt;</th></tr>\n",
       "</thead>\n",
       "<tbody>\n",
       "\t<tr><td>0</td><td>40</td><td>140</td><td>289</td><td>172</td><td>0</td></tr>\n",
       "\t<tr><td>1</td><td>54</td><td>150</td><td>195</td><td>122</td><td>0</td></tr>\n",
       "\t<tr><td>0</td><td>54</td><td>110</td><td>208</td><td>142</td><td>0</td></tr>\n",
       "\t<tr><td>⋮</td><td>⋮</td><td>⋮</td><td>⋮</td><td>⋮</td><td>⋮</td></tr>\n",
       "\t<tr><td>1</td><td>63</td><td>124</td><td>197</td><td>136</td><td>1</td></tr>\n",
       "\t<tr><td>1</td><td>59</td><td>164</td><td>176</td><td> 90</td><td>1</td></tr>\n",
       "\t<tr><td>0</td><td>57</td><td>130</td><td>236</td><td>174</td><td>1</td></tr>\n",
       "</tbody>\n",
       "</table>\n"
      ],
      "text/latex": [
       "A tibble: 187 × 6\n",
       "\\begin{tabular}{llllll}\n",
       " .pred\\_class & Age & RestingBP & Cholesterol & MaxHR & HeartDisease\\\\\n",
       " <fct> & <dbl> & <dbl> & <dbl> & <dbl> & <fct>\\\\\n",
       "\\hline\n",
       "\t 0 & 40 & 140 & 289 & 172 & 0\\\\\n",
       "\t 1 & 54 & 150 & 195 & 122 & 0\\\\\n",
       "\t 0 & 54 & 110 & 208 & 142 & 0\\\\\n",
       "\t ⋮ & ⋮ & ⋮ & ⋮ & ⋮ & ⋮\\\\\n",
       "\t 1 & 63 & 124 & 197 & 136 & 1\\\\\n",
       "\t 1 & 59 & 164 & 176 &  90 & 1\\\\\n",
       "\t 0 & 57 & 130 & 236 & 174 & 1\\\\\n",
       "\\end{tabular}\n"
      ],
      "text/markdown": [
       "\n",
       "A tibble: 187 × 6\n",
       "\n",
       "| .pred_class &lt;fct&gt; | Age &lt;dbl&gt; | RestingBP &lt;dbl&gt; | Cholesterol &lt;dbl&gt; | MaxHR &lt;dbl&gt; | HeartDisease &lt;fct&gt; |\n",
       "|---|---|---|---|---|---|\n",
       "| 0 | 40 | 140 | 289 | 172 | 0 |\n",
       "| 1 | 54 | 150 | 195 | 122 | 0 |\n",
       "| 0 | 54 | 110 | 208 | 142 | 0 |\n",
       "| ⋮ | ⋮ | ⋮ | ⋮ | ⋮ | ⋮ |\n",
       "| 1 | 63 | 124 | 197 | 136 | 1 |\n",
       "| 1 | 59 | 164 | 176 |  90 | 1 |\n",
       "| 0 | 57 | 130 | 236 | 174 | 1 |\n",
       "\n"
      ],
      "text/plain": [
       "    .pred_class Age RestingBP Cholesterol MaxHR HeartDisease\n",
       "1   0           40  140       289         172   0           \n",
       "2   1           54  150       195         122   0           \n",
       "3   0           54  110       208         142   0           \n",
       "⋮   ⋮           ⋮   ⋮         ⋮           ⋮     ⋮           \n",
       "185 1           63  124       197         136   1           \n",
       "186 1           59  164       176          90   1           \n",
       "187 0           57  130       236         174   1           "
      ]
     },
     "metadata": {},
     "output_type": "display_data"
    },
    {
     "data": {
      "text/html": [
       "<table class=\"dataframe\">\n",
       "<caption>A tibble: 2 × 3</caption>\n",
       "<thead>\n",
       "\t<tr><th scope=col>.metric</th><th scope=col>.estimator</th><th scope=col>.estimate</th></tr>\n",
       "\t<tr><th scope=col>&lt;chr&gt;</th><th scope=col>&lt;chr&gt;</th><th scope=col>&lt;dbl&gt;</th></tr>\n",
       "</thead>\n",
       "<tbody>\n",
       "\t<tr><td>accuracy</td><td>binary</td><td>0.6737968</td></tr>\n",
       "\t<tr><td>kap     </td><td>binary</td><td>0.3423465</td></tr>\n",
       "</tbody>\n",
       "</table>\n"
      ],
      "text/latex": [
       "A tibble: 2 × 3\n",
       "\\begin{tabular}{lll}\n",
       " .metric & .estimator & .estimate\\\\\n",
       " <chr> & <chr> & <dbl>\\\\\n",
       "\\hline\n",
       "\t accuracy & binary & 0.6737968\\\\\n",
       "\t kap      & binary & 0.3423465\\\\\n",
       "\\end{tabular}\n"
      ],
      "text/markdown": [
       "\n",
       "A tibble: 2 × 3\n",
       "\n",
       "| .metric &lt;chr&gt; | .estimator &lt;chr&gt; | .estimate &lt;dbl&gt; |\n",
       "|---|---|---|\n",
       "| accuracy | binary | 0.6737968 |\n",
       "| kap      | binary | 0.3423465 |\n",
       "\n"
      ],
      "text/plain": [
       "  .metric  .estimator .estimate\n",
       "1 accuracy binary     0.6737968\n",
       "2 kap      binary     0.3423465"
      ]
     },
     "metadata": {},
     "output_type": "display_data"
    },
    {
     "data": {
      "text/plain": [
       "          Truth\n",
       "Prediction  0  1\n",
       "         0 73 36\n",
       "         1 25 53"
      ]
     },
     "metadata": {},
     "output_type": "display_data"
    }
   ],
   "source": [
    "\n",
    "mnist_predictions <- predict(mnist_fit, data_test)|>\n",
    "        bind_cols(data_test)\n",
    "\n",
    "mnist_predictions\n",
    "\n",
    "mnist_metrics <- mnist_predictions |>\n",
    "        metrics(truth=HeartDisease, estimate=.pred_class)\n",
    "\n",
    "mnist_metrics\n",
    "\n",
    "mnist_conf_mat <- mnist_predictions |>\n",
    "        conf_mat(truth = HeartDisease, estimate = .pred_class)\n",
    "\n",
    "mnist_conf_mat"
   ]
  },
  {
   "cell_type": "code",
   "execution_count": 33,
   "id": "640987fa-7d04-410f-ba15-0f5a43456792",
   "metadata": {},
   "outputs": [
    {
     "ename": "ERROR",
     "evalue": "Error in parse(text = x, srcfile = src): <text>:1:9: unexpected symbol\n1: explain the\n            ^\n",
     "output_type": "error",
     "traceback": [
      "Error in parse(text = x, srcfile = src): <text>:1:9: unexpected symbol\n1: explain the\n            ^\nTraceback:\n"
     ]
    }
   ],
   "source": [
    "explain the result \n",
    "how acccurate our model predict "
   ]
  },
  {
   "cell_type": "code",
   "execution_count": 32,
   "id": "7c772531-078f-473b-a651-c7a030daa348",
   "metadata": {},
   "outputs": [
    {
     "ename": "ERROR",
     "evalue": "Error in parse(text = x, srcfile = src): <text>:1:10: unexpected symbol\n1: question could\n             ^\n",
     "output_type": "error",
     "traceback": [
      "Error in parse(text = x, srcfile = src): <text>:1:10: unexpected symbol\n1: question could\n             ^\nTraceback:\n"
     ]
    }
   ],
   "source": [
    "question could be how accurate could we predit only with ata chest pain"
   ]
  },
  {
   "cell_type": "markdown",
   "id": "8b6d253e-8e18-4c3a-a14c-2b7d9d15c2da",
   "metadata": {},
   "source": [
    "## Refrences\n",
    "1.Tsao CW, Aday AW, Almarzooq ZI, Beaton AZ, Bittencourt MS, Boehme AK, et al. Heart Disease and Stroke Statistics—2022 Update: A Report From the American Heart Association. Circulation. 2022;145(8):e153–e639.\n",
    "\n",
    "2.Tsao CW, Aday AW, Almarzooq ZI, Beaton AZ, Bittencourt MS, Boehme AK, et al. Heart Disease and Stroke Statistics—2022 Update: A Report From the American Heart Association. Circulation. 2022;145(8):e153–e639.\n",
    "\n",
    "3.Centers for Disease Control and Prevention, National Center for Health Statistics. About Multiple Cause of Death, 1999–2020. CDC WONDER Online Database website. Atlanta, GA: Centers for Disease Control and Prevention; 2022. Accessed February 21, 2022.\n",
    "\n",
    "4.fedesoriano. (September 2021). Heart Failure Prediction Dataset. Retrieved [Date Retrieved] from https://www.kaggle.com/fedesoriano/heart-failure-prediction.\n"
   ]
  },
  {
   "cell_type": "code",
   "execution_count": null,
   "id": "f34a7f5d-e679-4e00-bbfe-4226f9301e03",
   "metadata": {},
   "outputs": [],
   "source": []
  }
 ],
 "metadata": {
  "kernelspec": {
   "display_name": "R",
   "language": "R",
   "name": "ir"
  },
  "language_info": {
   "codemirror_mode": "r",
   "file_extension": ".r",
   "mimetype": "text/x-r-source",
   "name": "R",
   "pygments_lexer": "r",
   "version": "4.1.3"
  }
 },
 "nbformat": 4,
 "nbformat_minor": 5
}
