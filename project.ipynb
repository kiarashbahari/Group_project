{
 "cells": [
  {
   "cell_type": "markdown",
   "id": "1317667c-2c7b-49ca-ad92-f82582aea18d",
   "metadata": {},
   "source": [
    "# Predicting Heart Disease in Patients with Atypical Angina (ATA) Symptoms\n"
   ]
  },
  {
   "cell_type": "markdown",
   "id": "1e39b60e-5a30-4f59-9bef-8a03b3d0b48a",
   "metadata": {
    "tags": []
   },
   "source": [
    "## Introduction\n",
    "Heart disease is a disease that refers to several types of heart conditions, which is the main cause of death in the USA for most of racial and ethnic groups (1). The main risk factors for heart disease are high blood pressure, high blood cholesterol, smoking, and age. Some of the common heart disease symptoms are chest pain, irregular heartbeats (heart beats too fast or too slow or irregularly), Pain in the back, and shortness of breath. Moreover, chest pain has different classes such as Typical Angina (TA), Atypical Angina (ATA), Non-Anginal Pain (NAP), and Asymptomatic (ASY). Atypical Angina (ATA) chest pain is any chest pain that does not meet criteria for a common or obvious diagnosis (3), and 14% of ATA chest pain leads to heart disease. \n",
    "\n",
    "#### Question: \n",
    "   Can we use the Age, resting blood pressure (normal blood pressure when body is at rest), maximum heart rate achieved, and blood cholesterol level (provided by the dataset), to predict if a patient with ATA has heart disease? \n",
    "   \n",
    "   To answer this question, we will use the “Heart Failure Prediction Dataset”. This dataset contains 11 variables, which Age, RestingBP, Cholesterol, MaxHR variables will be used to predict the heart disease status (1 = heart disease and 0 = normal). \n"
   ]
  },
  {
   "cell_type": "markdown",
   "id": "0f3e9ca7-99ee-4d3f-b7e1-803212d1e622",
   "metadata": {},
   "source": [
    "## Methods & Results "
   ]
  },
  {
   "cell_type": "code",
   "execution_count": 62,
   "id": "7ab1a35e-b7a2-473d-8804-a992217d2449",
   "metadata": {},
   "outputs": [],
   "source": [
    "### Loading Libraries into R\n",
    "library(tidyverse)\n",
    "library(repr)\n",
    "library(tidymodels)\n",
    "options(repr.matrix.max.rows = 6)\n",
    "\n",
    "\n",
    "library(cowplot)\n",
    "library(GGally)\n",
    "library(caret)\n",
    "library(stats)\n",
    "#set the seed\n",
    "set.seed(4321)"
   ]
  },
  {
   "cell_type": "markdown",
   "id": "358f42f7-4c37-4560-a948-8e37dca072c2",
   "metadata": {},
   "source": [
    "### 1. Loading the Data\n",
    "The data was downloaded from Kaggle as a CSV file and was saved to the 'data' folder."
   ]
  },
  {
   "cell_type": "code",
   "execution_count": 63,
   "id": "0d981594-01af-4644-88cd-79b2f36fab9c",
   "metadata": {},
   "outputs": [
    {
     "name": "stderr",
     "output_type": "stream",
     "text": [
      "\u001b[1mRows: \u001b[22m\u001b[34m918\u001b[39m \u001b[1mColumns: \u001b[22m\u001b[34m12\u001b[39m\n",
      "\u001b[36m──\u001b[39m \u001b[1mColumn specification\u001b[22m \u001b[36m────────────────────────────────────────────────────────\u001b[39m\n",
      "\u001b[1mDelimiter:\u001b[22m \",\"\n",
      "\u001b[31mchr\u001b[39m (5): Sex, ChestPainType, RestingECG, ExerciseAngina, ST_Slope\n",
      "\u001b[32mdbl\u001b[39m (7): Age, RestingBP, Cholesterol, FastingBS, MaxHR, Oldpeak, HeartDisease\n",
      "\n",
      "\u001b[36mℹ\u001b[39m Use `spec()` to retrieve the full column specification for this data.\n",
      "\u001b[36mℹ\u001b[39m Specify the column types or set `show_col_types = FALSE` to quiet this message.\n"
     ]
    },
    {
     "data": {
      "text/html": [
       "<table class=\"dataframe\">\n",
       "<caption>A spec_tbl_df: 918 × 12</caption>\n",
       "<thead>\n",
       "\t<tr><th scope=col>Age</th><th scope=col>Sex</th><th scope=col>ChestPainType</th><th scope=col>RestingBP</th><th scope=col>Cholesterol</th><th scope=col>FastingBS</th><th scope=col>RestingECG</th><th scope=col>MaxHR</th><th scope=col>ExerciseAngina</th><th scope=col>Oldpeak</th><th scope=col>ST_Slope</th><th scope=col>HeartDisease</th></tr>\n",
       "\t<tr><th scope=col>&lt;dbl&gt;</th><th scope=col>&lt;chr&gt;</th><th scope=col>&lt;chr&gt;</th><th scope=col>&lt;dbl&gt;</th><th scope=col>&lt;dbl&gt;</th><th scope=col>&lt;dbl&gt;</th><th scope=col>&lt;chr&gt;</th><th scope=col>&lt;dbl&gt;</th><th scope=col>&lt;chr&gt;</th><th scope=col>&lt;dbl&gt;</th><th scope=col>&lt;chr&gt;</th><th scope=col>&lt;dbl&gt;</th></tr>\n",
       "</thead>\n",
       "<tbody>\n",
       "\t<tr><td>40</td><td>M</td><td>ATA</td><td>140</td><td>289</td><td>0</td><td>Normal</td><td>172</td><td>N</td><td>0</td><td>Up  </td><td>0</td></tr>\n",
       "\t<tr><td>49</td><td>F</td><td>NAP</td><td>160</td><td>180</td><td>0</td><td>Normal</td><td>156</td><td>N</td><td>1</td><td>Flat</td><td>1</td></tr>\n",
       "\t<tr><td>37</td><td>M</td><td>ATA</td><td>130</td><td>283</td><td>0</td><td>ST    </td><td> 98</td><td>N</td><td>0</td><td>Up  </td><td>0</td></tr>\n",
       "\t<tr><td>⋮</td><td>⋮</td><td>⋮</td><td>⋮</td><td>⋮</td><td>⋮</td><td>⋮</td><td>⋮</td><td>⋮</td><td>⋮</td><td>⋮</td><td>⋮</td></tr>\n",
       "\t<tr><td>57</td><td>M</td><td>ASY</td><td>130</td><td>131</td><td>0</td><td>Normal</td><td>115</td><td>Y</td><td>1.2</td><td>Flat</td><td>1</td></tr>\n",
       "\t<tr><td>57</td><td>F</td><td>ATA</td><td>130</td><td>236</td><td>0</td><td>LVH   </td><td>174</td><td>N</td><td>0.0</td><td>Flat</td><td>1</td></tr>\n",
       "\t<tr><td>38</td><td>M</td><td>NAP</td><td>138</td><td>175</td><td>0</td><td>Normal</td><td>173</td><td>N</td><td>0.0</td><td>Up  </td><td>0</td></tr>\n",
       "</tbody>\n",
       "</table>\n"
      ],
      "text/latex": [
       "A spec\\_tbl\\_df: 918 × 12\n",
       "\\begin{tabular}{llllllllllll}\n",
       " Age & Sex & ChestPainType & RestingBP & Cholesterol & FastingBS & RestingECG & MaxHR & ExerciseAngina & Oldpeak & ST\\_Slope & HeartDisease\\\\\n",
       " <dbl> & <chr> & <chr> & <dbl> & <dbl> & <dbl> & <chr> & <dbl> & <chr> & <dbl> & <chr> & <dbl>\\\\\n",
       "\\hline\n",
       "\t 40 & M & ATA & 140 & 289 & 0 & Normal & 172 & N & 0 & Up   & 0\\\\\n",
       "\t 49 & F & NAP & 160 & 180 & 0 & Normal & 156 & N & 1 & Flat & 1\\\\\n",
       "\t 37 & M & ATA & 130 & 283 & 0 & ST     &  98 & N & 0 & Up   & 0\\\\\n",
       "\t ⋮ & ⋮ & ⋮ & ⋮ & ⋮ & ⋮ & ⋮ & ⋮ & ⋮ & ⋮ & ⋮ & ⋮\\\\\n",
       "\t 57 & M & ASY & 130 & 131 & 0 & Normal & 115 & Y & 1.2 & Flat & 1\\\\\n",
       "\t 57 & F & ATA & 130 & 236 & 0 & LVH    & 174 & N & 0.0 & Flat & 1\\\\\n",
       "\t 38 & M & NAP & 138 & 175 & 0 & Normal & 173 & N & 0.0 & Up   & 0\\\\\n",
       "\\end{tabular}\n"
      ],
      "text/markdown": [
       "\n",
       "A spec_tbl_df: 918 × 12\n",
       "\n",
       "| Age &lt;dbl&gt; | Sex &lt;chr&gt; | ChestPainType &lt;chr&gt; | RestingBP &lt;dbl&gt; | Cholesterol &lt;dbl&gt; | FastingBS &lt;dbl&gt; | RestingECG &lt;chr&gt; | MaxHR &lt;dbl&gt; | ExerciseAngina &lt;chr&gt; | Oldpeak &lt;dbl&gt; | ST_Slope &lt;chr&gt; | HeartDisease &lt;dbl&gt; |\n",
       "|---|---|---|---|---|---|---|---|---|---|---|---|\n",
       "| 40 | M | ATA | 140 | 289 | 0 | Normal | 172 | N | 0 | Up   | 0 |\n",
       "| 49 | F | NAP | 160 | 180 | 0 | Normal | 156 | N | 1 | Flat | 1 |\n",
       "| 37 | M | ATA | 130 | 283 | 0 | ST     |  98 | N | 0 | Up   | 0 |\n",
       "| ⋮ | ⋮ | ⋮ | ⋮ | ⋮ | ⋮ | ⋮ | ⋮ | ⋮ | ⋮ | ⋮ | ⋮ |\n",
       "| 57 | M | ASY | 130 | 131 | 0 | Normal | 115 | Y | 1.2 | Flat | 1 |\n",
       "| 57 | F | ATA | 130 | 236 | 0 | LVH    | 174 | N | 0.0 | Flat | 1 |\n",
       "| 38 | M | NAP | 138 | 175 | 0 | Normal | 173 | N | 0.0 | Up   | 0 |\n",
       "\n"
      ],
      "text/plain": [
       "    Age Sex ChestPainType RestingBP Cholesterol FastingBS RestingECG MaxHR\n",
       "1   40  M   ATA           140       289         0         Normal     172  \n",
       "2   49  F   NAP           160       180         0         Normal     156  \n",
       "3   37  M   ATA           130       283         0         ST          98  \n",
       "⋮   ⋮   ⋮   ⋮             ⋮         ⋮           ⋮         ⋮          ⋮    \n",
       "916 57  M   ASY           130       131         0         Normal     115  \n",
       "917 57  F   ATA           130       236         0         LVH        174  \n",
       "918 38  M   NAP           138       175         0         Normal     173  \n",
       "    ExerciseAngina Oldpeak ST_Slope HeartDisease\n",
       "1   N              0       Up       0           \n",
       "2   N              1       Flat     1           \n",
       "3   N              0       Up       0           \n",
       "⋮   ⋮              ⋮       ⋮        ⋮           \n",
       "916 Y              1.2     Flat     1           \n",
       "917 N              0.0     Flat     1           \n",
       "918 N              0.0     Up       0           "
      ]
     },
     "metadata": {},
     "output_type": "display_data"
    }
   ],
   "source": [
    "#Reading data from the \"data\" folder, no data explaination on the csv file, no need for skipping. \n",
    "#data is tidy \n",
    "#we read the data into R as \"data\"\n",
    "data <- read_csv(\"data/heart.csv\")\n",
    "data"
   ]
  },
  {
   "cell_type": "markdown",
   "id": "e63efeac-d417-4322-aee5-46584ad91ddd",
   "metadata": {},
   "source": [
    "## Variable Explanation \n",
    "\n",
    "Age: age of the patient [years]\n",
    "\n",
    "Sex: sex of the patient [M: Male, F: Female]\n",
    "\n",
    "ChestPainType: chest pain type [TA: Typical Angina, ATA: Atypical Angina, NAP: Non-Anginal Pain, ASY: Asymptomatic]\n",
    "\n",
    "RestingBP: resting blood pressure [mm Hg]\n",
    "Cholesterol: serum cholesterol [mm/dl]\n",
    "\n",
    "FastingBS: fasting blood sugar [1: if FastingBS > 120 mg/dl, 0: otherwise]\n",
    "\n",
    "RestingECG: resting electrocardiogram results [Normal: Normal, ST: having ST-T wave abnormality (T wave inversions and/or ST elevation or depression of > 0.05 mV), LVH: showing probable or definite left ventricular hypertrophy by Estes' criteria]\n",
    "\n",
    "MaxHR: maximum heart rate achieved [Numeric value between 60 and 202]\n",
    "ExerciseAngina: exercise-induced angina [Y: Yes, N: No]\n",
    "\n",
    "Oldpeak: oldpeak = ST [Numeric value measured in depression]\n",
    "\n",
    "ST_Slope: the slope of the peak exercise ST segment [Up: upsloping, Flat: flat, Down: downsloping]\n",
    "\n",
    "HeartDisease: output class [1: heart disease, 0: Normal]"
   ]
  },
  {
   "cell_type": "markdown",
   "id": "3e05de58-e151-4ac0-8601-198e20b0ac29",
   "metadata": {},
   "source": [
    "### Wrangling & Cleaning the Data\n",
    "The data is tibble and there is no NA found.\n",
    "We are filtering for ATA chest pain since we are interested in predicting the status of heart disease for patients with this symptom. Selecting for these following numerical variables: \n",
    "age, resting blood pressure (mmHg), maximum heart rate, and serum cholesterol level (mm/dl).\n",
    "HeartDisease was incorrectly stored as a numerical (dbl) column. We use mutate() to turn it into a factor."
   ]
  },
  {
   "cell_type": "code",
   "execution_count": 64,
   "id": "cc907377-1f75-4a8a-b58e-e5a42a3a5cb7",
   "metadata": {},
   "outputs": [
    {
     "data": {
      "text/html": [
       "<table class=\"dataframe\">\n",
       "<caption>A tibble: 0 × 2</caption>\n",
       "<thead>\n",
       "\t<tr><th scope=col>HeartDisease</th><th scope=col>n</th></tr>\n",
       "\t<tr><th scope=col>&lt;dbl&gt;</th><th scope=col>&lt;int&gt;</th></tr>\n",
       "</thead>\n",
       "<tbody>\n",
       "</tbody>\n",
       "</table>\n"
      ],
      "text/latex": [
       "A tibble: 0 × 2\n",
       "\\begin{tabular}{ll}\n",
       " HeartDisease & n\\\\\n",
       " <dbl> & <int>\\\\\n",
       "\\hline\n",
       "\\end{tabular}\n"
      ],
      "text/markdown": [
       "\n",
       "A tibble: 0 × 2\n",
       "\n",
       "| HeartDisease &lt;dbl&gt; | n &lt;int&gt; |\n",
       "|---|---|\n",
       "\n"
      ],
      "text/plain": [
       "     HeartDisease n"
      ]
     },
     "metadata": {},
     "output_type": "display_data"
    }
   ],
   "source": [
    "  #################check this   \n",
    "data|>\n",
    "        filter(HeartDisease=NA)|>\n",
    "        group_by(HeartDisease)|>\n",
    "        summarize(n=n())"
   ]
  },
  {
   "cell_type": "code",
   "execution_count": 65,
   "id": "d19ff075-a2e9-4e5f-97a7-724c6fcd40e6",
   "metadata": {},
   "outputs": [
    {
     "data": {
      "text/html": [
       "<table class=\"dataframe\">\n",
       "<caption>A tibble: 173 × 5</caption>\n",
       "<thead>\n",
       "\t<tr><th scope=col>Age</th><th scope=col>RestingBP</th><th scope=col>Cholesterol</th><th scope=col>MaxHR</th><th scope=col>HeartDisease</th></tr>\n",
       "\t<tr><th scope=col>&lt;dbl&gt;</th><th scope=col>&lt;dbl&gt;</th><th scope=col>&lt;dbl&gt;</th><th scope=col>&lt;dbl&gt;</th><th scope=col>&lt;fct&gt;</th></tr>\n",
       "</thead>\n",
       "<tbody>\n",
       "\t<tr><td>40</td><td>140</td><td>289</td><td>172</td><td>0</td></tr>\n",
       "\t<tr><td>37</td><td>130</td><td>283</td><td> 98</td><td>0</td></tr>\n",
       "\t<tr><td>45</td><td>130</td><td>237</td><td>170</td><td>0</td></tr>\n",
       "\t<tr><td>⋮</td><td>⋮</td><td>⋮</td><td>⋮</td><td>⋮</td></tr>\n",
       "\t<tr><td>55</td><td>132</td><td>342</td><td>166</td><td>0</td></tr>\n",
       "\t<tr><td>41</td><td>120</td><td>157</td><td>182</td><td>0</td></tr>\n",
       "\t<tr><td>57</td><td>130</td><td>236</td><td>174</td><td>1</td></tr>\n",
       "</tbody>\n",
       "</table>\n"
      ],
      "text/latex": [
       "A tibble: 173 × 5\n",
       "\\begin{tabular}{lllll}\n",
       " Age & RestingBP & Cholesterol & MaxHR & HeartDisease\\\\\n",
       " <dbl> & <dbl> & <dbl> & <dbl> & <fct>\\\\\n",
       "\\hline\n",
       "\t 40 & 140 & 289 & 172 & 0\\\\\n",
       "\t 37 & 130 & 283 &  98 & 0\\\\\n",
       "\t 45 & 130 & 237 & 170 & 0\\\\\n",
       "\t ⋮ & ⋮ & ⋮ & ⋮ & ⋮\\\\\n",
       "\t 55 & 132 & 342 & 166 & 0\\\\\n",
       "\t 41 & 120 & 157 & 182 & 0\\\\\n",
       "\t 57 & 130 & 236 & 174 & 1\\\\\n",
       "\\end{tabular}\n"
      ],
      "text/markdown": [
       "\n",
       "A tibble: 173 × 5\n",
       "\n",
       "| Age &lt;dbl&gt; | RestingBP &lt;dbl&gt; | Cholesterol &lt;dbl&gt; | MaxHR &lt;dbl&gt; | HeartDisease &lt;fct&gt; |\n",
       "|---|---|---|---|---|\n",
       "| 40 | 140 | 289 | 172 | 0 |\n",
       "| 37 | 130 | 283 |  98 | 0 |\n",
       "| 45 | 130 | 237 | 170 | 0 |\n",
       "| ⋮ | ⋮ | ⋮ | ⋮ | ⋮ |\n",
       "| 55 | 132 | 342 | 166 | 0 |\n",
       "| 41 | 120 | 157 | 182 | 0 |\n",
       "| 57 | 130 | 236 | 174 | 1 |\n",
       "\n"
      ],
      "text/plain": [
       "    Age RestingBP Cholesterol MaxHR HeartDisease\n",
       "1   40  140       289         172   0           \n",
       "2   37  130       283          98   0           \n",
       "3   45  130       237         170   0           \n",
       "⋮   ⋮   ⋮         ⋮           ⋮     ⋮           \n",
       "171 55  132       342         166   0           \n",
       "172 41  120       157         182   0           \n",
       "173 57  130       236         174   1           "
      ]
     },
     "metadata": {},
     "output_type": "display_data"
    }
   ],
   "source": [
    "#Convert the character class variable to the factor data type\n",
    "data_cleaned <- data|>\n",
    "        mutate(HeartDisease = as.factor(HeartDisease))|>\n",
    "        filter(ChestPainType== \"ATA\")|>\n",
    "        select(Age, RestingBP, Cholesterol, MaxHR, HeartDisease)\n",
    "data_cleaned"
   ]
  },
  {
   "cell_type": "markdown",
   "id": "d85ad7a6-1326-4b32-b7e3-5b8dac26e1d3",
   "metadata": {},
   "source": [
    "## Spliting data\n",
    "spliting the data into training set and testing set, 75% of the data in the training set"
   ]
  },
  {
   "cell_type": "code",
   "execution_count": 66,
   "id": "8927e8da-3fe4-4d98-9102-b7e861c6d8a3",
   "metadata": {},
   "outputs": [
    {
     "data": {
      "text/html": [
       "<table class=\"dataframe\">\n",
       "<caption>A tibble: 129 × 5</caption>\n",
       "<thead>\n",
       "\t<tr><th scope=col>Age</th><th scope=col>RestingBP</th><th scope=col>Cholesterol</th><th scope=col>MaxHR</th><th scope=col>HeartDisease</th></tr>\n",
       "\t<tr><th scope=col>&lt;dbl&gt;</th><th scope=col>&lt;dbl&gt;</th><th scope=col>&lt;dbl&gt;</th><th scope=col>&lt;dbl&gt;</th><th scope=col>&lt;fct&gt;</th></tr>\n",
       "</thead>\n",
       "<tbody>\n",
       "\t<tr><td>40</td><td>140</td><td>289</td><td>172</td><td>0</td></tr>\n",
       "\t<tr><td>37</td><td>130</td><td>283</td><td> 98</td><td>0</td></tr>\n",
       "\t<tr><td>45</td><td>130</td><td>237</td><td>170</td><td>0</td></tr>\n",
       "\t<tr><td>⋮</td><td>⋮</td><td>⋮</td><td>⋮</td><td>⋮</td></tr>\n",
       "\t<tr><td>54</td><td>192</td><td>283</td><td>195</td><td>1</td></tr>\n",
       "\t<tr><td>58</td><td>120</td><td>284</td><td>160</td><td>1</td></tr>\n",
       "\t<tr><td>48</td><td>110</td><td>229</td><td>168</td><td>1</td></tr>\n",
       "</tbody>\n",
       "</table>\n"
      ],
      "text/latex": [
       "A tibble: 129 × 5\n",
       "\\begin{tabular}{lllll}\n",
       " Age & RestingBP & Cholesterol & MaxHR & HeartDisease\\\\\n",
       " <dbl> & <dbl> & <dbl> & <dbl> & <fct>\\\\\n",
       "\\hline\n",
       "\t 40 & 140 & 289 & 172 & 0\\\\\n",
       "\t 37 & 130 & 283 &  98 & 0\\\\\n",
       "\t 45 & 130 & 237 & 170 & 0\\\\\n",
       "\t ⋮ & ⋮ & ⋮ & ⋮ & ⋮\\\\\n",
       "\t 54 & 192 & 283 & 195 & 1\\\\\n",
       "\t 58 & 120 & 284 & 160 & 1\\\\\n",
       "\t 48 & 110 & 229 & 168 & 1\\\\\n",
       "\\end{tabular}\n"
      ],
      "text/markdown": [
       "\n",
       "A tibble: 129 × 5\n",
       "\n",
       "| Age &lt;dbl&gt; | RestingBP &lt;dbl&gt; | Cholesterol &lt;dbl&gt; | MaxHR &lt;dbl&gt; | HeartDisease &lt;fct&gt; |\n",
       "|---|---|---|---|---|\n",
       "| 40 | 140 | 289 | 172 | 0 |\n",
       "| 37 | 130 | 283 |  98 | 0 |\n",
       "| 45 | 130 | 237 | 170 | 0 |\n",
       "| ⋮ | ⋮ | ⋮ | ⋮ | ⋮ |\n",
       "| 54 | 192 | 283 | 195 | 1 |\n",
       "| 58 | 120 | 284 | 160 | 1 |\n",
       "| 48 | 110 | 229 | 168 | 1 |\n",
       "\n"
      ],
      "text/plain": [
       "    Age RestingBP Cholesterol MaxHR HeartDisease\n",
       "1   40  140       289         172   0           \n",
       "2   37  130       283          98   0           \n",
       "3   45  130       237         170   0           \n",
       "⋮   ⋮   ⋮         ⋮           ⋮     ⋮           \n",
       "127 54  192       283         195   1           \n",
       "128 58  120       284         160   1           \n",
       "129 48  110       229         168   1           "
      ]
     },
     "metadata": {},
     "output_type": "display_data"
    },
    {
     "data": {
      "text/html": [
       "<table class=\"dataframe\">\n",
       "<caption>A tibble: 44 × 5</caption>\n",
       "<thead>\n",
       "\t<tr><th scope=col>Age</th><th scope=col>RestingBP</th><th scope=col>Cholesterol</th><th scope=col>MaxHR</th><th scope=col>HeartDisease</th></tr>\n",
       "\t<tr><th scope=col>&lt;dbl&gt;</th><th scope=col>&lt;dbl&gt;</th><th scope=col>&lt;dbl&gt;</th><th scope=col>&lt;dbl&gt;</th><th scope=col>&lt;fct&gt;</th></tr>\n",
       "</thead>\n",
       "<tbody>\n",
       "\t<tr><td>36</td><td>120</td><td>267</td><td>160</td><td>1</td></tr>\n",
       "\t<tr><td>44</td><td>120</td><td>184</td><td>142</td><td>0</td></tr>\n",
       "\t<tr><td>52</td><td>120</td><td>284</td><td>118</td><td>0</td></tr>\n",
       "\t<tr><td>⋮</td><td>⋮</td><td>⋮</td><td>⋮</td><td>⋮</td></tr>\n",
       "\t<tr><td>57</td><td>154</td><td>232</td><td>164</td><td>1</td></tr>\n",
       "\t<tr><td>56</td><td>130</td><td>221</td><td>163</td><td>0</td></tr>\n",
       "\t<tr><td>57</td><td>130</td><td>236</td><td>174</td><td>1</td></tr>\n",
       "</tbody>\n",
       "</table>\n"
      ],
      "text/latex": [
       "A tibble: 44 × 5\n",
       "\\begin{tabular}{lllll}\n",
       " Age & RestingBP & Cholesterol & MaxHR & HeartDisease\\\\\n",
       " <dbl> & <dbl> & <dbl> & <dbl> & <fct>\\\\\n",
       "\\hline\n",
       "\t 36 & 120 & 267 & 160 & 1\\\\\n",
       "\t 44 & 120 & 184 & 142 & 0\\\\\n",
       "\t 52 & 120 & 284 & 118 & 0\\\\\n",
       "\t ⋮ & ⋮ & ⋮ & ⋮ & ⋮\\\\\n",
       "\t 57 & 154 & 232 & 164 & 1\\\\\n",
       "\t 56 & 130 & 221 & 163 & 0\\\\\n",
       "\t 57 & 130 & 236 & 174 & 1\\\\\n",
       "\\end{tabular}\n"
      ],
      "text/markdown": [
       "\n",
       "A tibble: 44 × 5\n",
       "\n",
       "| Age &lt;dbl&gt; | RestingBP &lt;dbl&gt; | Cholesterol &lt;dbl&gt; | MaxHR &lt;dbl&gt; | HeartDisease &lt;fct&gt; |\n",
       "|---|---|---|---|---|\n",
       "| 36 | 120 | 267 | 160 | 1 |\n",
       "| 44 | 120 | 184 | 142 | 0 |\n",
       "| 52 | 120 | 284 | 118 | 0 |\n",
       "| ⋮ | ⋮ | ⋮ | ⋮ | ⋮ |\n",
       "| 57 | 154 | 232 | 164 | 1 |\n",
       "| 56 | 130 | 221 | 163 | 0 |\n",
       "| 57 | 130 | 236 | 174 | 1 |\n",
       "\n"
      ],
      "text/plain": [
       "   Age RestingBP Cholesterol MaxHR HeartDisease\n",
       "1  36  120       267         160   1           \n",
       "2  44  120       184         142   0           \n",
       "3  52  120       284         118   0           \n",
       "⋮  ⋮   ⋮         ⋮           ⋮     ⋮           \n",
       "42 57  154       232         164   1           \n",
       "43 56  130       221         163   0           \n",
       "44 57  130       236         174   1           "
      ]
     },
     "metadata": {},
     "output_type": "display_data"
    }
   ],
   "source": [
    "### spliting the data into training set and testing set, 75% of the data in the training set\n",
    "data_split <- initial_split(data_cleaned, prop = 0.75, strata = HeartDisease) \n",
    "data_train <- training(data_split)   \n",
    "data_test <- testing(data_split)\n",
    "data_train\n",
    "data_test"
   ]
  },
  {
   "cell_type": "markdown",
   "id": "6b76c815-9081-4e47-857c-bc8363e82f80",
   "metadata": {},
   "source": [
    "## Table"
   ]
  },
  {
   "cell_type": "code",
   "execution_count": 67,
   "id": "34361cb3-efd9-4cb5-b1da-9e007ad973de",
   "metadata": {},
   "outputs": [
    {
     "data": {
      "text/html": [
       "<table class=\"dataframe\">\n",
       "<caption>A tibble: 0 × 2</caption>\n",
       "<thead>\n",
       "\t<tr><th scope=col>HeartDisease</th><th scope=col>n</th></tr>\n",
       "\t<tr><th scope=col>&lt;fct&gt;</th><th scope=col>&lt;int&gt;</th></tr>\n",
       "</thead>\n",
       "<tbody>\n",
       "</tbody>\n",
       "</table>\n"
      ],
      "text/latex": [
       "A tibble: 0 × 2\n",
       "\\begin{tabular}{ll}\n",
       " HeartDisease & n\\\\\n",
       " <fct> & <int>\\\\\n",
       "\\hline\n",
       "\\end{tabular}\n"
      ],
      "text/markdown": [
       "\n",
       "A tibble: 0 × 2\n",
       "\n",
       "| HeartDisease &lt;fct&gt; | n &lt;int&gt; |\n",
       "|---|---|\n",
       "\n"
      ],
      "text/plain": [
       "     HeartDisease n"
      ]
     },
     "metadata": {},
     "output_type": "display_data"
    }
   ],
   "source": [
    "na_heart <- data_train|>\n",
    "        filter(HeartDisease=NA)|>\n",
    "        group_by(HeartDisease)|>\n",
    "        summarize(n=n())\n",
    "na_heart"
   ]
  },
  {
   "cell_type": "markdown",
   "id": "3bf15348-4d4d-4980-a965-8968e6bf2a81",
   "metadata": {},
   "source": [
    "None of the rows have a missing data within our data set."
   ]
  },
  {
   "cell_type": "code",
   "execution_count": 68,
   "id": "0c7a8e6d-9c04-4566-bc17-eddfe3708a3e",
   "metadata": {},
   "outputs": [
    {
     "data": {
      "text/html": [
       "<table class=\"dataframe\">\n",
       "<caption>A data.frame: 2 × 6</caption>\n",
       "<thead>\n",
       "\t<tr><th scope=col>HeartDisease</th><th scope=col>Avg_Age</th><th scope=col>Avg_RestingBP</th><th scope=col>Avg_Cholesterol</th><th scope=col>Avg_MaxHR</th><th scope=col>Observation</th></tr>\n",
       "\t<tr><th scope=col>&lt;fct&gt;</th><th scope=col>&lt;dbl&gt;</th><th scope=col>&lt;dbl&gt;</th><th scope=col>&lt;dbl&gt;</th><th scope=col>&lt;dbl&gt;</th><th scope=col>&lt;int&gt;</th></tr>\n",
       "</thead>\n",
       "<tbody>\n",
       "\t<tr><td>0</td><td>47.54955</td><td>128.7477</td><td>233.6937</td><td>152.7928</td><td>111</td></tr>\n",
       "\t<tr><td>1</td><td>55.38889</td><td>140.1667</td><td>241.2778</td><td>134.9444</td><td> 18</td></tr>\n",
       "</tbody>\n",
       "</table>\n"
      ],
      "text/latex": [
       "A data.frame: 2 × 6\n",
       "\\begin{tabular}{llllll}\n",
       " HeartDisease & Avg\\_Age & Avg\\_RestingBP & Avg\\_Cholesterol & Avg\\_MaxHR & Observation\\\\\n",
       " <fct> & <dbl> & <dbl> & <dbl> & <dbl> & <int>\\\\\n",
       "\\hline\n",
       "\t 0 & 47.54955 & 128.7477 & 233.6937 & 152.7928 & 111\\\\\n",
       "\t 1 & 55.38889 & 140.1667 & 241.2778 & 134.9444 &  18\\\\\n",
       "\\end{tabular}\n"
      ],
      "text/markdown": [
       "\n",
       "A data.frame: 2 × 6\n",
       "\n",
       "| HeartDisease &lt;fct&gt; | Avg_Age &lt;dbl&gt; | Avg_RestingBP &lt;dbl&gt; | Avg_Cholesterol &lt;dbl&gt; | Avg_MaxHR &lt;dbl&gt; | Observation &lt;int&gt; |\n",
       "|---|---|---|---|---|---|\n",
       "| 0 | 47.54955 | 128.7477 | 233.6937 | 152.7928 | 111 |\n",
       "| 1 | 55.38889 | 140.1667 | 241.2778 | 134.9444 |  18 |\n",
       "\n"
      ],
      "text/plain": [
       "  HeartDisease Avg_Age  Avg_RestingBP Avg_Cholesterol Avg_MaxHR Observation\n",
       "1 0            47.54955 128.7477      233.6937        152.7928  111        \n",
       "2 1            55.38889 140.1667      241.2778        134.9444   18        "
      ]
     },
     "metadata": {},
     "output_type": "display_data"
    },
    {
     "data": {
      "text/html": [
       "<table class=\"dataframe\">\n",
       "<caption>A data.frame: 2 × 6</caption>\n",
       "<thead>\n",
       "\t<tr><th scope=col>HeartDisease</th><th scope=col>max_Age</th><th scope=col>max_RestingBP</th><th scope=col>max_Cholesterol</th><th scope=col>max_MaxHR</th><th scope=col>Observation</th></tr>\n",
       "\t<tr><th scope=col>&lt;fct&gt;</th><th scope=col>&lt;dbl&gt;</th><th scope=col>&lt;dbl&gt;</th><th scope=col>&lt;dbl&gt;</th><th scope=col>&lt;dbl&gt;</th><th scope=col>&lt;int&gt;</th></tr>\n",
       "</thead>\n",
       "<tbody>\n",
       "\t<tr><td>0</td><td>74</td><td>190</td><td>468</td><td>202</td><td>111</td></tr>\n",
       "\t<tr><td>1</td><td>66</td><td>192</td><td>393</td><td>195</td><td> 18</td></tr>\n",
       "</tbody>\n",
       "</table>\n"
      ],
      "text/latex": [
       "A data.frame: 2 × 6\n",
       "\\begin{tabular}{llllll}\n",
       " HeartDisease & max\\_Age & max\\_RestingBP & max\\_Cholesterol & max\\_MaxHR & Observation\\\\\n",
       " <fct> & <dbl> & <dbl> & <dbl> & <dbl> & <int>\\\\\n",
       "\\hline\n",
       "\t 0 & 74 & 190 & 468 & 202 & 111\\\\\n",
       "\t 1 & 66 & 192 & 393 & 195 &  18\\\\\n",
       "\\end{tabular}\n"
      ],
      "text/markdown": [
       "\n",
       "A data.frame: 2 × 6\n",
       "\n",
       "| HeartDisease &lt;fct&gt; | max_Age &lt;dbl&gt; | max_RestingBP &lt;dbl&gt; | max_Cholesterol &lt;dbl&gt; | max_MaxHR &lt;dbl&gt; | Observation &lt;int&gt; |\n",
       "|---|---|---|---|---|---|\n",
       "| 0 | 74 | 190 | 468 | 202 | 111 |\n",
       "| 1 | 66 | 192 | 393 | 195 |  18 |\n",
       "\n"
      ],
      "text/plain": [
       "  HeartDisease max_Age max_RestingBP max_Cholesterol max_MaxHR Observation\n",
       "1 0            74      190           468             202       111        \n",
       "2 1            66      192           393             195        18        "
      ]
     },
     "metadata": {},
     "output_type": "display_data"
    },
    {
     "data": {
      "text/html": [
       "<table class=\"dataframe\">\n",
       "<caption>A data.frame: 2 × 6</caption>\n",
       "<thead>\n",
       "\t<tr><th scope=col>HeartDisease</th><th scope=col>min_Age</th><th scope=col>min_RestingBP</th><th scope=col>min_Cholesterol</th><th scope=col>min_MaxHR</th><th scope=col>Observation</th></tr>\n",
       "\t<tr><th scope=col>&lt;fct&gt;</th><th scope=col>&lt;dbl&gt;</th><th scope=col>&lt;dbl&gt;</th><th scope=col>&lt;dbl&gt;</th><th scope=col>&lt;dbl&gt;</th><th scope=col>&lt;int&gt;</th></tr>\n",
       "</thead>\n",
       "<tbody>\n",
       "\t<tr><td>0</td><td>28</td><td> 98</td><td>0</td><td>98</td><td>111</td></tr>\n",
       "\t<tr><td>1</td><td>35</td><td>110</td><td>0</td><td>95</td><td> 18</td></tr>\n",
       "</tbody>\n",
       "</table>\n"
      ],
      "text/latex": [
       "A data.frame: 2 × 6\n",
       "\\begin{tabular}{llllll}\n",
       " HeartDisease & min\\_Age & min\\_RestingBP & min\\_Cholesterol & min\\_MaxHR & Observation\\\\\n",
       " <fct> & <dbl> & <dbl> & <dbl> & <dbl> & <int>\\\\\n",
       "\\hline\n",
       "\t 0 & 28 &  98 & 0 & 98 & 111\\\\\n",
       "\t 1 & 35 & 110 & 0 & 95 &  18\\\\\n",
       "\\end{tabular}\n"
      ],
      "text/markdown": [
       "\n",
       "A data.frame: 2 × 6\n",
       "\n",
       "| HeartDisease &lt;fct&gt; | min_Age &lt;dbl&gt; | min_RestingBP &lt;dbl&gt; | min_Cholesterol &lt;dbl&gt; | min_MaxHR &lt;dbl&gt; | Observation &lt;int&gt; |\n",
       "|---|---|---|---|---|---|\n",
       "| 0 | 28 |  98 | 0 | 98 | 111 |\n",
       "| 1 | 35 | 110 | 0 | 95 |  18 |\n",
       "\n"
      ],
      "text/plain": [
       "  HeartDisease min_Age min_RestingBP min_Cholesterol min_MaxHR Observation\n",
       "1 0            28       98           0               98        111        \n",
       "2 1            35      110           0               95         18        "
      ]
     },
     "metadata": {},
     "output_type": "display_data"
    },
    {
     "data": {
      "text/html": [
       "<table class=\"dataframe\">\n",
       "<caption>A data.frame: 2 × 6</caption>\n",
       "<thead>\n",
       "\t<tr><th scope=col>HeartDisease</th><th scope=col>var_Age</th><th scope=col>var_RestingBP</th><th scope=col>var_Cholesterol</th><th scope=col>var_MaxHR</th><th scope=col>Observation</th></tr>\n",
       "\t<tr><th scope=col>&lt;fct&gt;</th><th scope=col>&lt;dbl&gt;</th><th scope=col>&lt;dbl&gt;</th><th scope=col>&lt;dbl&gt;</th><th scope=col>&lt;dbl&gt;</th><th scope=col>&lt;int&gt;</th></tr>\n",
       "</thead>\n",
       "<tbody>\n",
       "\t<tr><td>0</td><td>78.37707</td><td>241.8267</td><td>4202.905</td><td>438.4749</td><td>111</td></tr>\n",
       "\t<tr><td>1</td><td>50.83987</td><td>628.7353</td><td>9803.389</td><td>702.7614</td><td> 18</td></tr>\n",
       "</tbody>\n",
       "</table>\n"
      ],
      "text/latex": [
       "A data.frame: 2 × 6\n",
       "\\begin{tabular}{llllll}\n",
       " HeartDisease & var\\_Age & var\\_RestingBP & var\\_Cholesterol & var\\_MaxHR & Observation\\\\\n",
       " <fct> & <dbl> & <dbl> & <dbl> & <dbl> & <int>\\\\\n",
       "\\hline\n",
       "\t 0 & 78.37707 & 241.8267 & 4202.905 & 438.4749 & 111\\\\\n",
       "\t 1 & 50.83987 & 628.7353 & 9803.389 & 702.7614 &  18\\\\\n",
       "\\end{tabular}\n"
      ],
      "text/markdown": [
       "\n",
       "A data.frame: 2 × 6\n",
       "\n",
       "| HeartDisease &lt;fct&gt; | var_Age &lt;dbl&gt; | var_RestingBP &lt;dbl&gt; | var_Cholesterol &lt;dbl&gt; | var_MaxHR &lt;dbl&gt; | Observation &lt;int&gt; |\n",
       "|---|---|---|---|---|---|\n",
       "| 0 | 78.37707 | 241.8267 | 4202.905 | 438.4749 | 111 |\n",
       "| 1 | 50.83987 | 628.7353 | 9803.389 | 702.7614 |  18 |\n",
       "\n"
      ],
      "text/plain": [
       "  HeartDisease var_Age  var_RestingBP var_Cholesterol var_MaxHR Observation\n",
       "1 0            78.37707 241.8267      4202.905        438.4749  111        \n",
       "2 1            50.83987 628.7353      9803.389        702.7614   18        "
      ]
     },
     "metadata": {},
     "output_type": "display_data"
    }
   ],
   "source": [
    "nheart <- data_train|>\n",
    "        group_by(HeartDisease)|>\n",
    "        summarize(Observation=n())\n",
    "\n",
    "table_1 <- data_train|>\n",
    "        group_by(HeartDisease)|>\n",
    "        summarize(across(Age:MaxHR, mean, na.rm=TRUE)) \n",
    "mean_heart_disease <- merge(table_1,nheart) |>\n",
    "    rename(Avg_Age = Age, Avg_RestingBP = RestingBP, Avg_Cholesterol = Cholesterol, Avg_MaxHR = MaxHR)\n",
    "\n",
    "table_2 <- data_train|>\n",
    "        group_by(HeartDisease)|>\n",
    "        summarize(across(Age:MaxHR, max, na.rm=TRUE)) \n",
    "max_heart_disease <- merge(table_2, nheart) |>\n",
    "    rename(max_Age = Age, max_RestingBP = RestingBP, max_Cholesterol = Cholesterol, max_MaxHR = MaxHR) \n",
    "\n",
    "table_3 <- data_train|>\n",
    "        group_by(HeartDisease)|>\n",
    "        summarize(across(Age:MaxHR, min, na.rm=TRUE)) \n",
    "min_heart_disease <- merge(table_3, nheart) |>\n",
    "    rename(min_Age = Age, min_RestingBP = RestingBP, min_Cholesterol = Cholesterol, min_MaxHR = MaxHR)\n",
    "\n",
    "table_4 <- data_train|>\n",
    "        group_by(HeartDisease)|>\n",
    "        summarize(across(Age:MaxHR, var, na.rm=TRUE)) \n",
    "variance_heart_disease <- merge(table_4,nheart) |>\n",
    "    rename(var_Age = Age, var_RestingBP = RestingBP, var_Cholesterol = Cholesterol, var_MaxHR = MaxHR) \n",
    "\n",
    "\n",
    "\n",
    "mean_heart_disease\n",
    "max_heart_disease\n",
    "min_heart_disease\n",
    "variance_heart_disease"
   ]
  },
  {
   "cell_type": "markdown",
   "id": "e09afabe-6935-456d-9e03-18ebdd1b848c",
   "metadata": {},
   "source": [
    "## visalization "
   ]
  },
  {
   "cell_type": "code",
   "execution_count": 69,
   "id": "d123ae13-9df4-4601-9de5-803610e77575",
   "metadata": {},
   "outputs": [
    {
     "data": {
      "image/png": "[encoded data removed]",
      "text/plain": [
       "plot without title"
      ]
     },
     "metadata": {
      "image/png": {
       "height": 420,
       "width": 720
      }
     },
     "output_type": "display_data"
    }
   ],
   "source": [
    "options(repr.plot.width = 12, repr.plot.height = 7) \n",
    "\n",
    "#scaterplot resting blood pressure and age \n",
    "agevsbp <- ggplot(data_train, aes(x = Age, y = RestingBP, color = HeartDisease)) +\n",
    "      geom_point() +\n",
    "      xlab(\"Age (years)\") +\n",
    "      ylab(\"Resting Blood Pressure (mmHg)\") +\n",
    "        labs(color= \"Heart Disease Status\")+\n",
    "      theme(text = element_text(size = 12),\n",
    "        legend.position = \"top\",\n",
    "        legend.direction = \"vertical\") +\n",
    "        scale_color_manual(labels = c(\"Normal\",\"Diseased\"),\n",
    "                           values= c(\"orange2\",\"steelblue2\"))\n",
    "      \n",
    "#agevsbp\n",
    "\n",
    "#scaterplot cholesterol level and max heart rate\n",
    "cholvshr <- ggplot(data_train, aes(x = Cholesterol, y = MaxHR, color = HeartDisease)) +\n",
    "      geom_point() +\n",
    "      xlab(\"Serum Cholesterol (mm/dl)\") +\n",
    "      ylab(\"Maximum Heart Rate \\n Achieved (numeric values)\") +\n",
    "labs(color= \"Heart Disease Status\")+\n",
    "      theme(text = element_text(size = 12),\n",
    "        legend.position = \"top\",\n",
    "        legend.direction = \"vertical\") +\n",
    "        scale_color_manual(labels = c(\"Normal\",\"Diseased\"),\n",
    "                           values= c(\"orange2\",\"steelblue2\"))\n",
    "\n",
    "#cholvshr\n",
    "library(cowplot)\n",
    "plot_grid(cholvshr, agevsbp, scale=0.8)"
   ]
  },
  {
   "cell_type": "markdown",
   "id": "107bb78f-1948-4730-ba1b-5726a4b3b3ed",
   "metadata": {},
   "source": [
    "# ggtitle\n",
    "(\n",
    "label\n",
    "=\n",
    "\"k-means clustering with 3 clusters\"\n",
    ",\n",
    "subtitle\n",
    "=\n",
    "\"\"\n",
    ")"
   ]
  },
  {
   "cell_type": "markdown",
   "id": "06d16679-9406-4ea3-bf95-0df61def6df2",
   "metadata": {},
   "source": [
    "## Methods:\n",
    "  In this project, we are using the “Heart Failure Prediction Dataset” and classification method to predict whether a person with atypical angina (ATA) chest pain has a heart disease or not. The knn classification method will be used because we want to predict heart disease status, which is a (binary) categorical variable, 1= “yes” or 0 = “no”. We will use the numerical variables (predictors) in the dataset including; age (years), resting blood pressure (mmHg), maximum heart rate, and serum cholesterol level (mm/dl) for our prediction as these numerical variables are either the risk factors or symptoms for heart disease. \n",
    "\n",
    "We can plot the accuracy versus number of neighbors (k-value) to find the k value with the highest accuracy using a line graph. We can also generate a scatter plot with the scaled and centered age and resting blood pressure on the axis while differentiating the heart disease status with different colors. "
   ]
  },
  {
   "cell_type": "markdown",
   "id": "69c5fb23-3b69-494f-8a09-ff6015059a81",
   "metadata": {},
   "source": [
    "## Expected outcomes and significance:\n",
    "\n",
    "By developing this model, we expect to be able to predict heart disease accurately based on the biological determinants observed in individuals. This model is particularly significant as it filters for the individuals with ATA chest pain. Chest pain with an atypical angina is not easily diagnosed or classified as a common or obvious condition. Therefore, our model can lay the groundwork for development of models that predict or diagnose heart disease in the patients with atypical pains. Also, in our analysis, some relationships may be observed between heart disease and the predictors. These observations can lead the researchers to answer further questions like what the physiological mechanisms behind these relationships are. Another significant question that will expand this work would be how we can design one model capable of predicting heart disease in individuals with different types of chest pains and across different genders."
   ]
  },
  {
   "cell_type": "markdown",
   "id": "8b6d253e-8e18-4c3a-a14c-2b7d9d15c2da",
   "metadata": {},
   "source": [
    "## Refrences\n",
    "1.Tsao CW, Aday AW, Almarzooq ZI, Beaton AZ, Bittencourt MS, Boehme AK, et al. Heart Disease and Stroke Statistics—2022 Update: A Report From the American Heart Association. Circulation. 2022;145(8):e153–e639.\n",
    "\n",
    "2.Tsao CW, Aday AW, Almarzooq ZI, Beaton AZ, Bittencourt MS, Boehme AK, et al. Heart Disease and Stroke Statistics—2022 Update: A Report From the American Heart Association. Circulation. 2022;145(8):e153–e639.\n",
    "\n",
    "3.Centers for Disease Control and Prevention, National Center for Health Statistics. About Multiple Cause of Death, 1999–2020. CDC WONDER Online Database website. Atlanta, GA: Centers for Disease Control and Prevention; 2022. Accessed February 21, 2022.\n",
    "\n",
    "4.fedesoriano. (September 2021). Heart Failure Prediction Dataset. Retrieved [Date Retrieved] from https://www.kaggle.com/fedesoriano/heart-failure-prediction.\n"
   ]
  },
  {
   "cell_type": "code",
   "execution_count": 70,
   "id": "3ddf3b05-f758-481c-b6c6-c2075ddba81a",
   "metadata": {},
   "outputs": [],
   "source": [
    "#library(themis)\n",
    "\n",
    "#rep_sample_n\n",
    "\n",
    "#ups_recipe <- recipe(HeartDisease ~ ., data = data_cleaned) |>\n",
    "#  step_upsample(HeartDisease, over_ratio = 1, skip = FALSE) |>\n",
    "#  prep()\n",
    "\n",
    "#ups_recipe"
   ]
  },
  {
   "cell_type": "code",
   "execution_count": 71,
   "id": "dc45d413-e447-4457-8752-5a61c47667a4",
   "metadata": {},
   "outputs": [],
   "source": [
    "#upsampled_data <- bake(ups_recipe, data_cleaned)"
   ]
  },
  {
   "cell_type": "code",
   "execution_count": 72,
   "id": "52dc62ea-0bbe-4a71-bcb5-dcc7a0787331",
   "metadata": {},
   "outputs": [],
   "source": [
    "#sed.seed(4321)\n",
    "### spliting the data into training set and testing set, 75% of the data in the training set\n",
    "#data_split <- initial_split(upsampled_data, prop = 0.75, strata = HeartDisease) \n",
    "#data_train <- training(data_split)   \n",
    "#data_test <- testing(data_split)\n",
    "#data_train\n",
    "#data_test"
   ]
  },
  {
   "cell_type": "code",
   "execution_count": 73,
   "id": "8af9baa6-0312-40c3-a258-ef056a28838d",
   "metadata": {},
   "outputs": [],
   "source": [
    "#scaterplot resting blood pressure and age \n",
    "#agevsbp <- ggplot(data_train, aes(x = Age, y = RestingBP, color = HeartDisease)) +\n",
    "#      geom_point() +\n",
    "#      xlab(\"Age (years)\") +\n",
    "#      ylab(\"Resting Blood Pressure (mmHg)\") +\n",
    " #       labs(color= \"Heart Disease Status\")+\n",
    "  #    theme(text = element_text(size = 12),\n",
    "   #     legend.position = \"top\",\n",
    "    #    legend.direction = \"vertical\") +\n",
    "     #   scale_color_manual(labels = c(\"Normal\",\"Diseased\"),\n",
    "      #                     values= c(\"orange2\",\"steelblue2\"))\n",
    "      \n",
    "#agevsbp\n",
    "\n",
    "#scaterplot cholesterol level and max heart rate\n",
    "#cholvshr <- ggplot(data_train, aes(x = Cholesterol, y = MaxHR, color = HeartDisease)) +\n",
    " #     geom_point() +\n",
    "  #    xlab(\"Serum Cholesterol (mm/dl)\") +\n",
    "   #   ylab(\"Maximum Heart Rate \\n Achieved (numeric values)\") +\n",
    "#labs(color= \"Heart Disease Status\")+\n",
    " #     theme(text = element_text(size = 12),\n",
    "  #      legend.position = \"top\",\n",
    "   #     legend.direction = \"vertical\") +\n",
    "    #    scale_color_manual(labels = c(\"Normal\",\"Diseased\"),\n",
    "     #                      values= c(\"orange2\",\"steelblue2\"))\n",
    "\n",
    "#cholvshr\n",
    "\n",
    "#plot_grid(cholvshr, agevsbp, scale=0.8)"
   ]
  },
  {
   "cell_type": "markdown",
   "id": "9d5f4f71-6aa5-414e-9342-040987f15e57",
   "metadata": {},
   "source": [
    "### percentage for ATA"
   ]
  },
  {
   "cell_type": "code",
   "execution_count": 74,
   "id": "87006948-13eb-4f9d-9eb5-004ede368417",
   "metadata": {},
   "outputs": [
    {
     "data": {
      "text/html": [
       "<table class=\"dataframe\">\n",
       "<caption>A tibble: 2 × 3</caption>\n",
       "<thead>\n",
       "\t<tr><th scope=col>HeartDisease</th><th scope=col>count</th><th scope=col>percentage</th></tr>\n",
       "\t<tr><th scope=col>&lt;fct&gt;</th><th scope=col>&lt;int&gt;</th><th scope=col>&lt;dbl&gt;</th></tr>\n",
       "</thead>\n",
       "<tbody>\n",
       "\t<tr><td>0</td><td>149</td><td>86.12717</td></tr>\n",
       "\t<tr><td>1</td><td> 24</td><td>13.87283</td></tr>\n",
       "</tbody>\n",
       "</table>\n"
      ],
      "text/latex": [
       "A tibble: 2 × 3\n",
       "\\begin{tabular}{lll}\n",
       " HeartDisease & count & percentage\\\\\n",
       " <fct> & <int> & <dbl>\\\\\n",
       "\\hline\n",
       "\t 0 & 149 & 86.12717\\\\\n",
       "\t 1 &  24 & 13.87283\\\\\n",
       "\\end{tabular}\n"
      ],
      "text/markdown": [
       "\n",
       "A tibble: 2 × 3\n",
       "\n",
       "| HeartDisease &lt;fct&gt; | count &lt;int&gt; | percentage &lt;dbl&gt; |\n",
       "|---|---|---|\n",
       "| 0 | 149 | 86.12717 |\n",
       "| 1 |  24 | 13.87283 |\n",
       "\n"
      ],
      "text/plain": [
       "  HeartDisease count percentage\n",
       "1 0            149   86.12717  \n",
       "2 1             24   13.87283  "
      ]
     },
     "metadata": {},
     "output_type": "display_data"
    }
   ],
   "source": [
    "n_row <- nrow(data_cleaned)\n",
    "\n",
    "data_percentage <- data_cleaned |>\n",
    "    group_by(HeartDisease)|>\n",
    "    summarize(count=n(), percentage=n()/n_row*100)\n",
    "data_percentage"
   ]
  },
  {
   "cell_type": "markdown",
   "id": "d63483d2-d86c-4bbb-a29a-491ae1e76bc2",
   "metadata": {},
   "source": [
    "### preprocess data to standardize it"
   ]
  },
  {
   "cell_type": "code",
   "execution_count": 83,
   "id": "0466567c-93b8-440d-8c88-3c0d7a29f7c4",
   "metadata": {},
   "outputs": [
    {
     "data": {
      "text/html": [
       "<table class=\"dataframe\">\n",
       "<caption>A tibble: 15 × 7</caption>\n",
       "<thead>\n",
       "\t<tr><th scope=col>neighbors</th><th scope=col>.metric</th><th scope=col>.estimator</th><th scope=col>mean</th><th scope=col>n</th><th scope=col>std_err</th><th scope=col>.config</th></tr>\n",
       "\t<tr><th scope=col>&lt;int&gt;</th><th scope=col>&lt;chr&gt;</th><th scope=col>&lt;chr&gt;</th><th scope=col>&lt;dbl&gt;</th><th scope=col>&lt;int&gt;</th><th scope=col>&lt;dbl&gt;</th><th scope=col>&lt;chr&gt;</th></tr>\n",
       "</thead>\n",
       "<tbody>\n",
       "\t<tr><td>1</td><td>accuracy</td><td>binary</td><td>0.7996337</td><td>10</td><td>0.02523288</td><td>Preprocessor1_Model01</td></tr>\n",
       "\t<tr><td>2</td><td>accuracy</td><td>binary</td><td>0.7996337</td><td>10</td><td>0.02523288</td><td>Preprocessor1_Model02</td></tr>\n",
       "\t<tr><td>3</td><td>accuracy</td><td>binary</td><td>0.8523810</td><td>10</td><td>0.02199404</td><td>Preprocessor1_Model03</td></tr>\n",
       "\t<tr><td>⋮</td><td>⋮</td><td>⋮</td><td>⋮</td><td>⋮</td><td>⋮</td><td>⋮</td></tr>\n",
       "\t<tr><td>13</td><td>accuracy</td><td>binary</td><td>0.8613553</td><td>10</td><td>0.009282019</td><td>Preprocessor1_Model13</td></tr>\n",
       "\t<tr><td>14</td><td>accuracy</td><td>binary</td><td>0.8613553</td><td>10</td><td>0.009282019</td><td>Preprocessor1_Model14</td></tr>\n",
       "\t<tr><td>15</td><td>accuracy</td><td>binary</td><td>0.8613553</td><td>10</td><td>0.009282019</td><td>Preprocessor1_Model15</td></tr>\n",
       "</tbody>\n",
       "</table>\n"
      ],
      "text/latex": [
       "A tibble: 15 × 7\n",
       "\\begin{tabular}{lllllll}\n",
       " neighbors & .metric & .estimator & mean & n & std\\_err & .config\\\\\n",
       " <int> & <chr> & <chr> & <dbl> & <int> & <dbl> & <chr>\\\\\n",
       "\\hline\n",
       "\t 1 & accuracy & binary & 0.7996337 & 10 & 0.02523288 & Preprocessor1\\_Model01\\\\\n",
       "\t 2 & accuracy & binary & 0.7996337 & 10 & 0.02523288 & Preprocessor1\\_Model02\\\\\n",
       "\t 3 & accuracy & binary & 0.8523810 & 10 & 0.02199404 & Preprocessor1\\_Model03\\\\\n",
       "\t ⋮ & ⋮ & ⋮ & ⋮ & ⋮ & ⋮ & ⋮\\\\\n",
       "\t 13 & accuracy & binary & 0.8613553 & 10 & 0.009282019 & Preprocessor1\\_Model13\\\\\n",
       "\t 14 & accuracy & binary & 0.8613553 & 10 & 0.009282019 & Preprocessor1\\_Model14\\\\\n",
       "\t 15 & accuracy & binary & 0.8613553 & 10 & 0.009282019 & Preprocessor1\\_Model15\\\\\n",
       "\\end{tabular}\n"
      ],
      "text/markdown": [
       "\n",
       "A tibble: 15 × 7\n",
       "\n",
       "| neighbors &lt;int&gt; | .metric &lt;chr&gt; | .estimator &lt;chr&gt; | mean &lt;dbl&gt; | n &lt;int&gt; | std_err &lt;dbl&gt; | .config &lt;chr&gt; |\n",
       "|---|---|---|---|---|---|---|\n",
       "| 1 | accuracy | binary | 0.7996337 | 10 | 0.02523288 | Preprocessor1_Model01 |\n",
       "| 2 | accuracy | binary | 0.7996337 | 10 | 0.02523288 | Preprocessor1_Model02 |\n",
       "| 3 | accuracy | binary | 0.8523810 | 10 | 0.02199404 | Preprocessor1_Model03 |\n",
       "| ⋮ | ⋮ | ⋮ | ⋮ | ⋮ | ⋮ | ⋮ |\n",
       "| 13 | accuracy | binary | 0.8613553 | 10 | 0.009282019 | Preprocessor1_Model13 |\n",
       "| 14 | accuracy | binary | 0.8613553 | 10 | 0.009282019 | Preprocessor1_Model14 |\n",
       "| 15 | accuracy | binary | 0.8613553 | 10 | 0.009282019 | Preprocessor1_Model15 |\n",
       "\n"
      ],
      "text/plain": [
       "   neighbors .metric  .estimator mean      n  std_err     .config              \n",
       "1  1         accuracy binary     0.7996337 10 0.02523288  Preprocessor1_Model01\n",
       "2  2         accuracy binary     0.7996337 10 0.02523288  Preprocessor1_Model02\n",
       "3  3         accuracy binary     0.8523810 10 0.02199404  Preprocessor1_Model03\n",
       "⋮  ⋮         ⋮        ⋮          ⋮         ⋮  ⋮           ⋮                    \n",
       "13 13        accuracy binary     0.8613553 10 0.009282019 Preprocessor1_Model13\n",
       "14 14        accuracy binary     0.8613553 10 0.009282019 Preprocessor1_Model14\n",
       "15 15        accuracy binary     0.8613553 10 0.009282019 Preprocessor1_Model15"
      ]
     },
     "metadata": {},
     "output_type": "display_data"
    }
   ],
   "source": [
    "set.seed(1234)\n",
    "data_train_recipe <- recipe(HeartDisease ~ ., data= data_train)|>\n",
    "    step_scale(all_predictors())|>\n",
    "    step_center(all_predictors())\n",
    "\n",
    "data_vfold <- vfold_cv(data_train, v = 10, strata = HeartDisease)\n",
    "\n",
    "knn_spec <- nearest_neighbor(weight_func = \"rectangular\", neighbors = tune()) |>\n",
    "        set_engine(\"kknn\") |>\n",
    "        set_mode(\"classification\")\n",
    "\n",
    "#k_vals <- tibble(neighbors= seq(from= 1, to= 100, by= 5))\n",
    "\n",
    "knn_result <- workflow()|>\n",
    "    add_recipe(data_train_recipe)|>\n",
    "    add_model(knn_spec)|>\n",
    "    tune_grid(resamples=data_vfold, grid=20)|>\n",
    "    collect_metrics()\n",
    "\n",
    "accuracies <- knn_result |>\n",
    "  filter(.metric == \"accuracy\")\n",
    "\n",
    "accuracies"
   ]
  },
  {
   "cell_type": "code",
   "execution_count": 84,
   "id": "3d050a17-6728-40d8-a98d-bc2d48c8d6e0",
   "metadata": {},
   "outputs": [
    {
     "data": {
      "image/png": "[encoded data removed]",
      "text/plain": [
       "plot without title"
      ]
     },
     "metadata": {
      "image/png": {
       "height": 420,
       "width": 720
      }
     },
     "output_type": "display_data"
    }
   ],
   "source": [
    "accuracy_vs_k <- ggplot(accuracies, aes(x=neighbors, y=mean))+\n",
    "    geom_point()+\n",
    "    geom_line()+\n",
    "    labs(x = \"Neighbors\", y = \"Accuracy Estimate\") +\n",
    "    theme(text = element_text(size = 12))+\n",
    "    scale_x_continuous(breaks = seq(0, 14, by = 1))+  \n",
    "    scale_y_continuous(limits = c(0.6, 1.0), breaks=seq(0.6, 1, by=0.01))\n",
    "\n",
    "accuracy_vs_k"
   ]
  },
  {
   "cell_type": "code",
   "execution_count": 85,
   "id": "85134e19-34f7-4bbc-b6fe-588a1418dc61",
   "metadata": {},
   "outputs": [
    {
     "data": {
      "text/html": [
       "<table class=\"dataframe\">\n",
       "<caption>A tibble: 7 × 7</caption>\n",
       "<thead>\n",
       "\t<tr><th scope=col>neighbors</th><th scope=col>.metric</th><th scope=col>.estimator</th><th scope=col>mean</th><th scope=col>n</th><th scope=col>std_err</th><th scope=col>.config</th></tr>\n",
       "\t<tr><th scope=col>&lt;int&gt;</th><th scope=col>&lt;chr&gt;</th><th scope=col>&lt;chr&gt;</th><th scope=col>&lt;dbl&gt;</th><th scope=col>&lt;int&gt;</th><th scope=col>&lt;dbl&gt;</th><th scope=col>&lt;chr&gt;</th></tr>\n",
       "</thead>\n",
       "<tbody>\n",
       "\t<tr><td> 9</td><td>accuracy</td><td>binary</td><td>0.8613553</td><td>10</td><td>0.009282019</td><td>Preprocessor1_Model09</td></tr>\n",
       "\t<tr><td>10</td><td>accuracy</td><td>binary</td><td>0.8613553</td><td>10</td><td>0.009282019</td><td>Preprocessor1_Model10</td></tr>\n",
       "\t<tr><td>11</td><td>accuracy</td><td>binary</td><td>0.8613553</td><td>10</td><td>0.009282019</td><td>Preprocessor1_Model11</td></tr>\n",
       "\t<tr><td>⋮</td><td>⋮</td><td>⋮</td><td>⋮</td><td>⋮</td><td>⋮</td><td>⋮</td></tr>\n",
       "\t<tr><td>13</td><td>accuracy</td><td>binary</td><td>0.8613553</td><td>10</td><td>0.009282019</td><td>Preprocessor1_Model13</td></tr>\n",
       "\t<tr><td>14</td><td>accuracy</td><td>binary</td><td>0.8613553</td><td>10</td><td>0.009282019</td><td>Preprocessor1_Model14</td></tr>\n",
       "\t<tr><td>15</td><td>accuracy</td><td>binary</td><td>0.8613553</td><td>10</td><td>0.009282019</td><td>Preprocessor1_Model15</td></tr>\n",
       "</tbody>\n",
       "</table>\n"
      ],
      "text/latex": [
       "A tibble: 7 × 7\n",
       "\\begin{tabular}{lllllll}\n",
       " neighbors & .metric & .estimator & mean & n & std\\_err & .config\\\\\n",
       " <int> & <chr> & <chr> & <dbl> & <int> & <dbl> & <chr>\\\\\n",
       "\\hline\n",
       "\t  9 & accuracy & binary & 0.8613553 & 10 & 0.009282019 & Preprocessor1\\_Model09\\\\\n",
       "\t 10 & accuracy & binary & 0.8613553 & 10 & 0.009282019 & Preprocessor1\\_Model10\\\\\n",
       "\t 11 & accuracy & binary & 0.8613553 & 10 & 0.009282019 & Preprocessor1\\_Model11\\\\\n",
       "\t ⋮ & ⋮ & ⋮ & ⋮ & ⋮ & ⋮ & ⋮\\\\\n",
       "\t 13 & accuracy & binary & 0.8613553 & 10 & 0.009282019 & Preprocessor1\\_Model13\\\\\n",
       "\t 14 & accuracy & binary & 0.8613553 & 10 & 0.009282019 & Preprocessor1\\_Model14\\\\\n",
       "\t 15 & accuracy & binary & 0.8613553 & 10 & 0.009282019 & Preprocessor1\\_Model15\\\\\n",
       "\\end{tabular}\n"
      ],
      "text/markdown": [
       "\n",
       "A tibble: 7 × 7\n",
       "\n",
       "| neighbors &lt;int&gt; | .metric &lt;chr&gt; | .estimator &lt;chr&gt; | mean &lt;dbl&gt; | n &lt;int&gt; | std_err &lt;dbl&gt; | .config &lt;chr&gt; |\n",
       "|---|---|---|---|---|---|---|\n",
       "|  9 | accuracy | binary | 0.8613553 | 10 | 0.009282019 | Preprocessor1_Model09 |\n",
       "| 10 | accuracy | binary | 0.8613553 | 10 | 0.009282019 | Preprocessor1_Model10 |\n",
       "| 11 | accuracy | binary | 0.8613553 | 10 | 0.009282019 | Preprocessor1_Model11 |\n",
       "| ⋮ | ⋮ | ⋮ | ⋮ | ⋮ | ⋮ | ⋮ |\n",
       "| 13 | accuracy | binary | 0.8613553 | 10 | 0.009282019 | Preprocessor1_Model13 |\n",
       "| 14 | accuracy | binary | 0.8613553 | 10 | 0.009282019 | Preprocessor1_Model14 |\n",
       "| 15 | accuracy | binary | 0.8613553 | 10 | 0.009282019 | Preprocessor1_Model15 |\n",
       "\n"
      ],
      "text/plain": [
       "  neighbors .metric  .estimator mean      n  std_err     .config              \n",
       "1  9        accuracy binary     0.8613553 10 0.009282019 Preprocessor1_Model09\n",
       "2 10        accuracy binary     0.8613553 10 0.009282019 Preprocessor1_Model10\n",
       "3 11        accuracy binary     0.8613553 10 0.009282019 Preprocessor1_Model11\n",
       "⋮ ⋮         ⋮        ⋮          ⋮         ⋮  ⋮           ⋮                    \n",
       "5 13        accuracy binary     0.8613553 10 0.009282019 Preprocessor1_Model13\n",
       "6 14        accuracy binary     0.8613553 10 0.009282019 Preprocessor1_Model14\n",
       "7 15        accuracy binary     0.8613553 10 0.009282019 Preprocessor1_Model15"
      ]
     },
     "metadata": {},
     "output_type": "display_data"
    }
   ],
   "source": [
    "maxmax<- accuracies|>\n",
    "    filter(mean==max(mean))\n",
    "maxmax"
   ]
  },
  {
   "cell_type": "code",
   "execution_count": 87,
   "id": "0e902743-1570-4b09-a576-4eb711074249",
   "metadata": {},
   "outputs": [],
   "source": [
    "#set.seed(4321)\n",
    "\n",
    "mnist_spec <- nearest_neighbor(weight_func = \"rectangular\", neighbors = 10) |>\n",
    "       set_engine(\"kknn\") |>\n",
    "       set_mode(\"classification\")\n",
    "\n",
    "mnist_fit <- workflow() |>\n",
    "            add_recipe(data_train_recipe) |>\n",
    "            add_model(mnist_spec) |>\n",
    "            fit_resamples(resamples = data_vfold)\n",
    "\n",
    "#mnist_accurate<- mnist_fit|>\n",
    " #   collect_metrics()|>\n",
    "  #          filter(.metric==\"accuracy\")\n",
    "\n",
    "\n",
    "\n",
    "#mnist_accurate"
   ]
  },
  {
   "cell_type": "code",
   "execution_count": 90,
   "id": "f433cf52-8977-40e2-9943-c2a18f8489af",
   "metadata": {},
   "outputs": [
    {
     "ename": "ERROR",
     "evalue": "Error in UseMethod(\"predict\"): no applicable method for 'predict' applied to an object of class \"c('resample_results', 'tune_results', 'tbl_df', 'tbl', 'data.frame')\"\n",
     "output_type": "error",
     "traceback": [
      "Error in UseMethod(\"predict\"): no applicable method for 'predict' applied to an object of class \"c('resample_results', 'tune_results', 'tbl_df', 'tbl', 'data.frame')\"\nTraceback:\n",
      "1. bind_cols(predict(mnist_fit, data_test), data_test)",
      "2. list2(...)",
      "3. predict(mnist_fit, data_test)"
     ]
    }
   ],
   "source": [
    "\n",
    "mnist_predictions <- predict(mnist_fit, data_test)|>\n",
    "        bind_cols(data_test)\n",
    "\n",
    "mnist_predictions\n",
    "\n",
    "mnist_metrics <- mnist_predictions |>\n",
    "        metrics(truth=HeartDisease, estimate=.pred_class)\n",
    "\n",
    "mnist_metrics\n",
    "\n",
    "mnist_conf_mat <- mnist_predictions |>\n",
    "        conf_mat(truth = HeartDisease, estimate = .pred_class)\n",
    "\n",
    "mnist_conf_mat"
   ]
  },
  {
   "cell_type": "code",
   "execution_count": null,
   "id": "7c772531-078f-473b-a651-c7a030daa348",
   "metadata": {},
   "outputs": [],
   "source": []
  }
 ],
 "metadata": {
  "kernelspec": {
   "display_name": "R",
   "language": "R",
   "name": "ir"
  },
  "language_info": {
   "codemirror_mode": "r",
   "file_extension": ".r",
   "mimetype": "text/x-r-source",
   "name": "R",
   "pygments_lexer": "r",
   "version": "4.1.3"
  }
 },
 "nbformat": 4,
 "nbformat_minor": 5
}
