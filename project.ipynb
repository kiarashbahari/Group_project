{
 "cells": [
  {
   "cell_type": "markdown",
   "id": "1317667c-2c7b-49ca-ad92-f82582aea18d",
   "metadata": {},
   "source": [
    "# Predicting Heart Disease with Age, Serum Cholesterol, Resting Blood Pressure and Maximum Heart Rate\n"
   ]
  },
  {
   "cell_type": "code",
   "execution_count": 1,
   "id": "aef2c547-bd1a-4b71-a8e1-0bfe0b9cb42b",
   "metadata": {},
   "outputs": [
    {
     "ename": "ERROR",
     "evalue": "Error in parse(text = x, srcfile = src): <text>:1:10: unexpected symbol\n1: download from\n             ^\n",
     "output_type": "error",
     "traceback": [
      "Error in parse(text = x, srcfile = src): <text>:1:10: unexpected symbol\n1: download from\n             ^\nTraceback:\n"
     ]
    }
   ],
   "source": [
    "download from keggle \n",
    "check seeds \n",
    "check spellings"
   ]
  },
  {
   "cell_type": "markdown",
   "id": "1e39b60e-5a30-4f59-9bef-8a03b3d0b48a",
   "metadata": {
    "tags": []
   },
   "source": [
    "## Introduction\n",
    "Heart disease is a disease that refers to several types of heart conditions, which is the main cause of death in the USA for most of racial and ethnic groups (1). The main risk factors for heart disease are high blood pressure, high blood cholesterol, smoking, and age. Some of the common heart disease symptoms are chest pain, irregular heartbeats (heart beats too fast or too slow or irregularly), Pain in the back, and shortness of breath. A doctor usually diagnose a patients as either healthy or heart diseased based on their risk factors and symptoms; as a result, a doctor may make prediction about heart disease based on the current situation and his or her past experiment. The Heart disease data was downloaded from Kaggle to use for prediction of heart disease. To answer this question, we will use the “Heart Failure Prediction Dataset”. This dataset contains 11 variables, which Age, RestingBP, Cholesterol, MaxHR variables will be used to predict the heart disease status (1 = heart disease and 0 = normal).\n",
    "\n",
    "\n",
    "\n",
    "#### Question: \n",
    "   Can we use the Age, normal blood pressure when body is at rest, maximum heart rate achieved, and blood cholesterol level variables to predict if a patient heart disease or not? \n",
    "   \n",
    "\n"
   ]
  },
  {
   "cell_type": "markdown",
   "id": "0f3e9ca7-99ee-4d3f-b7e1-803212d1e622",
   "metadata": {},
   "source": [
    "## Methods & Results "
   ]
  },
  {
   "cell_type": "code",
   "execution_count": 1,
   "id": "7ab1a35e-b7a2-473d-8804-a992217d2449",
   "metadata": {},
   "outputs": [
    {
     "name": "stderr",
     "output_type": "stream",
     "text": [
      "── \u001b[1mAttaching packages\u001b[22m ─────────────────────────────────────── tidyverse 1.3.1 ──\n",
      "\n",
      "\u001b[32m✔\u001b[39m \u001b[34mggplot2\u001b[39m 3.3.6     \u001b[32m✔\u001b[39m \u001b[34mpurrr  \u001b[39m 0.3.4\n",
      "\u001b[32m✔\u001b[39m \u001b[34mtibble \u001b[39m 3.1.7     \u001b[32m✔\u001b[39m \u001b[34mdplyr  \u001b[39m 1.0.9\n",
      "\u001b[32m✔\u001b[39m \u001b[34mtidyr  \u001b[39m 1.2.0     \u001b[32m✔\u001b[39m \u001b[34mstringr\u001b[39m 1.4.0\n",
      "\u001b[32m✔\u001b[39m \u001b[34mreadr  \u001b[39m 2.1.2     \u001b[32m✔\u001b[39m \u001b[34mforcats\u001b[39m 0.5.1\n",
      "\n",
      "── \u001b[1mConflicts\u001b[22m ────────────────────────────────────────── tidyverse_conflicts() ──\n",
      "\u001b[31m✖\u001b[39m \u001b[34mdplyr\u001b[39m::\u001b[32mfilter()\u001b[39m masks \u001b[34mstats\u001b[39m::filter()\n",
      "\u001b[31m✖\u001b[39m \u001b[34mdplyr\u001b[39m::\u001b[32mlag()\u001b[39m    masks \u001b[34mstats\u001b[39m::lag()\n",
      "\n",
      "── \u001b[1mAttaching packages\u001b[22m ────────────────────────────────────── tidymodels 1.0.0 ──\n",
      "\n",
      "\u001b[32m✔\u001b[39m \u001b[34mbroom       \u001b[39m 1.0.0     \u001b[32m✔\u001b[39m \u001b[34mrsample     \u001b[39m 1.0.0\n",
      "\u001b[32m✔\u001b[39m \u001b[34mdials       \u001b[39m 1.0.0     \u001b[32m✔\u001b[39m \u001b[34mtune        \u001b[39m 1.0.0\n",
      "\u001b[32m✔\u001b[39m \u001b[34minfer       \u001b[39m 1.0.2     \u001b[32m✔\u001b[39m \u001b[34mworkflows   \u001b[39m 1.0.0\n",
      "\u001b[32m✔\u001b[39m \u001b[34mmodeldata   \u001b[39m 1.0.0     \u001b[32m✔\u001b[39m \u001b[34mworkflowsets\u001b[39m 1.0.0\n",
      "\u001b[32m✔\u001b[39m \u001b[34mparsnip     \u001b[39m 1.0.0     \u001b[32m✔\u001b[39m \u001b[34myardstick   \u001b[39m 1.0.0\n",
      "\u001b[32m✔\u001b[39m \u001b[34mrecipes     \u001b[39m 1.0.1     \n",
      "\n",
      "── \u001b[1mConflicts\u001b[22m ───────────────────────────────────────── tidymodels_conflicts() ──\n",
      "\u001b[31m✖\u001b[39m \u001b[34mscales\u001b[39m::\u001b[32mdiscard()\u001b[39m masks \u001b[34mpurrr\u001b[39m::discard()\n",
      "\u001b[31m✖\u001b[39m \u001b[34mdplyr\u001b[39m::\u001b[32mfilter()\u001b[39m   masks \u001b[34mstats\u001b[39m::filter()\n",
      "\u001b[31m✖\u001b[39m \u001b[34mrecipes\u001b[39m::\u001b[32mfixed()\u001b[39m  masks \u001b[34mstringr\u001b[39m::fixed()\n",
      "\u001b[31m✖\u001b[39m \u001b[34mdplyr\u001b[39m::\u001b[32mlag()\u001b[39m      masks \u001b[34mstats\u001b[39m::lag()\n",
      "\u001b[31m✖\u001b[39m \u001b[34myardstick\u001b[39m::\u001b[32mspec()\u001b[39m masks \u001b[34mreadr\u001b[39m::spec()\n",
      "\u001b[31m✖\u001b[39m \u001b[34mrecipes\u001b[39m::\u001b[32mstep()\u001b[39m   masks \u001b[34mstats\u001b[39m::step()\n",
      "\u001b[34m•\u001b[39m Learn how to get started at \u001b[32mhttps://www.tidymodels.org/start/\u001b[39m\n",
      "\n"
     ]
    }
   ],
   "source": [
    "### Loading Libraries into R\n",
    "library(tidyverse)\n",
    "library(tidymodels)\n",
    "library(cowplot)\n",
    "\n",
    "library(repr)\n",
    "options(repr.matrix.max.rows = 6)\n",
    "\n",
    "#set the seed\n",
    "set.seed(4321) "
   ]
  },
  {
   "cell_type": "markdown",
   "id": "358f42f7-4c37-4560-a948-8e37dca072c2",
   "metadata": {},
   "source": [
    "### 1. Loading the Data\n",
    "The Heart disease data was downloaded from Kaggle as a CSV file and was saved to the 'data' folder.\n",
    "\n",
    "???? fix it, should not be from kaggle"
   ]
  },
  {
   "cell_type": "code",
   "execution_count": 2,
   "id": "0d981594-01af-4644-88cd-79b2f36fab9c",
   "metadata": {},
   "outputs": [
    {
     "name": "stderr",
     "output_type": "stream",
     "text": [
      "\u001b[1mRows: \u001b[22m\u001b[34m918\u001b[39m \u001b[1mColumns: \u001b[22m\u001b[34m12\u001b[39m\n",
      "\u001b[36m──\u001b[39m \u001b[1mColumn specification\u001b[22m \u001b[36m────────────────────────────────────────────────────────\u001b[39m\n",
      "\u001b[1mDelimiter:\u001b[22m \",\"\n",
      "\u001b[31mchr\u001b[39m (5): Sex, ChestPainType, RestingECG, ExerciseAngina, ST_Slope\n",
      "\u001b[32mdbl\u001b[39m (7): Age, RestingBP, Cholesterol, FastingBS, MaxHR, Oldpeak, HeartDisease\n",
      "\n",
      "\u001b[36mℹ\u001b[39m Use `spec()` to retrieve the full column specification for this data.\n",
      "\u001b[36mℹ\u001b[39m Specify the column types or set `show_col_types = FALSE` to quiet this message.\n"
     ]
    },
    {
     "data": {
      "text/html": [
       "<table class=\"dataframe\">\n",
       "<caption>A spec_tbl_df: 918 × 12</caption>\n",
       "<thead>\n",
       "\t<tr><th scope=col>Age</th><th scope=col>Sex</th><th scope=col>ChestPainType</th><th scope=col>RestingBP</th><th scope=col>Cholesterol</th><th scope=col>FastingBS</th><th scope=col>RestingECG</th><th scope=col>MaxHR</th><th scope=col>ExerciseAngina</th><th scope=col>Oldpeak</th><th scope=col>ST_Slope</th><th scope=col>HeartDisease</th></tr>\n",
       "\t<tr><th scope=col>&lt;dbl&gt;</th><th scope=col>&lt;chr&gt;</th><th scope=col>&lt;chr&gt;</th><th scope=col>&lt;dbl&gt;</th><th scope=col>&lt;dbl&gt;</th><th scope=col>&lt;dbl&gt;</th><th scope=col>&lt;chr&gt;</th><th scope=col>&lt;dbl&gt;</th><th scope=col>&lt;chr&gt;</th><th scope=col>&lt;dbl&gt;</th><th scope=col>&lt;chr&gt;</th><th scope=col>&lt;dbl&gt;</th></tr>\n",
       "</thead>\n",
       "<tbody>\n",
       "\t<tr><td>40</td><td>M</td><td>ATA</td><td>140</td><td>289</td><td>0</td><td>Normal</td><td>172</td><td>N</td><td>0</td><td>Up  </td><td>0</td></tr>\n",
       "\t<tr><td>49</td><td>F</td><td>NAP</td><td>160</td><td>180</td><td>0</td><td>Normal</td><td>156</td><td>N</td><td>1</td><td>Flat</td><td>1</td></tr>\n",
       "\t<tr><td>37</td><td>M</td><td>ATA</td><td>130</td><td>283</td><td>0</td><td>ST    </td><td> 98</td><td>N</td><td>0</td><td>Up  </td><td>0</td></tr>\n",
       "\t<tr><td>⋮</td><td>⋮</td><td>⋮</td><td>⋮</td><td>⋮</td><td>⋮</td><td>⋮</td><td>⋮</td><td>⋮</td><td>⋮</td><td>⋮</td><td>⋮</td></tr>\n",
       "\t<tr><td>57</td><td>M</td><td>ASY</td><td>130</td><td>131</td><td>0</td><td>Normal</td><td>115</td><td>Y</td><td>1.2</td><td>Flat</td><td>1</td></tr>\n",
       "\t<tr><td>57</td><td>F</td><td>ATA</td><td>130</td><td>236</td><td>0</td><td>LVH   </td><td>174</td><td>N</td><td>0.0</td><td>Flat</td><td>1</td></tr>\n",
       "\t<tr><td>38</td><td>M</td><td>NAP</td><td>138</td><td>175</td><td>0</td><td>Normal</td><td>173</td><td>N</td><td>0.0</td><td>Up  </td><td>0</td></tr>\n",
       "</tbody>\n",
       "</table>\n"
      ],
      "text/latex": [
       "A spec\\_tbl\\_df: 918 × 12\n",
       "\\begin{tabular}{llllllllllll}\n",
       " Age & Sex & ChestPainType & RestingBP & Cholesterol & FastingBS & RestingECG & MaxHR & ExerciseAngina & Oldpeak & ST\\_Slope & HeartDisease\\\\\n",
       " <dbl> & <chr> & <chr> & <dbl> & <dbl> & <dbl> & <chr> & <dbl> & <chr> & <dbl> & <chr> & <dbl>\\\\\n",
       "\\hline\n",
       "\t 40 & M & ATA & 140 & 289 & 0 & Normal & 172 & N & 0 & Up   & 0\\\\\n",
       "\t 49 & F & NAP & 160 & 180 & 0 & Normal & 156 & N & 1 & Flat & 1\\\\\n",
       "\t 37 & M & ATA & 130 & 283 & 0 & ST     &  98 & N & 0 & Up   & 0\\\\\n",
       "\t ⋮ & ⋮ & ⋮ & ⋮ & ⋮ & ⋮ & ⋮ & ⋮ & ⋮ & ⋮ & ⋮ & ⋮\\\\\n",
       "\t 57 & M & ASY & 130 & 131 & 0 & Normal & 115 & Y & 1.2 & Flat & 1\\\\\n",
       "\t 57 & F & ATA & 130 & 236 & 0 & LVH    & 174 & N & 0.0 & Flat & 1\\\\\n",
       "\t 38 & M & NAP & 138 & 175 & 0 & Normal & 173 & N & 0.0 & Up   & 0\\\\\n",
       "\\end{tabular}\n"
      ],
      "text/markdown": [
       "\n",
       "A spec_tbl_df: 918 × 12\n",
       "\n",
       "| Age &lt;dbl&gt; | Sex &lt;chr&gt; | ChestPainType &lt;chr&gt; | RestingBP &lt;dbl&gt; | Cholesterol &lt;dbl&gt; | FastingBS &lt;dbl&gt; | RestingECG &lt;chr&gt; | MaxHR &lt;dbl&gt; | ExerciseAngina &lt;chr&gt; | Oldpeak &lt;dbl&gt; | ST_Slope &lt;chr&gt; | HeartDisease &lt;dbl&gt; |\n",
       "|---|---|---|---|---|---|---|---|---|---|---|---|\n",
       "| 40 | M | ATA | 140 | 289 | 0 | Normal | 172 | N | 0 | Up   | 0 |\n",
       "| 49 | F | NAP | 160 | 180 | 0 | Normal | 156 | N | 1 | Flat | 1 |\n",
       "| 37 | M | ATA | 130 | 283 | 0 | ST     |  98 | N | 0 | Up   | 0 |\n",
       "| ⋮ | ⋮ | ⋮ | ⋮ | ⋮ | ⋮ | ⋮ | ⋮ | ⋮ | ⋮ | ⋮ | ⋮ |\n",
       "| 57 | M | ASY | 130 | 131 | 0 | Normal | 115 | Y | 1.2 | Flat | 1 |\n",
       "| 57 | F | ATA | 130 | 236 | 0 | LVH    | 174 | N | 0.0 | Flat | 1 |\n",
       "| 38 | M | NAP | 138 | 175 | 0 | Normal | 173 | N | 0.0 | Up   | 0 |\n",
       "\n"
      ],
      "text/plain": [
       "    Age Sex ChestPainType RestingBP Cholesterol FastingBS RestingECG MaxHR\n",
       "1   40  M   ATA           140       289         0         Normal     172  \n",
       "2   49  F   NAP           160       180         0         Normal     156  \n",
       "3   37  M   ATA           130       283         0         ST          98  \n",
       "⋮   ⋮   ⋮   ⋮             ⋮         ⋮           ⋮         ⋮          ⋮    \n",
       "916 57  M   ASY           130       131         0         Normal     115  \n",
       "917 57  F   ATA           130       236         0         LVH        174  \n",
       "918 38  M   NAP           138       175         0         Normal     173  \n",
       "    ExerciseAngina Oldpeak ST_Slope HeartDisease\n",
       "1   N              0       Up       0           \n",
       "2   N              1       Flat     1           \n",
       "3   N              0       Up       0           \n",
       "⋮   ⋮              ⋮       ⋮        ⋮           \n",
       "916 Y              1.2     Flat     1           \n",
       "917 N              0.0     Flat     1           \n",
       "918 N              0.0     Up       0           "
      ]
     },
     "metadata": {},
     "output_type": "display_data"
    }
   ],
   "source": [
    "#Reading data from the \"data\" folder, no data explaination on the csv file, no need for skipping. \n",
    "#data is tidy \n",
    "#we read the data into R as \"data\"\n",
    "set.seed(123)\n",
    "heart_data <- read_csv(\"data/heart.csv\")\n",
    "heart_data"
   ]
  },
  {
   "cell_type": "markdown",
   "id": "e63efeac-d417-4322-aee5-46584ad91ddd",
   "metadata": {},
   "source": [
    "## Variable Explanation \n",
    "\n",
    "Age: age of the patient [years]\n",
    "\n",
    "RestingBP: resting blood pressure [mm Hg]\n",
    "\n",
    "Cholesterol: serum cholesterol [mm/dl]\n",
    "\n",
    "MaxHR: maximum heart rate achieved [Numeric value between 60 and 202]\n",
    "\n",
    "HeartDisease:[1: heart disease, 0: Normal]"
   ]
  },
  {
   "cell_type": "markdown",
   "id": "3e05de58-e151-4ac0-8601-198e20b0ac29",
   "metadata": {},
   "source": [
    "### Wrangling & Cleaning the Data\n",
    "The data is tibble and the `Cholesterol` = 0 is equivalent to NA in this data set. Except`Cholesterol`, all the other variables do not contain NA. We are selecting for these following numerical variables as our predictors for the model: \n",
    "age, resting blood pressure (mmHg), maximum heart rate, and serum cholesterol level (mm/dl)."
   ]
  },
  {
   "cell_type": "code",
   "execution_count": 3,
   "id": "cc907377-1f75-4a8a-b58e-e5a42a3a5cb7",
   "metadata": {},
   "outputs": [
    {
     "data": {
      "text/html": [
       "<table class=\"dataframe\">\n",
       "<caption>A tibble: 1 × 2</caption>\n",
       "<thead>\n",
       "\t<tr><th scope=col>Cholesterol</th><th scope=col>n</th></tr>\n",
       "\t<tr><th scope=col>&lt;dbl&gt;</th><th scope=col>&lt;int&gt;</th></tr>\n",
       "</thead>\n",
       "<tbody>\n",
       "\t<tr><td>0</td><td>172</td></tr>\n",
       "</tbody>\n",
       "</table>\n"
      ],
      "text/latex": [
       "A tibble: 1 × 2\n",
       "\\begin{tabular}{ll}\n",
       " Cholesterol & n\\\\\n",
       " <dbl> & <int>\\\\\n",
       "\\hline\n",
       "\t 0 & 172\\\\\n",
       "\\end{tabular}\n"
      ],
      "text/markdown": [
       "\n",
       "A tibble: 1 × 2\n",
       "\n",
       "| Cholesterol &lt;dbl&gt; | n &lt;int&gt; |\n",
       "|---|---|\n",
       "| 0 | 172 |\n",
       "\n"
      ],
      "text/plain": [
       "  Cholesterol n  \n",
       "1 0           172"
      ]
     },
     "metadata": {},
     "output_type": "display_data"
    }
   ],
   "source": [
    "heart_data|>\n",
    "        filter(Cholesterol==0)|>\n",
    "        group_by(Cholesterol)|>\n",
    "        summarize(n=n())"
   ]
  },
  {
   "cell_type": "markdown",
   "id": "49b3917a-0f03-4d40-bdf9-131bcc2362a4",
   "metadata": {},
   "source": [
    "We do not have data for blood cholestrol of 172 patients, so the data set is filtered to remove `Cholesterol` = 0"
   ]
  },
  {
   "cell_type": "code",
   "execution_count": 4,
   "id": "850d7638-6d16-41fc-a6ab-8bd1299c5688",
   "metadata": {},
   "outputs": [
    {
     "data": {
      "text/html": [
       "<table class=\"dataframe\">\n",
       "<caption>A spec_tbl_df: 746 × 12</caption>\n",
       "<thead>\n",
       "\t<tr><th scope=col>Age</th><th scope=col>Sex</th><th scope=col>ChestPainType</th><th scope=col>RestingBP</th><th scope=col>Cholesterol</th><th scope=col>FastingBS</th><th scope=col>RestingECG</th><th scope=col>MaxHR</th><th scope=col>ExerciseAngina</th><th scope=col>Oldpeak</th><th scope=col>ST_Slope</th><th scope=col>HeartDisease</th></tr>\n",
       "\t<tr><th scope=col>&lt;dbl&gt;</th><th scope=col>&lt;chr&gt;</th><th scope=col>&lt;chr&gt;</th><th scope=col>&lt;dbl&gt;</th><th scope=col>&lt;dbl&gt;</th><th scope=col>&lt;dbl&gt;</th><th scope=col>&lt;chr&gt;</th><th scope=col>&lt;dbl&gt;</th><th scope=col>&lt;chr&gt;</th><th scope=col>&lt;dbl&gt;</th><th scope=col>&lt;chr&gt;</th><th scope=col>&lt;dbl&gt;</th></tr>\n",
       "</thead>\n",
       "<tbody>\n",
       "\t<tr><td>40</td><td>M</td><td>ATA</td><td>140</td><td>289</td><td>0</td><td>Normal</td><td>172</td><td>N</td><td>0</td><td>Up  </td><td>0</td></tr>\n",
       "\t<tr><td>49</td><td>F</td><td>NAP</td><td>160</td><td>180</td><td>0</td><td>Normal</td><td>156</td><td>N</td><td>1</td><td>Flat</td><td>1</td></tr>\n",
       "\t<tr><td>37</td><td>M</td><td>ATA</td><td>130</td><td>283</td><td>0</td><td>ST    </td><td> 98</td><td>N</td><td>0</td><td>Up  </td><td>0</td></tr>\n",
       "\t<tr><td>⋮</td><td>⋮</td><td>⋮</td><td>⋮</td><td>⋮</td><td>⋮</td><td>⋮</td><td>⋮</td><td>⋮</td><td>⋮</td><td>⋮</td><td>⋮</td></tr>\n",
       "\t<tr><td>57</td><td>M</td><td>ASY</td><td>130</td><td>131</td><td>0</td><td>Normal</td><td>115</td><td>Y</td><td>1.2</td><td>Flat</td><td>1</td></tr>\n",
       "\t<tr><td>57</td><td>F</td><td>ATA</td><td>130</td><td>236</td><td>0</td><td>LVH   </td><td>174</td><td>N</td><td>0.0</td><td>Flat</td><td>1</td></tr>\n",
       "\t<tr><td>38</td><td>M</td><td>NAP</td><td>138</td><td>175</td><td>0</td><td>Normal</td><td>173</td><td>N</td><td>0.0</td><td>Up  </td><td>0</td></tr>\n",
       "</tbody>\n",
       "</table>\n"
      ],
      "text/latex": [
       "A spec\\_tbl\\_df: 746 × 12\n",
       "\\begin{tabular}{llllllllllll}\n",
       " Age & Sex & ChestPainType & RestingBP & Cholesterol & FastingBS & RestingECG & MaxHR & ExerciseAngina & Oldpeak & ST\\_Slope & HeartDisease\\\\\n",
       " <dbl> & <chr> & <chr> & <dbl> & <dbl> & <dbl> & <chr> & <dbl> & <chr> & <dbl> & <chr> & <dbl>\\\\\n",
       "\\hline\n",
       "\t 40 & M & ATA & 140 & 289 & 0 & Normal & 172 & N & 0 & Up   & 0\\\\\n",
       "\t 49 & F & NAP & 160 & 180 & 0 & Normal & 156 & N & 1 & Flat & 1\\\\\n",
       "\t 37 & M & ATA & 130 & 283 & 0 & ST     &  98 & N & 0 & Up   & 0\\\\\n",
       "\t ⋮ & ⋮ & ⋮ & ⋮ & ⋮ & ⋮ & ⋮ & ⋮ & ⋮ & ⋮ & ⋮ & ⋮\\\\\n",
       "\t 57 & M & ASY & 130 & 131 & 0 & Normal & 115 & Y & 1.2 & Flat & 1\\\\\n",
       "\t 57 & F & ATA & 130 & 236 & 0 & LVH    & 174 & N & 0.0 & Flat & 1\\\\\n",
       "\t 38 & M & NAP & 138 & 175 & 0 & Normal & 173 & N & 0.0 & Up   & 0\\\\\n",
       "\\end{tabular}\n"
      ],
      "text/markdown": [
       "\n",
       "A spec_tbl_df: 746 × 12\n",
       "\n",
       "| Age &lt;dbl&gt; | Sex &lt;chr&gt; | ChestPainType &lt;chr&gt; | RestingBP &lt;dbl&gt; | Cholesterol &lt;dbl&gt; | FastingBS &lt;dbl&gt; | RestingECG &lt;chr&gt; | MaxHR &lt;dbl&gt; | ExerciseAngina &lt;chr&gt; | Oldpeak &lt;dbl&gt; | ST_Slope &lt;chr&gt; | HeartDisease &lt;dbl&gt; |\n",
       "|---|---|---|---|---|---|---|---|---|---|---|---|\n",
       "| 40 | M | ATA | 140 | 289 | 0 | Normal | 172 | N | 0 | Up   | 0 |\n",
       "| 49 | F | NAP | 160 | 180 | 0 | Normal | 156 | N | 1 | Flat | 1 |\n",
       "| 37 | M | ATA | 130 | 283 | 0 | ST     |  98 | N | 0 | Up   | 0 |\n",
       "| ⋮ | ⋮ | ⋮ | ⋮ | ⋮ | ⋮ | ⋮ | ⋮ | ⋮ | ⋮ | ⋮ | ⋮ |\n",
       "| 57 | M | ASY | 130 | 131 | 0 | Normal | 115 | Y | 1.2 | Flat | 1 |\n",
       "| 57 | F | ATA | 130 | 236 | 0 | LVH    | 174 | N | 0.0 | Flat | 1 |\n",
       "| 38 | M | NAP | 138 | 175 | 0 | Normal | 173 | N | 0.0 | Up   | 0 |\n",
       "\n"
      ],
      "text/plain": [
       "    Age Sex ChestPainType RestingBP Cholesterol FastingBS RestingECG MaxHR\n",
       "1   40  M   ATA           140       289         0         Normal     172  \n",
       "2   49  F   NAP           160       180         0         Normal     156  \n",
       "3   37  M   ATA           130       283         0         ST          98  \n",
       "⋮   ⋮   ⋮   ⋮             ⋮         ⋮           ⋮         ⋮          ⋮    \n",
       "744 57  M   ASY           130       131         0         Normal     115  \n",
       "745 57  F   ATA           130       236         0         LVH        174  \n",
       "746 38  M   NAP           138       175         0         Normal     173  \n",
       "    ExerciseAngina Oldpeak ST_Slope HeartDisease\n",
       "1   N              0       Up       0           \n",
       "2   N              1       Flat     1           \n",
       "3   N              0       Up       0           \n",
       "⋮   ⋮              ⋮       ⋮        ⋮           \n",
       "744 Y              1.2     Flat     1           \n",
       "745 N              0.0     Flat     1           \n",
       "746 N              0.0     Up       0           "
      ]
     },
     "metadata": {},
     "output_type": "display_data"
    }
   ],
   "source": [
    "#We filter against NA in Cholesterol and check\n",
    "heartdisease_data <- heart_data|> \n",
    "    filter(Cholesterol!=0)\n",
    "heartdisease_data"
   ]
  },
  {
   "cell_type": "markdown",
   "id": "75635f56-578e-49ef-a4b4-8fe5ebfee428",
   "metadata": {},
   "source": [
    "In this data set `HeartDisease` was incorrectly stored as a numerical (dbl) column. We use mutate() to turn it into a factor. Then the following variables are selected as these are predictors in this model. "
   ]
  },
  {
   "cell_type": "code",
   "execution_count": 5,
   "id": "d19ff075-a2e9-4e5f-97a7-724c6fcd40e6",
   "metadata": {},
   "outputs": [
    {
     "data": {
      "text/html": [
       "<table class=\"dataframe\">\n",
       "<caption>A tibble: 746 × 5</caption>\n",
       "<thead>\n",
       "\t<tr><th scope=col>Age</th><th scope=col>RestingBP</th><th scope=col>Cholesterol</th><th scope=col>MaxHR</th><th scope=col>HeartDisease</th></tr>\n",
       "\t<tr><th scope=col>&lt;dbl&gt;</th><th scope=col>&lt;dbl&gt;</th><th scope=col>&lt;dbl&gt;</th><th scope=col>&lt;dbl&gt;</th><th scope=col>&lt;fct&gt;</th></tr>\n",
       "</thead>\n",
       "<tbody>\n",
       "\t<tr><td>40</td><td>140</td><td>289</td><td>172</td><td>0</td></tr>\n",
       "\t<tr><td>49</td><td>160</td><td>180</td><td>156</td><td>1</td></tr>\n",
       "\t<tr><td>37</td><td>130</td><td>283</td><td> 98</td><td>0</td></tr>\n",
       "\t<tr><td>⋮</td><td>⋮</td><td>⋮</td><td>⋮</td><td>⋮</td></tr>\n",
       "\t<tr><td>57</td><td>130</td><td>131</td><td>115</td><td>1</td></tr>\n",
       "\t<tr><td>57</td><td>130</td><td>236</td><td>174</td><td>1</td></tr>\n",
       "\t<tr><td>38</td><td>138</td><td>175</td><td>173</td><td>0</td></tr>\n",
       "</tbody>\n",
       "</table>\n"
      ],
      "text/latex": [
       "A tibble: 746 × 5\n",
       "\\begin{tabular}{lllll}\n",
       " Age & RestingBP & Cholesterol & MaxHR & HeartDisease\\\\\n",
       " <dbl> & <dbl> & <dbl> & <dbl> & <fct>\\\\\n",
       "\\hline\n",
       "\t 40 & 140 & 289 & 172 & 0\\\\\n",
       "\t 49 & 160 & 180 & 156 & 1\\\\\n",
       "\t 37 & 130 & 283 &  98 & 0\\\\\n",
       "\t ⋮ & ⋮ & ⋮ & ⋮ & ⋮\\\\\n",
       "\t 57 & 130 & 131 & 115 & 1\\\\\n",
       "\t 57 & 130 & 236 & 174 & 1\\\\\n",
       "\t 38 & 138 & 175 & 173 & 0\\\\\n",
       "\\end{tabular}\n"
      ],
      "text/markdown": [
       "\n",
       "A tibble: 746 × 5\n",
       "\n",
       "| Age &lt;dbl&gt; | RestingBP &lt;dbl&gt; | Cholesterol &lt;dbl&gt; | MaxHR &lt;dbl&gt; | HeartDisease &lt;fct&gt; |\n",
       "|---|---|---|---|---|\n",
       "| 40 | 140 | 289 | 172 | 0 |\n",
       "| 49 | 160 | 180 | 156 | 1 |\n",
       "| 37 | 130 | 283 |  98 | 0 |\n",
       "| ⋮ | ⋮ | ⋮ | ⋮ | ⋮ |\n",
       "| 57 | 130 | 131 | 115 | 1 |\n",
       "| 57 | 130 | 236 | 174 | 1 |\n",
       "| 38 | 138 | 175 | 173 | 0 |\n",
       "\n"
      ],
      "text/plain": [
       "    Age RestingBP Cholesterol MaxHR HeartDisease\n",
       "1   40  140       289         172   0           \n",
       "2   49  160       180         156   1           \n",
       "3   37  130       283          98   0           \n",
       "⋮   ⋮   ⋮         ⋮           ⋮     ⋮           \n",
       "744 57  130       131         115   1           \n",
       "745 57  130       236         174   1           \n",
       "746 38  138       175         173   0           "
      ]
     },
     "metadata": {},
     "output_type": "display_data"
    }
   ],
   "source": [
    "#Convert the character class variable to the factor data type\n",
    "data_heart <- heartdisease_data|>\n",
    "        mutate(HeartDisease = as.factor(HeartDisease))|>\n",
    "        select(Age, RestingBP, Cholesterol, MaxHR, HeartDisease)\n",
    "data_heart"
   ]
  },
  {
   "cell_type": "markdown",
   "id": "d85ad7a6-1326-4b32-b7e3-5b8dac26e1d3",
   "metadata": {},
   "source": [
    "## Spliting data\n",
    "Spliting the data into training set and testing set, 75% of the data in the training set"
   ]
  },
  {
   "cell_type": "code",
   "execution_count": 6,
   "id": "9ab2c0d5-cacc-4544-8921-7ce2867f9577",
   "metadata": {},
   "outputs": [
    {
     "ename": "ERROR",
     "evalue": "Error in parse(text = x, srcfile = src): <text>:1:4: unexpected symbol\n1: do we\n       ^\n",
     "output_type": "error",
     "traceback": [
      "Error in parse(text = x, srcfile = src): <text>:1:4: unexpected symbol\n1: do we\n       ^\nTraceback:\n"
     ]
    }
   ],
   "source": [
    "do we need seed here or the one above is enough\n",
    "farase said dont put seed in this cell but check again \n",
    "check with TA? BUT I do not think so"
   ]
  },
  {
   "cell_type": "code",
   "execution_count": 7,
   "id": "a19d163d-3adc-404c-a937-6b3e005aeae5",
   "metadata": {},
   "outputs": [
    {
     "data": {
      "text/html": [
       "<table class=\"dataframe\">\n",
       "<caption>A tibble: 559 × 5</caption>\n",
       "<thead>\n",
       "\t<tr><th scope=col>Age</th><th scope=col>RestingBP</th><th scope=col>Cholesterol</th><th scope=col>MaxHR</th><th scope=col>HeartDisease</th></tr>\n",
       "\t<tr><th scope=col>&lt;dbl&gt;</th><th scope=col>&lt;dbl&gt;</th><th scope=col>&lt;dbl&gt;</th><th scope=col>&lt;dbl&gt;</th><th scope=col>&lt;fct&gt;</th></tr>\n",
       "</thead>\n",
       "<tbody>\n",
       "\t<tr><td>37</td><td>130</td><td>283</td><td> 98</td><td>0</td></tr>\n",
       "\t<tr><td>39</td><td>120</td><td>339</td><td>170</td><td>0</td></tr>\n",
       "\t<tr><td>45</td><td>130</td><td>237</td><td>170</td><td>0</td></tr>\n",
       "\t<tr><td>⋮</td><td>⋮</td><td>⋮</td><td>⋮</td><td>⋮</td></tr>\n",
       "\t<tr><td>45</td><td>110</td><td>264</td><td>132</td><td>1</td></tr>\n",
       "\t<tr><td>68</td><td>144</td><td>193</td><td>141</td><td>1</td></tr>\n",
       "\t<tr><td>57</td><td>130</td><td>131</td><td>115</td><td>1</td></tr>\n",
       "</tbody>\n",
       "</table>\n"
      ],
      "text/latex": [
       "A tibble: 559 × 5\n",
       "\\begin{tabular}{lllll}\n",
       " Age & RestingBP & Cholesterol & MaxHR & HeartDisease\\\\\n",
       " <dbl> & <dbl> & <dbl> & <dbl> & <fct>\\\\\n",
       "\\hline\n",
       "\t 37 & 130 & 283 &  98 & 0\\\\\n",
       "\t 39 & 120 & 339 & 170 & 0\\\\\n",
       "\t 45 & 130 & 237 & 170 & 0\\\\\n",
       "\t ⋮ & ⋮ & ⋮ & ⋮ & ⋮\\\\\n",
       "\t 45 & 110 & 264 & 132 & 1\\\\\n",
       "\t 68 & 144 & 193 & 141 & 1\\\\\n",
       "\t 57 & 130 & 131 & 115 & 1\\\\\n",
       "\\end{tabular}\n"
      ],
      "text/markdown": [
       "\n",
       "A tibble: 559 × 5\n",
       "\n",
       "| Age &lt;dbl&gt; | RestingBP &lt;dbl&gt; | Cholesterol &lt;dbl&gt; | MaxHR &lt;dbl&gt; | HeartDisease &lt;fct&gt; |\n",
       "|---|---|---|---|---|\n",
       "| 37 | 130 | 283 |  98 | 0 |\n",
       "| 39 | 120 | 339 | 170 | 0 |\n",
       "| 45 | 130 | 237 | 170 | 0 |\n",
       "| ⋮ | ⋮ | ⋮ | ⋮ | ⋮ |\n",
       "| 45 | 110 | 264 | 132 | 1 |\n",
       "| 68 | 144 | 193 | 141 | 1 |\n",
       "| 57 | 130 | 131 | 115 | 1 |\n",
       "\n"
      ],
      "text/plain": [
       "    Age RestingBP Cholesterol MaxHR HeartDisease\n",
       "1   37  130       283          98   0           \n",
       "2   39  120       339         170   0           \n",
       "3   45  130       237         170   0           \n",
       "⋮   ⋮   ⋮         ⋮           ⋮     ⋮           \n",
       "557 45  110       264         132   1           \n",
       "558 68  144       193         141   1           \n",
       "559 57  130       131         115   1           "
      ]
     },
     "metadata": {},
     "output_type": "display_data"
    },
    {
     "data": {
      "text/html": [
       "<table class=\"dataframe\">\n",
       "<caption>A tibble: 2 × 3</caption>\n",
       "<thead>\n",
       "\t<tr><th scope=col>HeartDisease</th><th scope=col>n</th><th scope=col>percent</th></tr>\n",
       "\t<tr><th scope=col>&lt;fct&gt;</th><th scope=col>&lt;int&gt;</th><th scope=col>&lt;dbl&gt;</th></tr>\n",
       "</thead>\n",
       "<tbody>\n",
       "\t<tr><td>0</td><td>292</td><td>52.23614</td></tr>\n",
       "\t<tr><td>1</td><td>267</td><td>47.76386</td></tr>\n",
       "</tbody>\n",
       "</table>\n"
      ],
      "text/latex": [
       "A tibble: 2 × 3\n",
       "\\begin{tabular}{lll}\n",
       " HeartDisease & n & percent\\\\\n",
       " <fct> & <int> & <dbl>\\\\\n",
       "\\hline\n",
       "\t 0 & 292 & 52.23614\\\\\n",
       "\t 1 & 267 & 47.76386\\\\\n",
       "\\end{tabular}\n"
      ],
      "text/markdown": [
       "\n",
       "A tibble: 2 × 3\n",
       "\n",
       "| HeartDisease &lt;fct&gt; | n &lt;int&gt; | percent &lt;dbl&gt; |\n",
       "|---|---|---|\n",
       "| 0 | 292 | 52.23614 |\n",
       "| 1 | 267 | 47.76386 |\n",
       "\n"
      ],
      "text/plain": [
       "  HeartDisease n   percent \n",
       "1 0            292 52.23614\n",
       "2 1            267 47.76386"
      ]
     },
     "metadata": {},
     "output_type": "display_data"
    }
   ],
   "source": [
    "set.seed(123)\n",
    "heart_split <- initial_split(data_heart, prop = 0.75, strata = HeartDisease) \n",
    "heart_train <- training(heart_split)   \n",
    "heart_test <- testing(heart_split)\n",
    "                     \n",
    "heartdisease_proportions <- heart_train |>\n",
    "    group_by(HeartDisease) |>\n",
    "    summarize (n = n()) |>\n",
    "    mutate (percent = 100*n/nrow(heart_train))\n",
    "                     \n",
    "heart_train\n",
    "heartdisease_proportions\n"
   ]
  },
  {
   "cell_type": "code",
   "execution_count": 8,
   "id": "e372a778-3846-4403-8511-35f5e2661e85",
   "metadata": {},
   "outputs": [
    {
     "ename": "ERROR",
     "evalue": "Error in parse(text = x, srcfile = src): <text>:1:9: unexpected symbol\n1: explain the\n            ^\n",
     "output_type": "error",
     "traceback": [
      "Error in parse(text = x, srcfile = src): <text>:1:9: unexpected symbol\n1: explain the\n            ^\nTraceback:\n"
     ]
    }
   ],
   "source": [
    "explain the heart diseas percentage and n in words"
   ]
  },
  {
   "cell_type": "markdown",
   "id": "6b76c815-9081-4e47-857c-bc8363e82f80",
   "metadata": {},
   "source": [
    "## Table"
   ]
  },
  {
   "cell_type": "markdown",
   "id": "f6825081-6019-4cdf-90e3-34f2795bd57c",
   "metadata": {},
   "source": [
    "Table summary of the predictors and their numerical distribution (mean and variance) in each class of the target variable (0 = Normal, 1 = Diseased)"
   ]
  },
  {
   "cell_type": "code",
   "execution_count": null,
   "id": "0c7a8e6d-9c04-4566-bc17-eddfe3708a3e",
   "metadata": {},
   "outputs": [],
   "source": [
    "nheart <- heart_train |>\n",
    "        group_by(HeartDisease)|>\n",
    "        summarize(Observation=n())\n",
    "\n",
    "table_1 <- heart_train|>\n",
    "    group_by(HeartDisease)|>\n",
    "    summarize(across(Age:MaxHR, mean, na.rm=TRUE)) \n",
    "mean_heart_disease <- merge(table_1,nheart) |>\n",
    "    rename(Avg_Age = Age, Avg_RestingBP = RestingBP, Avg_Cholesterol = Cholesterol, Avg_MaxHR = MaxHR)\n",
    "\n",
    "table_2 <- heart_train|>\n",
    "        group_by(HeartDisease)|>\n",
    "        summarize(across(Age:MaxHR, var, na.rm=TRUE)) \n",
    "variance_heart_disease <- merge(table_2,nheart) |>\n",
    "    rename(var_Age = Age, var_RestingBP = RestingBP, var_Cholesterol = Cholesterol, var_MaxHR = MaxHR) \n",
    "\n",
    "\n",
    "mean_heart_disease\n",
    "variance_heart_disease"
   ]
  },
  {
   "cell_type": "markdown",
   "id": "f68e81d9-8445-4c55-b869-db6616df5ae3",
   "metadata": {},
   "source": [
    "The maen of each variables that are used for the heart disease prediction are measured to demonstrate the data's center point of the distribution of random variables. The variance of each variables are also measured to display the relative relationship of individual observation to each others within the data set. "
   ]
  },
  {
   "cell_type": "code",
   "execution_count": null,
   "id": "60fb3ca4-9f7b-4060-a4f2-13eb4829350f",
   "metadata": {},
   "outputs": [],
   "source": [
    " Double check ????"
   ]
  },
  {
   "cell_type": "markdown",
   "id": "e09afabe-6935-456d-9e03-18ebdd1b848c",
   "metadata": {},
   "source": [
    "## Visualization "
   ]
  },
  {
   "cell_type": "markdown",
   "id": "8b2490d4-4c2d-4653-adb8-b37caaf030cf",
   "metadata": {},
   "source": [
    "Visualizing the data in order to find any potential correlation between predictors and their effect on the classification of the target value."
   ]
  },
  {
   "cell_type": "markdown",
   "id": "6b342e6f-7941-423c-bda2-0e2aabcf8b91",
   "metadata": {},
   "source": [
    "The variables are also standardized because the axis "
   ]
  },
  {
   "cell_type": "code",
   "execution_count": null,
   "id": "10959fdd-86f7-4e96-af8f-c2436faec925",
   "metadata": {},
   "outputs": [],
   "source": [
    "complete the sentence abve\n",
    "why do we standarize talk about two things: the mean and the sd\n"
   ]
  },
  {
   "cell_type": "code",
   "execution_count": null,
   "id": "7e59223b-b1a0-46f1-ba24-3d91046d40a1",
   "metadata": {},
   "outputs": [],
   "source": [
    "data_train_recipe <- recipe(HeartDisease ~ ., data= heart_train)|>\n",
    "    step_scale(all_predictors())|>\n",
    "    step_center(all_predictors()) |>\n",
    "    prep()\n",
    "data_train_recipe\n",
    "\n",
    "scaled_heart <- bake(data_train_recipe, heart_train)\n",
    "scaled_heart"
   ]
  },
  {
   "cell_type": "code",
   "execution_count": 10,
   "id": "d123ae13-9df4-4601-9de5-803610e77575",
   "metadata": {},
   "outputs": [
    {
     "ename": "ERROR",
     "evalue": "Error in ggplot(scaled_heart, aes(x = Age, y = Cholesterol, color = HeartDisease)): object 'scaled_heart' not found\n",
     "output_type": "error",
     "traceback": [
      "Error in ggplot(scaled_heart, aes(x = Age, y = Cholesterol, color = HeartDisease)): object 'scaled_heart' not found\nTraceback:\n",
      "1. ggplot(scaled_heart, aes(x = Age, y = Cholesterol, color = HeartDisease))"
     ]
    }
   ],
   "source": [
    "options(repr.plot.width = 15, repr.plot.height = 8) \n",
    "\n",
    "#scaterplot resting blood pressure and age \n",
    "agevsbp <- ggplot(scaled_heart, aes(x = Age, y = Cholesterol, color = HeartDisease)) +\n",
    "      geom_point( alpha = 0.8) +\n",
    "      xlab(\"Age (standarized)\") +\n",
    "      ylab(\"Serum Cholesterol (standarized) \") +\n",
    "        labs(color= \"Heart Disease Status\")+\n",
    "      theme(text = element_text(size = 15),\n",
    "        legend.position = \"right\",\n",
    "        legend.direction = \"vertical\") +\n",
    "        scale_color_manual(labels = c(\"Healthy\",\"Diseased\"),\n",
    "                           values= c(\"steelblue2\",\"orange2\"))+\n",
    "        ggtitle(\"Distribution of the Heart Disease Cases \\n Based on Age and Blood Cholesterol\") \n",
    " agevsbp     "
   ]
  },
  {
   "cell_type": "markdown",
   "id": "66480725-baa1-4128-839e-26cdb371e78e",
   "metadata": {},
   "source": [
    "Figure 1: Scatter plot of Serum Cholesterol versus Age colored by heart disease status label"
   ]
  },
  {
   "cell_type": "code",
   "execution_count": 9,
   "id": "45ded82a-ed4c-4fdb-86e5-2a1c7c729396",
   "metadata": {},
   "outputs": [
    {
     "ename": "ERROR",
     "evalue": "Error in parse(text = x, srcfile = src): <text>:1:9: unexpected symbol\n1: explain the\n            ^\n",
     "output_type": "error",
     "traceback": [
      "Error in parse(text = x, srcfile = src): <text>:1:9: unexpected symbol\n1: explain the\n            ^\nTraceback:\n"
     ]
    }
   ],
   "source": [
    "explain the relationship and whta we expect"
   ]
  },
  {
   "cell_type": "code",
   "execution_count": null,
   "id": "43f9a183-2eb8-4b2d-8cc8-efa31ac98e44",
   "metadata": {},
   "outputs": [],
   "source": [
    "options(repr.plot.width = 15, repr.plot.height = 8) \n",
    "cholvshr <- ggplot(scaled_heart, aes(x = RestingBP, y = MaxHR, color = HeartDisease)) +\n",
    "      geom_point(alpha = 0.7) +\n",
    "      xlab(\"Resting Blood Pressure (standarized)\") +\n",
    "      ylab(\"Maximum Heart Rate Achieved \\n (standarized)\") +\n",
    "      labs(color= \"Heart Disease Status\")+\n",
    "      theme(text = element_text(size = 15),\n",
    "        legend.position = \"right\",\n",
    "        legend.direction = \"vertical\") +\n",
    "        scale_color_manual(labels = c(\"Healthy\",\"Diseased\"),\n",
    "                           values= c(\"steelblue2\",\"orange2\"))+\n",
    "        ggtitle(\"Distribution of the Heart Disease Cases \\n Based on maximum heart rate and resting blood pressure\")\n",
    "cholvshr"
   ]
  },
  {
   "cell_type": "markdown",
   "id": "e54e2413-0339-4317-a575-a300e3b478b7",
   "metadata": {},
   "source": [
    "Figure 2: Scatter plot of maximum heart rate achieved versus resting blood pressure  colored by heart disease status label"
   ]
  },
  {
   "cell_type": "code",
   "execution_count": null,
   "id": "ef5e53c6-dda8-49be-aec3-3ff8cfa8e6aa",
   "metadata": {},
   "outputs": [],
   "source": [
    "explain the relationship and whta we expect"
   ]
  },
  {
   "cell_type": "code",
   "execution_count": null,
   "id": "8a7204c5-5587-4adc-9fc2-0761bfa5261a",
   "metadata": {},
   "outputs": [],
   "source": [
    "do we need this percentage below\n",
    "I dont think so"
   ]
  },
  {
   "cell_type": "markdown",
   "id": "9d5f4f71-6aa5-414e-9342-040987f15e57",
   "metadata": {},
   "source": [
    "### Percentage "
   ]
  },
  {
   "cell_type": "markdown",
   "id": "ae59982d-bcdc-4320-bb68-5477e196f1a4",
   "metadata": {},
   "source": [
    "Finding the ratio of each class of the target variable (0 = Normal, 1 = Diseased) in the total population."
   ]
  },
  {
   "cell_type": "code",
   "execution_count": null,
   "id": "87006948-13eb-4f9d-9eb5-004ede368417",
   "metadata": {},
   "outputs": [],
   "source": [
    "n_row <- nrow(heart_data)\n",
    "\n",
    "data_percentage <- heart_data |>\n",
    "    group_by(HeartDisease)|>\n",
    "    summarize(count=n(), percentage=n()/n_row*100)\n",
    "data_percentage\n",
    "\n",
    "n_row_train <- nrow(heart_train)\n",
    "\n",
    "data_train_percentage <- heart_train |>\n",
    "    group_by(HeartDisease)|>\n",
    "    summarize(count=n(), percentage=n()/n_row_train*100)\n",
    "data_train_percentage"
   ]
  },
  {
   "cell_type": "markdown",
   "id": "d63483d2-d86c-4bbb-a29a-491ae1e76bc2",
   "metadata": {},
   "source": [
    "### Determining the best k value (number of neighbors)"
   ]
  },
  {
   "cell_type": "code",
   "execution_count": null,
   "id": "04458fbd-cdbc-449f-8acb-e4e2fab8cdf6",
   "metadata": {},
   "outputs": [],
   "source": [
    " explain this"
   ]
  },
  {
   "cell_type": "code",
   "execution_count": null,
   "id": "0466567c-93b8-440d-8c88-3c0d7a29f7c4",
   "metadata": {},
   "outputs": [],
   "source": [
    "set.seed(123)\n",
    "\n",
    "data_vfold <- vfold_cv(heart_train, v = 10, strata = HeartDisease)\n",
    "\n",
    "knn_spec <- nearest_neighbor(weight_func = \"rectangular\", neighbors = tune()) |>\n",
    "        set_engine(\"kknn\") |>\n",
    "        set_mode(\"classification\")\n",
    "\n",
    "k_vals <- tibble(neighbors= seq(from= 1, to= 100, by= 5))\n",
    "\n",
    "knn_result <- workflow()|>\n",
    "    add_recipe(data_train_recipe)|>\n",
    "    add_model(knn_spec)|>\n",
    "    tune_grid(resamples=data_vfold, grid=k_vals)|>\n",
    "    collect_metrics()\n",
    "\n",
    "accuracies <- knn_result |>\n",
    "  filter(.metric == \"accuracy\")\n",
    "\n",
    "print(accuracies)"
   ]
  },
  {
   "cell_type": "code",
   "execution_count": null,
   "id": "3d050a17-6728-40d8-a98d-bc2d48c8d6e0",
   "metadata": {},
   "outputs": [],
   "source": [
    "accuracy_vs_k <- ggplot(accuracies, aes(x=neighbors, y=mean))+\n",
    "    geom_point()+\n",
    "    geom_line()+\n",
    "    labs(x = \"Neighbors\", y = \"Accuracy Estimate\") +\n",
    "    theme(text = element_text(size = 15))+\n",
    "    scale_x_continuous(breaks = seq(0, 100, by = 5))+  \n",
    "    scale_y_continuous(limits = c(0.6, 0.8), breaks=seq(0.6, 1, by=0.04))+\n",
    "    ggtitle (\"The correclation between number of neighbors and accuracy\")\n",
    "accuracy_vs_k"
   ]
  },
  {
   "cell_type": "markdown",
   "id": "7eb62fab-9948-4f7f-ac9a-5ce584192053",
   "metadata": {},
   "source": [
    "Figure 3: Plot of estimated accuracy versus the number of neighbors"
   ]
  },
  {
   "cell_type": "markdown",
   "id": "cdd651cb-ed62-4336-993d-703406cb216d",
   "metadata": {},
   "source": [
    "Setting the number of neighbors to K = 66 gives the highest accuracy (70.66%). However, values after k = 20 have a similar accuracy. Therefore, any selection from k= 20 to k= 95 can be reasonable but k = 66 is provides the highest accuracy. \n"
   ]
  },
  {
   "cell_type": "markdown",
   "id": "8cd87428-a409-47fe-9bb3-841862a96622",
   "metadata": {},
   "source": [
    "### Finding the accuracy of the model"
   ]
  },
  {
   "cell_type": "markdown",
   "id": "1b63add8-cdf5-4587-9d8a-8e641f70a7ee",
   "metadata": {},
   "source": [
    "???? explain"
   ]
  },
  {
   "cell_type": "code",
   "execution_count": null,
   "id": "85134e19-34f7-4bbc-b6fe-588a1418dc61",
   "metadata": {},
   "outputs": [],
   "source": [
    "maxmax<- accuracies|>\n",
    "    filter(mean == max(mean))\n",
    "maxmax"
   ]
  },
  {
   "cell_type": "markdown",
   "id": "d089e8d2-6a12-4931-8236-e1d85c6ad437",
   "metadata": {},
   "source": [
    "For prediction of heart disease the accuracy of the 70.66% is not a very good value for this data. Heart disease is very seriouse disease and cause a lot of death yearly so the accuracy for prediction of this data should be high. Therefore, this result suggest that prediction with these variable is not sufficient; however, it is also important to check the confusion matrix. "
   ]
  },
  {
   "cell_type": "code",
   "execution_count": null,
   "id": "0bc0844e-9831-4024-be75-b521092b5d95",
   "metadata": {},
   "outputs": [],
   "source": [
    "this one above is for k not the model"
   ]
  },
  {
   "cell_type": "code",
   "execution_count": null,
   "id": "0e902743-1570-4b09-a576-4eb711074249",
   "metadata": {},
   "outputs": [],
   "source": [
    "set.seed(123)\n",
    "\n",
    "mnist_spec <- nearest_neighbor(weight_func = \"rectangular\", neighbors = 66) |>\n",
    "       set_engine(\"kknn\") |>\n",
    "       set_mode(\"classification\")\n",
    "\n",
    "mnist_fit <- workflow() |>\n",
    "            add_recipe(data_train_recipe) |>\n",
    "            add_model(mnist_spec) |>\n",
    "            fit(data = heart_train)\n",
    "\n",
    "#mnist_accurate<- mnist_fit|>\n",
    " #   collect_metrics()|>\n",
    "  #          filter(.metric==\"accuracy\")\n",
    "\n",
    "\n",
    "\n",
    "#mnist_accurate"
   ]
  },
  {
   "cell_type": "code",
   "execution_count": null,
   "id": "f433cf52-8977-40e2-9943-c2a18f8489af",
   "metadata": {},
   "outputs": [],
   "source": [
    "\n",
    "mnist_predictions <- predict(mnist_fit, heart_test)|>\n",
    "        bind_cols(heart_test)\n",
    "\n",
    "mnist_predictions\n",
    "\n",
    "mnist_metrics <- mnist_predictions |>\n",
    "        metrics(truth=HeartDisease, estimate = .pred_class)\n",
    "\n",
    "mnist_metrics\n",
    "\n",
    "mnist_conf_mat <- mnist_predictions |>\n",
    "        conf_mat(truth = HeartDisease, estimate = .pred_class)\n",
    "\n",
    "mnist_conf_mat"
   ]
  },
  {
   "cell_type": "code",
   "execution_count": null,
   "id": "5696645b-d6e3-451f-abe3-a14a021ffc36",
   "metadata": {},
   "outputs": [],
   "source": [
    "explainn how good our model is"
   ]
  },
  {
   "cell_type": "code",
   "execution_count": null,
   "id": "902ef7a0-ce25-4d00-8c13-9b118c755e57",
   "metadata": {},
   "outputs": [],
   "source": [
    "put graphs toghether"
   ]
  },
  {
   "cell_type": "markdown",
   "id": "1d9e842c-0579-4ca8-8e3a-82ea4447cc44",
   "metadata": {},
   "source": [
    "The confusion matrix displays 68 observations were correctly predicted as healthy and 50 were correctly predicted as diseased. However, it shows 39 patients as healthy while they were diseased and 30 patients was predicted as diseased while they wear healthy. Therefore, the classifier predicts 118 (68 + 50) observations correctly, and it determines 69 (30 + 39) observations mistakenly. As a result, this confusion matrix suggests this prediction is not very helpful as 39 patients with heart disease was mistakenly diagnosed as healthy, and they may not receive further tests and treatments which is dangerous."
   ]
  },
  {
   "cell_type": "markdown",
   "id": "c2e3153d-8a7e-4e01-bdab-deb254b75efe",
   "metadata": {},
   "source": [
    "question could be how accurate could we predit only with ata chest pain"
   ]
  },
  {
   "cell_type": "markdown",
   "id": "4c077ade-b41e-44c7-ac39-9baa587dd67c",
   "metadata": {},
   "source": [
    "## Discussion:\n",
    "\n",
    "By developing this model, we expect to be able to predict heart disease, with a reasonable accuracy for application in healthcare, based on the biological determinants and symptoms observed in individuals. In particular, this model predicts the heart disease by taking some of the most important risk factors into consideration. It anticipates the presence, or the absence of the heart disease based on the combination of these numerical variables in a systemic approach, instead of relying on the personal judgement of a healthcare provider.\n",
    " Therefore, our model can lay the groundwork for designing a potential diagnostic tool assisting healthcare professionals to address life threatening heart diseases earlier and more accurately. \n",
    "Also, in our analysis, some relationships may be observed between heart disease and the predictors.\n",
    "These observations can lead the researchers to answer further questions like what the physiological\n",
    "mechanisms behind these relationships are. This model can be expanded by designing a model capable of predicting heart disease in individuals considering different types of chest pains and across different genders, which are the limitations of the current model.\n",
    "One the possible reasons for the relatively low accuracy of this model can be the potential confounding effects between some of the predictors that we were not able to address due the limitations of the model or the dataset. For example, in Figure 1, we can see that there is no correlation between the cholesterol level and the heart disease, which is not consistent with what is known medically. Thus, maybe the negative effect of high cholesterol in heart diseases can be observed when it is considered along with the amount of exercise (not numerical) or stress levels (not available in the dataset)."
   ]
  },
  {
   "cell_type": "markdown",
   "id": "8b6d253e-8e18-4c3a-a14c-2b7d9d15c2da",
   "metadata": {},
   "source": [
    "## Refrences\n",
    "1.Tsao CW, Aday AW, Almarzooq ZI, Beaton AZ, Bittencourt MS, Boehme AK, et al. Heart Disease and Stroke Statistics—2022 Update: A Report From the American Heart Association. Circulation. 2022;145(8):e153–e639.\n",
    "\n",
    "2.Tsao CW, Aday AW, Almarzooq ZI, Beaton AZ, Bittencourt MS, Boehme AK, et al. Heart Disease and Stroke Statistics—2022 Update: A Report From the American Heart Association. Circulation. 2022;145(8):e153–e639.\n",
    "\n",
    "3.Centers for Disease Control and Prevention, National Center for Health Statistics. About Multiple Cause of Death, 1999–2020. CDC WONDER Online Database website. Atlanta, GA: Centers for Disease Control and Prevention; 2022. Accessed February 21, 2022.\n",
    "\n",
    "4.fedesoriano. (September 2021). Heart Failure Prediction Dataset. Retrieved [Date Retrieved] from https://www.kaggle.com/fedesoriano/heart-failure-prediction.\n"
   ]
  }
 ],
 "metadata": {
  "kernelspec": {
   "display_name": "R",
   "language": "R",
   "name": "ir"
  },
  "language_info": {
   "codemirror_mode": "r",
   "file_extension": ".r",
   "mimetype": "text/x-r-source",
   "name": "R",
   "pygments_lexer": "r",
   "version": "4.1.3"
  }
 },
 "nbformat": 4,
 "nbformat_minor": 5
}
